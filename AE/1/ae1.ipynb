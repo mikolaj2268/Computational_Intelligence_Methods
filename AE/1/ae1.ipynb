{
 "cells": [
  {
   "cell_type": "code",
   "execution_count": 2,
   "metadata": {},
   "outputs": [
    {
     "name": "stdout",
     "output_type": "stream",
     "text": [
      "Optimizing x^2 + y^2 + 2z^2...\n",
      "Best individual:  [-0.00399649  0.00241136 -0.00015617]\n",
      "Fitness:  2.1835328574541083e-05\n",
      "\n",
      "Optimizing 5-dimensional Rastrigin function...\n",
      "Best individual:  [-0.99425258 -0.0316687   0.00359486  0.00222464 -0.01781858]\n",
      "Fitness:  1.2598442570149118\n"
     ]
    }
   ],
   "source": [
    "import numpy as np\n",
    "\n",
    "def fitness_function_1(individual):\n",
    "    x, y, z = individual\n",
    "    return x**2 + y**2 + 2*z**2\n",
    "\n",
    "def rastrigin(individual):\n",
    "    n = len(individual)\n",
    "    return 10*n + sum([(x**2 - 10 * np.cos(2 * np.pi * x)) for x in individual])\n",
    "\n",
    "def create_individual(dimensions, min_val=-1, max_val=1):\n",
    "    return np.random.uniform(min_val, max_val, dimensions)\n",
    "\n",
    "def mutate(individual, mutation_rate=0.01, std_dev=0.1):\n",
    "    for i in range(len(individual)):\n",
    "        if np.random.rand() < mutation_rate:\n",
    "            individual[i] += np.random.normal(0, std_dev)\n",
    "    return individual\n",
    "\n",
    "def crossover(parent1, parent2):\n",
    "    crossover_point = np.random.randint(1, len(parent1)-1)\n",
    "    child1 = np.concatenate((parent1[:crossover_point], parent2[crossover_point:]))\n",
    "    child2 = np.concatenate((parent2[:crossover_point], parent1[crossover_point:]))\n",
    "    return child1, child2\n",
    "\n",
    "def genetic_algorithm(fitness_function, dimensions, population_size=100, generations=100):\n",
    "    population = [create_individual(dimensions) for _ in range(population_size)]\n",
    "    for _ in range(generations):\n",
    "        population = sorted(population, key=fitness_function)\n",
    "        next_generation = population[:2]  # Elitism: keep the best 2 individuals\n",
    "        while len(next_generation) < population_size:\n",
    "            indices = np.random.choice(len(population), size=2, replace=False)\n",
    "            parent1, parent2 = population[indices[0]], population[indices[1]]\n",
    "            child1, child2 = crossover(parent1, parent2)\n",
    "            next_generation += [mutate(child1), mutate(child2)]\n",
    "        population = next_generation\n",
    "    best_individual = min(population, key=fitness_function)\n",
    "    return best_individual\n",
    "\n",
    "# Test the genetic algorithm on the two functions\n",
    "print(\"Optimizing x^2 + y^2 + 2z^2...\")\n",
    "best_individual = genetic_algorithm(fitness_function_1, dimensions=3)\n",
    "print(\"Best individual: \", best_individual)\n",
    "print(\"Fitness: \", fitness_function_1(best_individual))\n",
    "\n",
    "print(\"\\nOptimizing 5-dimensional Rastrigin function...\")\n",
    "best_individual = genetic_algorithm(rastrigin, dimensions=5)\n",
    "print(\"Best individual: \", best_individual)\n",
    "print(\"Fitness: \", rastrigin(best_individual))"
   ]
  },
  {
   "cell_type": "code",
   "execution_count": null,
   "metadata": {},
   "outputs": [],
   "source": []
  }
 ],
 "metadata": {
  "kernelspec": {
   "display_name": "Python 3",
   "language": "python",
   "name": "python3"
  },
  "language_info": {
   "codemirror_mode": {
    "name": "ipython",
    "version": 3
   },
   "file_extension": ".py",
   "mimetype": "text/x-python",
   "name": "python",
   "nbconvert_exporter": "python",
   "pygments_lexer": "ipython3",
   "version": "3.12.2"
  }
 },
 "nbformat": 4,
 "nbformat_minor": 2
}
