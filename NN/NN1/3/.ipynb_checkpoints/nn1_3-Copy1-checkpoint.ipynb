{
 "cells": [
  {
   "cell_type": "markdown",
   "metadata": {},
   "source": [
    "# Defining MLP"
   ]
  },
  {
   "cell_type": "code",
   "execution_count": 132,
   "metadata": {
    "ExecuteTime": {
     "end_time": "2024-03-18T08:53:51.071542Z",
     "start_time": "2024-03-18T08:53:51.068706Z"
    }
   },
   "outputs": [
    {
     "name": "stdout",
     "output_type": "stream",
     "text": [
      "/Users/mikolajmroz/Developer/Computational_Intelligence_Methods\n"
     ]
    }
   ],
   "source": [
    "import os\n",
    "os.chdir('/Users/mikolajmroz/Developer/Computational_Intelligence_Methods')\n",
    "print(os.getcwd())"
   ]
  },
  {
   "cell_type": "code",
   "execution_count": 169,
   "metadata": {
    "ExecuteTime": {
     "end_time": "2024-03-18T08:53:52.088570Z",
     "start_time": "2024-03-18T08:53:52.086491Z"
    }
   },
   "outputs": [],
   "source": [
    "import numpy as np\n",
    "import pandas as pd \n",
    "import matplotlib.pyplot as plt"
   ]
  },
  {
   "cell_type": "code",
   "execution_count": 134,
   "metadata": {
    "ExecuteTime": {
     "end_time": "2024-03-18T08:53:52.527883Z",
     "start_time": "2024-03-18T08:53:52.526151Z"
    }
   },
   "outputs": [],
   "source": [
    "def sigmoid(x):\n",
    "    return 1 / (1 + np.exp(-x))"
   ]
  },
  {
   "cell_type": "code",
   "execution_count": 173,
   "metadata": {
    "ExecuteTime": {
     "end_time": "2024-03-18T08:53:52.817712Z",
     "start_time": "2024-03-18T08:53:52.815195Z"
    }
   },
   "outputs": [],
   "source": [
    "def sigmoid_derivative(x):\n",
    "    # Corrected sigmoid derivative to properly compute the derivative\n",
    "    return sigmoid(x) * (1 - sigmoid(x))"
   ]
  },
  {
   "cell_type": "code",
   "execution_count": 174,
   "metadata": {
    "ExecuteTime": {
     "end_time": "2024-03-18T08:53:53.075063Z",
     "start_time": "2024-03-18T08:53:53.072920Z"
    }
   },
   "outputs": [],
   "source": [
    "def mse(predictions, targets):\n",
    "    return np.mean((predictions - targets) ** 2)"
   ]
  },
  {
   "cell_type": "code",
   "execution_count": 229,
   "metadata": {
    "ExecuteTime": {
     "end_time": "2024-03-18T08:53:53.342492Z",
     "start_time": "2024-03-18T08:53:53.331010Z"
    }
   },
   "outputs": [],
   "source": [
    "class MLP:\n",
    "    def __init__(self, sizes, activation_fn='sigmoid'):\n",
    "        self.layer_sizes = sizes\n",
    "        \n",
    "        # Initialize weights with He initialization and biases with zeros\n",
    "        self.layer_weights = [\n",
    "            np.random.randn(next_layer, prev_layer) * np.sqrt(2.0 / (prev_layer + next_layer))\n",
    "            for prev_layer, next_layer in zip(sizes[:-1], sizes[1:])\n",
    "        ]\n",
    "        self.layer_biases = [np.zeros((neurons, 1)) for neurons in sizes[1:]]\n",
    "\n",
    "    def display_weights_biases(self):\n",
    "        # Print the final weights and biases after training\n",
    "        print(\"Final Weights and Biases:\")\n",
    "        for layer_index, (weights, biases) in enumerate(zip(self.layer_weights, self.layer_biases)):\n",
    "            print(f\"Layer {layer_index + 1} Weights:\\n{weights}\")\n",
    "            print(f\"Layer {layer_index + 1} Biases:\\n{biases}\")\n",
    "\n",
    "    def propagate_forward(self, input_activation):\n",
    "        # Forward pass through the network to get the output\n",
    "        activations = [input_activation]  # Store all layer activations\n",
    "        for biases, weights in zip(self.layer_biases[:-1], self.layer_weights[:-1]):\n",
    "            input_activation = sigmoid(np.dot(weights, input_activation) + biases)\n",
    "            activations.append(input_activation)\n",
    "        # Apply linear activation for the last layer\n",
    "        input_activation = np.dot(self.layer_weights[-1], input_activation) + self.layer_biases[-1]\n",
    "        activations.append(input_activation)\n",
    "        return activations[-1], activations\n",
    "\n",
    "    def backward_propagation(self, input_val, true_val):\n",
    "        # Backpropagate error and calculate gradient for weights and biases\n",
    "        weight_gradients = [np.zeros(weight.shape) for weight in self.layer_weights]\n",
    "        bias_gradients = [np.zeros(bias.shape) for bias in self.layer_biases]\n",
    "        final_act, acts = self.propagate_forward(input_val)\n",
    "        z_values = [np.dot(weight, act) + bias for weight, bias, act in zip(self.layer_weights, self.layer_biases, acts[:-1])]\n",
    "\n",
    "        # Calculate error at the output layer\n",
    "        error = self.cost_derivative(final_act, true_val)\n",
    "        bias_gradients[-1] = error\n",
    "        weight_gradients[-1] = np.dot(error, acts[-2].T)\n",
    "\n",
    "        # Backpropagate the error to previous layers\n",
    "        for l in range(2, len(self.layer_sizes)):\n",
    "            sigmoid_grad = sigmoid_derivative(z_values[-l])\n",
    "            error = np.dot(self.layer_weights[-l + 1].T, error) * sigmoid_grad\n",
    "            bias_gradients[-l] = error\n",
    "            weight_gradients[-l] = np.dot(error, acts[-l - 1].T)\n",
    "\n",
    "        return weight_gradients, bias_gradients\n",
    "\n",
    "    def update_batch(self, batch, learn_rate, regularization, total_size, optimization_method, beta, epsilon=None):\n",
    "        gradient_w = [np.zeros(weight.shape) for weight in self.layer_weights]\n",
    "        gradient_b = [np.zeros(bias.shape) for bias in self.layer_biases]\n",
    "        for input_val, true_val in batch:\n",
    "            delta_gradient_w, delta_gradient_b = self.backward_propagation(input_val, true_val)\n",
    "            gradient_w = [w + dw for w, dw in zip(gradient_w, delta_gradient_w)]\n",
    "            gradient_b = [b + db for b, db in zip(gradient_b, delta_gradient_b)]\n",
    "\n",
    "        if optimization_method == 'momentum':\n",
    "            if not hasattr(self, 'velocity_weights'):\n",
    "                self.velocity_weights = [np.zeros_like(w) for w in self.layer_weights]\n",
    "                self.velocity_biases = [np.zeros_like(b) for b in self.layer_biases]\n",
    "                \n",
    "            self.velocity_weights = [beta * vw + (1 - beta) * gw for vw, gw in zip(self.velocity_weights, gradient_w)]\n",
    "            self.velocity_biases = [beta * vb + (1 - beta) * gb for vb, gb in zip(self.velocity_biases, gradient_b)]\n",
    "            self.layer_weights = [(1 - learn_rate * (regularization / total_size)) * w - learn_rate * vw\n",
    "                                  for w, vw in zip(self.layer_weights, self.velocity_weights)]\n",
    "            self.layer_biases = [b - learn_rate * vb for b, vb in zip(self.layer_biases, self.velocity_biases)]\n",
    "            \n",
    "        elif optimization_method == 'rmsprop':\n",
    "            if not hasattr(self, 'squared_gradients_weights'):\n",
    "                self.squared_gradients_weights = [np.zeros_like(w) for w in self.layer_weights]\n",
    "                self.squared_gradients_biases = [np.zeros_like(b) for b in self.layer_biases]\n",
    "                \n",
    "            self.squared_gradients_weights = [beta * sgw + (1 - beta) * (gw**2)\n",
    "                                              for sgw, gw in zip(self.squared_gradients_weights, gradient_w)]\n",
    "            self.squared_gradients_biases = [beta * sgb + (1 - beta) * (gb**2)\n",
    "                                             for sgb, gb in zip(self.squared_gradients_biases, gradient_b)]\n",
    "            self.layer_weights = [(1 - learn_rate * (regularization / total_size)) * w - \n",
    "                                  (learn_rate / (np.sqrt(sgw) + epsilon)) * gw\n",
    "                                  for w, sgw, gw in zip(self.layer_weights, self.squared_gradients_weights, gradient_w)]\n",
    "            self.layer_biases = [b - (learn_rate / (np.sqrt(sgb) + epsilon)) * gb\n",
    "                                 for b, sgb, gb in zip(self.layer_biases, self.squared_gradients_biases, gradient_b)]\n",
    "    \n",
    "    def train(self, training_set, epoch_count, learn_rate, batch_size_input, regularization=0.0,\n",
    "              visual_interval=100, optimization_method='momentum', beta=0.9, epsilon=1e-8, track_mse=True, X_val=None, y_val=None):\n",
    "        data_size = len(training_set)\n",
    "        rate_init = learn_rate\n",
    "        mse_history = []  # To store MSE values if tracking is enabled\n",
    "    \n",
    "        # Determine mini_batch_size based on input type\n",
    "        if isinstance(batch_size_input, float):  # Input is percentage\n",
    "            mini_batch_size = max(1, min(data_size, int(data_size * batch_size_input / 100)))\n",
    "        elif isinstance(batch_size_input, int):  # Input is fixed value\n",
    "            mini_batch_size = max(1, min(data_size, batch_size_input))\n",
    "        else:\n",
    "            raise ValueError(\"batch_size_input must be an integer (fixed size) or a float (percentage of dataset)\")\n",
    "        \n",
    "        for epoch in range(epoch_count):\n",
    "            np.random.shuffle(training_set)\n",
    "            mini_batches = [training_set[k:k + mini_batch_size] for k in range(0, data_size, mini_batch_size)]\n",
    "            for mini_batch in mini_batches:\n",
    "                self.update_batch(mini_batch, learn_rate, regularization, data_size, optimization_method, beta, epsilon)\n",
    "            \n",
    "            if track_mse and X_val is not None and y_val is not None:\n",
    "                # Assume a method to predict and calculate MSE exists; replace with actual implementation\n",
    "                mse = self.mse(X_val, y_val)  # Placeholder; actual MSE calculation\n",
    "                mse_history.append(mse)\n",
    "    \n",
    "            learn_rate = rate_init / (1 + 0.01 * epoch)\n",
    "    \n",
    "        return mse_history if track_mse else None\n",
    "\n",
    "\n",
    "\n",
    "\n",
    "    def cost_derivative(self, output_acts, true_val):\n",
    "        # Calculate the derivative of the cost function\n",
    "        return (output_acts - true_val)\n",
    "\n",
    "    \n",
    "    \n",
    "    \n",
    "    # def visualize_weights(self):\n",
    "    #     # Visualize how the weights change over time during training\n",
    "    #     epochs, layer_weights = zip(*self.weight_history)\n",
    "    #     for layer_index, weights in enumerate(zip(*layer_weights)):\n",
    "    #         plt.plot(epochs, [np.mean(np.abs(weight)) for weight in weights], label=f'Layer {layer_index + 1}')\n",
    "        \n",
    "    #     plt.xlabel('Epoch')\n",
    "    #     plt.ylabel('Average Absolute Weight')\n",
    "    #     plt.title('Weight Change Over Time')\n",
    "    #     plt.legend()\n",
    "    #     plt.show()\n"
   ]
  },
  {
   "cell_type": "code",
   "execution_count": 230,
   "metadata": {
    "ExecuteTime": {
     "end_time": "2024-03-18T08:53:53.573784Z",
     "start_time": "2024-03-18T08:53:53.569789Z"
    },
    "collapsed": false,
    "jupyter": {
     "outputs_hidden": false
    }
   },
   "outputs": [],
   "source": [
    "class DataScaler:\n",
    "    def __init__(self, method=\"standardization\"):\n",
    "        self.method = method\n",
    "        self.min = None\n",
    "        self.max = None\n",
    "        self.mean = None\n",
    "        self.std = None\n",
    "\n",
    "    def fit_transform(self, data):\n",
    "        if self.method == \"min_max\":\n",
    "            return self.fit_transform_min_max(data)\n",
    "        elif self.method == \"standardization\":\n",
    "            return self.fit_transform_standardization(data)\n",
    "        else:\n",
    "            raise ValueError(\"Unsupported scaling method\")\n",
    "\n",
    "    def transform(self, data):\n",
    "        if self.method == \"min_max\":\n",
    "            return self.transform_min_max(data)\n",
    "        elif self.method == \"standardization\":\n",
    "            return self.transform_standardization(data)\n",
    "        else:\n",
    "            raise ValueError(\"Unsupported scaling method\")\n",
    "\n",
    "    def inverse_transform(self, data):\n",
    "        if self.method == \"min_max\":\n",
    "            return self.inverse_transform_min_max(data)\n",
    "        elif self.method == \"standardization\":\n",
    "            return self.inverse_transform_standardization(data)\n",
    "        else:\n",
    "            raise ValueError(\"Unsupported scaling method\")\n",
    "\n",
    "    def fit_transform_min_max(self, data):\n",
    "        self.min = np.min(data, axis=0)\n",
    "        self.max = np.max(data, axis=0)\n",
    "        return (data - self.min) / (self.max - self.min)\n",
    "\n",
    "    def transform_min_max(self, data):\n",
    "        return (data - self.min) / (self.max - self.min)\n",
    "\n",
    "    def inverse_transform_min_max(self, data):\n",
    "        return data * (self.max - self.min) + self.min\n",
    "\n",
    "    def fit_transform_standardization(self, data):\n",
    "        self.mean = np.mean(data, axis=0)\n",
    "        self.std = np.std(data, axis=0)\n",
    "        return (data - self.mean) / self.std\n",
    "\n",
    "    def transform_standardization(self, data):\n",
    "        return (data - self.mean) / self.std\n",
    "\n",
    "    def inverse_transform_standardization(self, data):\n",
    "        return data * self.std + self.mean"
   ]
  },
  {
   "cell_type": "code",
   "execution_count": 231,
   "metadata": {},
   "outputs": [],
   "source": [
    "def plot_mse(mse_history):\n",
    "    plt.plot(mse_history)\n",
    "    plt.title('MSE Over Epochs')\n",
    "    plt.xlabel('Epoch')\n",
    "    plt.ylabel('Mean Squared Error')\n",
    "    plt.show()"
   ]
  },
  {
   "cell_type": "markdown",
   "metadata": {},
   "source": [
    "# Loading data"
   ]
  },
  {
   "cell_type": "code",
   "execution_count": 232,
   "metadata": {
    "ExecuteTime": {
     "end_time": "2024-03-18T08:58:02.491238Z",
     "start_time": "2024-03-18T08:58:02.485298Z"
    }
   },
   "outputs": [],
   "source": [
    "df_train_square_large = pd.read_csv('./data/regression/square-large-training.csv')\n",
    "df_test_square_large = pd.read_csv('./data/regression/square-large-test.csv')"
   ]
  },
  {
   "cell_type": "code",
   "execution_count": 233,
   "metadata": {
    "ExecuteTime": {
     "end_time": "2024-03-18T08:58:02.635390Z",
     "start_time": "2024-03-18T08:58:02.628870Z"
    }
   },
   "outputs": [],
   "source": [
    "df_train_steps_large = pd.read_csv('./data/regression/steps-large-training.csv')\n",
    "df_test_steps_large = pd.read_csv('./data/regression/steps-large-test.csv')"
   ]
  },
  {
   "cell_type": "code",
   "execution_count": 234,
   "metadata": {
    "ExecuteTime": {
     "end_time": "2024-03-18T08:58:02.785722Z",
     "start_time": "2024-03-18T08:58:02.779133Z"
    },
    "collapsed": false,
    "jupyter": {
     "outputs_hidden": false
    }
   },
   "outputs": [],
   "source": [
    "df_train_multimodal_large = pd.read_csv('./data/regression/multimodal-large-training.csv')\n",
    "df_test_multimodal_large = pd.read_csv('./data/regression/multimodal-large-test.csv')"
   ]
  },
  {
   "cell_type": "code",
   "execution_count": 235,
   "metadata": {
    "ExecuteTime": {
     "end_time": "2024-03-18T08:58:02.923424Z",
     "start_time": "2024-03-18T08:58:02.921539Z"
    }
   },
   "outputs": [],
   "source": [
    "X_train_square_large = df_train_square_large['x'].values.reshape(-1, 1)\n",
    "y_train_square_large = df_train_square_large['y'].values.reshape(-1, 1)"
   ]
  },
  {
   "cell_type": "code",
   "execution_count": 236,
   "metadata": {
    "ExecuteTime": {
     "end_time": "2024-03-18T08:58:03.080163Z",
     "start_time": "2024-03-18T08:58:03.078207Z"
    }
   },
   "outputs": [],
   "source": [
    "X_test_square_large = df_test_square_large['x'].values.reshape(-1, 1)\n",
    "y_test_square_large = df_test_square_large['y'].values.reshape(-1, 1)"
   ]
  },
  {
   "cell_type": "code",
   "execution_count": 237,
   "metadata": {
    "ExecuteTime": {
     "end_time": "2024-03-18T08:58:03.220354Z",
     "start_time": "2024-03-18T08:58:03.218528Z"
    }
   },
   "outputs": [],
   "source": [
    "X_train_steps_large = df_train_steps_large['x'].values.reshape(-1, 1)\n",
    "y_train_steps_large = df_train_steps_large['y'].values.reshape(-1, 1)"
   ]
  },
  {
   "cell_type": "code",
   "execution_count": 238,
   "metadata": {
    "ExecuteTime": {
     "end_time": "2024-03-18T08:58:03.365428Z",
     "start_time": "2024-03-18T08:58:03.363521Z"
    }
   },
   "outputs": [],
   "source": [
    "X_test_steps_large = df_test_steps_large['x'].values.reshape(-1, 1)\n",
    "y_test_steps_large = df_test_steps_large['y'].values.reshape(-1, 1)"
   ]
  },
  {
   "cell_type": "code",
   "execution_count": 239,
   "metadata": {
    "ExecuteTime": {
     "end_time": "2024-03-18T08:58:03.530040Z",
     "start_time": "2024-03-18T08:58:03.528065Z"
    },
    "collapsed": false,
    "jupyter": {
     "outputs_hidden": false
    }
   },
   "outputs": [],
   "source": [
    "X_train_multimodal_large = df_train_multimodal_large['x'].values.reshape(-1, 1)\n",
    "y_train_multimodal_large = df_train_multimodal_large['y'].values.reshape(-1, 1)"
   ]
  },
  {
   "cell_type": "code",
   "execution_count": 240,
   "metadata": {
    "ExecuteTime": {
     "end_time": "2024-03-18T08:58:03.736892Z",
     "start_time": "2024-03-18T08:58:03.734832Z"
    },
    "collapsed": false,
    "jupyter": {
     "outputs_hidden": false
    }
   },
   "outputs": [],
   "source": [
    "X_test_multimodal_large = df_test_multimodal_large['x'].values.reshape(-1, 1)\n",
    "y_test_multimodal_large = df_test_multimodal_large['y'].values.reshape(-1, 1)"
   ]
  },
  {
   "cell_type": "markdown",
   "metadata": {},
   "source": [
    "### square-large dataset"
   ]
  },
  {
   "cell_type": "code",
   "execution_count": 241,
   "metadata": {
    "ExecuteTime": {
     "end_time": "2024-03-18T08:58:04.076928Z",
     "start_time": "2024-03-18T08:58:04.075111Z"
    },
    "collapsed": false,
    "jupyter": {
     "outputs_hidden": false
    }
   },
   "outputs": [],
   "source": [
    "scaler_X = DataScaler(\"standardization\")\n",
    "scaler_y = DataScaler(\"standardization\")"
   ]
  },
  {
   "cell_type": "code",
   "execution_count": 242,
   "metadata": {
    "ExecuteTime": {
     "end_time": "2024-03-18T08:58:04.410581Z",
     "start_time": "2024-03-18T08:58:04.408039Z"
    },
    "collapsed": false,
    "jupyter": {
     "outputs_hidden": false
    }
   },
   "outputs": [],
   "source": [
    "# Fit and transform the training data\n",
    "X_train_scaled = scaler_X.fit_transform(X_train_square_large)\n",
    "y_train_scaled = scaler_y.fit_transform(y_train_square_large)\n"
   ]
  },
  {
   "cell_type": "code",
   "execution_count": 243,
   "metadata": {
    "ExecuteTime": {
     "end_time": "2024-03-18T08:58:05.495484Z",
     "start_time": "2024-03-18T08:58:05.492823Z"
    }
   },
   "outputs": [],
   "source": [
    "training_data = [(x.reshape(-1, 1), y) for x, y in zip(X_train_square_large, y_train_square_large)]"
   ]
  },
  {
   "cell_type": "code",
   "execution_count": 244,
   "metadata": {
    "ExecuteTime": {
     "end_time": "2024-03-18T08:58:05.879286Z",
     "start_time": "2024-03-18T08:58:05.877213Z"
    }
   },
   "outputs": [],
   "source": [
    "mlp_square_1_5 = MLP([1, 6, 1] )"
   ]
  },
  {
   "cell_type": "code",
   "execution_count": 245,
   "metadata": {
    "ExecuteTime": {
     "end_time": "2024-03-18T08:58:06.216609Z",
     "start_time": "2024-03-18T08:58:06.214542Z"
    },
    "collapsed": false,
    "jupyter": {
     "outputs_hidden": false
    }
   },
   "outputs": [],
   "source": [
    "training_data_scaled = [\n",
    "    (x.reshape(-1, 1), y) for x, y in zip(X_train_scaled, y_train_scaled)\n",
    "]"
   ]
  },
  {
   "cell_type": "code",
   "execution_count": 246,
   "metadata": {
    "ExecuteTime": {
     "start_time": "2024-03-18T08:59:07.980020Z"
    },
    "collapsed": false,
    "is_executing": true,
    "jupyter": {
     "outputs_hidden": false
    }
   },
   "outputs": [],
   "source": [
    "mlp_square_1_5.train(\n",
    "    training_data_scaled, epoch_count=1000, learn_rate=0.01, batch_size_input=10,\n",
    "    optimization_method='rmsprop', beta=0.9, epsilon=1e-8\n",
    ")"
   ]
  },
  {
   "cell_type": "markdown",
   "metadata": {},
   "source": [
    "#### testing"
   ]
  },
  {
   "cell_type": "code",
   "execution_count": 170,
   "metadata": {},
   "outputs": [
    {
     "data": {
      "image/png": "[encoded data removed]",
      "text/plain": [
       "<Figure size 640x480 with 1 Axes>"
      ]
     },
     "metadata": {},
     "output_type": "display_data"
    }
   ],
   "source": [
    "plot_mse(mse_history)"
   ]
  },
  {
   "cell_type": "code",
   "execution_count": 171,
   "metadata": {},
   "outputs": [
    {
     "data": {
      "text/plain": [
       "[]"
      ]
     },
     "execution_count": 171,
     "metadata": {},
     "output_type": "execute_result"
    }
   ],
   "source": [
    "mse_history"
   ]
  },
  {
   "cell_type": "code",
   "execution_count": 163,
   "metadata": {
    "collapsed": false,
    "is_executing": true,
    "jupyter": {
     "outputs_hidden": false
    }
   },
   "outputs": [],
   "source": [
    "# Scale the test data using the transform method\n",
    "X_test_scaled = scaler_X.transform(X_test_square_large)"
   ]
  },
  {
   "cell_type": "code",
   "execution_count": 164,
   "metadata": {
    "collapsed": false,
    "is_executing": true,
    "jupyter": {
     "outputs_hidden": false
    }
   },
   "outputs": [],
   "source": [
    "# Generate predictions on the scaled test data\n",
    "predictions_scaled = np.array(\n",
    "    [mlp_square_1_5.propagate_forward(x.reshape(-1, 1))[0] for x in X_test_scaled]\n",
    ")"
   ]
  },
  {
   "cell_type": "code",
   "execution_count": 165,
   "metadata": {
    "is_executing": true
   },
   "outputs": [
    {
     "name": "stdout",
     "output_type": "stream",
     "text": [
      "predicted value:  [37.78869138] actual value:  [38.0481491]\n",
      "predicted value:  [-116.17486944] actual value:  [-116.30927998]\n",
      "predicted value:  [-22.88517452] actual value:  [-22.98888333]\n",
      "predicted value:  [163.6270185] actual value:  [163.49243459]\n",
      "predicted value:  [-50.90132994] actual value:  [-50.79309017]\n",
      "predicted value:  [25.94216528] actual value:  [26.14905307]\n",
      "predicted value:  [-96.02024523] actual value:  [-95.99910634]\n",
      "predicted value:  [-1.71178428] actual value:  [-1.67979449]\n",
      "predicted value:  [12.17096054] actual value:  [11.84130953]\n",
      "predicted value:  [-36.41316375] actual value:  [-36.5786339]\n",
      "predicted value:  [-49.65874563] actual value:  [-49.85187483]\n",
      "predicted value:  [-38.53731419] actual value:  [-38.70966897]\n",
      "predicted value:  [-89.75542315] actual value:  [-89.65420844]\n",
      "predicted value:  [143.87940403] actual value:  [151.89903669]\n",
      "predicted value:  [-86.13634555] actual value:  [-86.1941224]\n",
      "predicted value:  [161.08296471] actual value:  [172.6273849]\n",
      "predicted value:  [-100.37771979] actual value:  [-100.32110445]\n",
      "predicted value:  [-72.33434478] actual value:  [-72.17197075]\n",
      "predicted value:  [-113.53587243] actual value:  [-113.64601417]\n",
      "predicted value:  [128.2827801] actual value:  [128.27243858]\n",
      "predicted value:  [-83.6727638] actual value:  [-83.74861466]\n",
      "predicted value:  [-61.66669762] actual value:  [-61.84998947]\n",
      "predicted value:  [-61.92373775] actual value:  [-62.10643046]\n",
      "predicted value:  [-23.50093322] actual value:  [-23.59778146]\n",
      "predicted value:  [-117.86747455] actual value:  [-118.01604062]\n",
      "predicted value:  [-122.85153825] actual value:  [-122.71763816]\n",
      "predicted value:  [77.0616912] actual value:  [77.33467832]\n",
      "predicted value:  [-117.24142892] actual value:  [-117.09194257]\n",
      "predicted value:  [121.74596758] actual value:  [121.7773226]\n",
      "predicted value:  [-98.23243416] actual value:  [-98.19501262]\n",
      "predicted value:  [-42.90766646] actual value:  [-42.84874679]\n",
      "predicted value:  [-63.80719209] actual value:  [-63.98499359]\n",
      "predicted value:  [-15.70398018] actual value:  [-15.86723314]\n",
      "predicted value:  [-125.20104999] actual value:  [-125.38127315]\n",
      "predicted value:  [-74.42675035] actual value:  [-74.56084016]\n",
      "predicted value:  [-86.59638439] actual value:  [-86.65069026]\n",
      "predicted value:  [17.29530899] actual value:  [16.95951543]\n",
      "predicted value:  [-52.46964171] actual value:  [-52.66360937]\n",
      "predicted value:  [-86.8027387] actual value:  [-86.68422539]\n",
      "predicted value:  [-98.67255912] actual value:  [-98.6389582]\n",
      "predicted value:  [-9.7130706] actual value:  [-9.73543362]\n",
      "predicted value:  [-103.5642063] actual value:  [-103.57570396]\n",
      "predicted value:  [-62.44596553] actual value:  [-62.29238045]\n",
      "predicted value:  [-47.57294638] actual value:  [-47.48371089]\n",
      "predicted value:  [176.69471668] actual value:  [192.27905314]\n",
      "predicted value:  [-94.83593753] actual value:  [-94.82453406]\n",
      "predicted value:  [-42.12159167] actual value:  [-42.30353839]\n",
      "predicted value:  [-105.32762302] actual value:  [-105.23323233]\n",
      "predicted value:  [147.15128166] actual value:  [155.77393821]\n",
      "predicted value:  [-128.9492554] actual value:  [-128.92797208]\n",
      "predicted value:  [111.24158677] actual value:  [114.70140678]\n",
      "predicted value:  [-54.13869757] actual value:  [-54.01434023]\n",
      "predicted value:  [203.38385802] actual value:  [228.16989123]\n",
      "predicted value:  [-68.42451798] actual value:  [-68.58662664]\n",
      "predicted value:  [-2.93389264] actual value:  [-2.91029626]\n",
      "predicted value:  [62.29655405] actual value:  [62.58804891]\n",
      "predicted value:  [-115.9972213] actual value:  [-115.84933327]\n",
      "predicted value:  [-101.46645323] actual value:  [-101.45806902]\n",
      "predicted value:  [-84.27038793] actual value:  [-84.34193817]\n",
      "predicted value:  [-104.09968616] actual value:  [-104.11636591]\n",
      "predicted value:  [0.32115875] actual value:  [0.36712491]\n",
      "predicted value:  [211.09555479] actual value:  [211.56582438]\n",
      "predicted value:  [-129.47806164] actual value:  [-129.59650617]\n",
      "predicted value:  [121.01618513] actual value:  [125.5891127]\n",
      "predicted value:  [62.13115076] actual value:  [62.4172721]\n",
      "predicted value:  [93.71664063] actual value:  [93.92081166]\n",
      "predicted value:  [-64.15611505] actual value:  [-64.3329138]\n",
      "predicted value:  [71.31432342] actual value:  [71.60161957]\n",
      "predicted value:  [104.62727739] actual value:  [104.76917065]\n",
      "predicted value:  [-129.12464482] actual value:  [-129.2579797]\n",
      "predicted value:  [133.90217385] actual value:  [140.26034327]\n",
      "predicted value:  [-60.19420786] actual value:  [-60.38061519]\n",
      "predicted value:  [-55.22563603] actual value:  [-55.09642891]\n",
      "predicted value:  [-86.81136596] actual value:  [-86.6928992]\n",
      "predicted value:  [-110.88819832] actual value:  [-110.97243289]\n",
      "predicted value:  [-88.83757643] actual value:  [-88.73069377]\n",
      "predicted value:  [99.66015403] actual value:  [102.03837997]\n",
      "predicted value:  [-120.65577593] actual value:  [-120.51040906]\n",
      "predicted value:  [-35.32487416] actual value:  [-35.48648757]\n",
      "predicted value:  [-129.57052579] actual value:  [-129.58363677]\n",
      "predicted value:  [-56.92860087] actual value:  [-56.79239189]\n",
      "predicted value:  [-125.40343284] actual value:  [-125.58324519]\n",
      "predicted value:  [95.16971338] actual value:  [95.36623166]\n",
      "predicted value:  [125.56301256] actual value:  [125.56977237]\n",
      "predicted value:  [-129.34592263] actual value:  [-129.34445023]\n",
      "predicted value:  [-28.08554162] actual value:  [-28.21629506]\n",
      "predicted value:  [-27.43031604] actual value:  [-27.55786679]\n",
      "predicted value:  [34.48827747] actual value:  [34.73503378]\n",
      "predicted value:  [149.85169762] actual value:  [149.73481671]\n",
      "predicted value:  [-121.2433493] actual value:  [-121.41459516]\n",
      "predicted value:  [-114.34753686] actual value:  [-114.20376672]\n",
      "predicted value:  [-17.11201269] actual value:  [-17.26346803]\n",
      "predicted value:  [55.49610736] actual value:  [55.79414753]\n",
      "predicted value:  [133.44772986] actual value:  [133.40639484]\n",
      "predicted value:  [-120.12172266] actual value:  [-119.97474339]\n",
      "predicted value:  [-93.66815624] actual value:  [-93.66633199]\n",
      "predicted value:  [135.49194521] actual value:  [142.09768429]\n",
      "predicted value:  [-36.03935538] actual value:  [-36.03143612]\n",
      "predicted value:  [-129.84480536] actual value:  [-129.88500121]\n",
      "predicted value:  [-129.65839324] actual value:  [-129.67845046]\n",
      "predicted value:  [-29.75493929] actual value:  [-29.89356302]\n",
      "predicted value:  [-52.51075422] actual value:  [-52.39419603]\n",
      "predicted value:  [-79.1383324] actual value:  [-79.24482485]\n",
      "predicted value:  [-125.31031459] actual value:  [-125.20157676]\n",
      "predicted value:  [-122.96113628] actual value:  [-123.13951026]\n",
      "predicted value:  [57.27493559] actual value:  [57.57392343]\n",
      "predicted value:  [85.77513422] actual value:  [87.15327921]\n",
      "predicted value:  [-81.55126355] actual value:  [-81.40887412]\n",
      "predicted value:  [-46.18124054] actual value:  [-46.37078523]\n",
      "predicted value:  [-126.95202135] actual value:  [-126.87134438]\n",
      "predicted value:  [18.05557577] actual value:  [17.71980484]\n",
      "predicted value:  [-82.41137541] actual value:  [-82.49611365]\n",
      "predicted value:  [92.49102276] actual value:  [94.3154103]\n",
      "predicted value:  [-65.7959527] actual value:  [-65.63604038]\n",
      "predicted value:  [-57.52096315] actual value:  [-57.71164924]\n",
      "predicted value:  [156.98169978] actual value:  [167.60364662]\n",
      "predicted value:  [88.77837799] actual value:  [90.34777308]\n",
      "predicted value:  [-120.06499498] actual value:  [-120.22939109]\n",
      "predicted value:  [-116.73221796] actual value:  [-116.58321493]\n",
      "predicted value:  [2.31713278] actual value:  [2.02558103]\n",
      "predicted value:  [-129.9324157] actual value:  [-129.99823874]\n",
      "predicted value:  [21.65620472] actual value:  [21.83974885]\n",
      "predicted value:  [106.64302076] actual value:  [109.64421622]\n",
      "predicted value:  [-128.59070916] actual value:  [-128.73909926]\n",
      "predicted value:  [78.69751273] actual value:  [78.9654733]\n",
      "predicted value:  [-123.87128879] actual value:  [-124.0516472]\n",
      "predicted value:  [-58.3103686] actual value:  [-58.16903057]\n",
      "predicted value:  [144.32657668] actual value:  [152.42686767]\n",
      "predicted value:  [83.1096898] actual value:  [83.36209003]\n",
      "predicted value:  [48.60108093] actual value:  [48.53791604]\n",
      "predicted value:  [-82.1169379] actual value:  [-81.9766875]\n",
      "predicted value:  [-82.94310343] actual value:  [-83.02412744]\n",
      "predicted value:  [-62.11088973] actual value:  [-61.9581181]\n",
      "predicted value:  [-121.67082924] actual value:  [-121.84420056]\n",
      "predicted value:  [-129.66980449] actual value:  [-129.77660442]\n",
      "predicted value:  [-33.70235789] actual value:  [-33.71313163]\n",
      "predicted value:  [-101.84146566] actual value:  [-101.83658192]\n",
      "predicted value:  [131.33264993] actual value:  [137.30383367]\n",
      "predicted value:  [-102.058468] actual value:  [-102.05562112]\n",
      "predicted value:  [205.58273884] actual value:  [205.90716589]\n",
      "predicted value:  [8.64744702] actual value:  [8.32781775]\n",
      "predicted value:  [68.86592778] actual value:  [69.15768097]\n",
      "predicted value:  [84.81110298] actual value:  [86.13061672]\n",
      "predicted value:  [5.0627356] actual value:  [4.75754908]\n",
      "predicted value:  [-53.52645019] actual value:  [-53.72024519]\n",
      "predicted value:  [-54.1123574] actual value:  [-53.98812119]\n",
      "predicted value:  [-8.72943976] actual value:  [-8.94844933]\n",
      "predicted value:  [-120.33723743] actual value:  [-120.19085977]\n",
      "predicted value:  [114.93562895] actual value:  [118.79332791]\n",
      "predicted value:  [-128.71810385] actual value:  [-128.86343495]\n",
      "predicted value:  [-75.83924018] actual value:  [-75.68117311]\n",
      "predicted value:  [89.58924025] actual value:  [89.81385559]\n",
      "predicted value:  [-10.00653737] actual value:  [-10.21575814]\n",
      "predicted value:  [-129.36383727] actual value:  [-129.36340849]\n",
      "predicted value:  [190.09335901] actual value:  [209.8963499]\n",
      "predicted value:  [-128.98419173] actual value:  [-128.96445325]\n",
      "predicted value:  [-111.05176388] actual value:  [-111.13762486]\n",
      "predicted value:  [203.11719604] actual value:  [227.79464575]\n",
      "predicted value:  [-123.7804784] actual value:  [-123.65425719]\n",
      "predicted value:  [-125.90186032] actual value:  [-126.0801264]\n",
      "predicted value:  [-110.79030095] actual value:  [-110.661576]\n",
      "predicted value:  [151.79306013] actual value:  [161.32371025]\n",
      "predicted value:  [-96.42792917] actual value:  [-96.4034396]\n",
      "predicted value:  [-85.02028237] actual value:  [-84.89266142]\n",
      "predicted value:  [38.20883932] actual value:  [37.98404837]\n",
      "predicted value:  [-10.2490053] actual value:  [-10.45634285]\n",
      "predicted value:  [-106.48302405] actual value:  [-106.52316891]\n",
      "predicted value:  [-86.50375828] actual value:  [-86.55876527]\n",
      "predicted value:  [39.97002248] actual value:  [39.76688901]\n",
      "predicted value:  [-116.52687427] actual value:  [-116.66433917]\n",
      "predicted value:  [-48.9225061] actual value:  [-48.82528289]\n",
      "predicted value:  [-97.47061204] actual value:  [-97.42668342]\n",
      "predicted value:  [84.1951647] actual value:  [85.47790667]\n",
      "predicted value:  [-68.68039517] actual value:  [-68.51774619]\n",
      "predicted value:  [64.52534525] actual value:  [64.89206011]\n",
      "predicted value:  [-127.31538585] actual value:  [-127.48391195]\n",
      "predicted value:  [-49.86676044] actual value:  [-50.0600156]\n",
      "predicted value:  [147.87307835] actual value:  [156.63282795]\n",
      "predicted value:  [-113.28545211] actual value:  [-113.39319318]\n",
      "predicted value:  [37.72902442] actual value:  [37.98826683]\n",
      "predicted value:  [-114.86005819] actual value:  [-114.98264336]\n",
      "predicted value:  [-127.0881069] actual value:  [-127.25886343]\n",
      "predicted value:  [172.36527859] actual value:  [172.25194635]\n",
      "predicted value:  [-20.3017909] actual value:  [-20.39080668]\n",
      "predicted value:  [-129.0847545] actual value:  [-129.21945392]\n",
      "predicted value:  [207.74463308] actual value:  [208.12326481]\n",
      "predicted value:  [-70.007694] actual value:  [-69.84465453]\n",
      "predicted value:  [16.5597547] actual value:  [16.22417852]\n",
      "predicted value:  [-22.92411587] actual value:  [-23.02804024]\n",
      "predicted value:  [67.61321098] actual value:  [67.90685616]\n",
      "predicted value:  [-79.81330076] actual value:  [-79.66499985]\n",
      "predicted value:  [117.06431127] actual value:  [117.12632457]\n",
      "predicted value:  [118.0795341] actual value:  [118.1348806]\n",
      "predicted value:  [6.07432179] actual value:  [6.15958787]\n",
      "predicted value:  [-98.84607808] actual value:  [-98.81399546]\n",
      "predicted value:  [-85.54851738] actual value:  [-85.61068741]\n",
      "predicted value:  [-53.21154283] actual value:  [-53.09154991]\n",
      "predicted value:  [171.8200968] actual value:  [171.704551]\n",
      "predicted value:  [75.60683367] actual value:  [76.4304708]\n",
      "predicted value:  [-85.00098017] actual value:  [-84.87326619]\n",
      "predicted value:  [-106.21696142] actual value:  [-106.11631351]\n",
      "predicted value:  [-34.08779237] actual value:  [-34.09544533]\n",
      "predicted value:  [134.7533279] actual value:  [134.70455261]\n",
      "predicted value:  [-117.74827109] actual value:  [-117.5985547]\n",
      "predicted value:  [-102.1464253] actual value:  [-102.14440633]\n",
      "predicted value:  [-113.23208313] actual value:  [-113.09221304]\n",
      "predicted value:  [-114.8284352] actual value:  [-114.68324952]\n",
      "predicted value:  [78.76763077] actual value:  [79.03536672]\n",
      "predicted value:  [-105.55100519] actual value:  [-105.4550235]\n",
      "predicted value:  [62.46375314] actual value:  [62.76236659]\n",
      "predicted value:  [127.06992027] actual value:  [127.06715116]\n",
      "predicted value:  [-123.31833207] actual value:  [-123.18804814]\n",
      "predicted value:  [-42.23823311] actual value:  [-42.42044759]\n",
      "predicted value:  [-113.08655156] actual value:  [-113.19237669]\n",
      "predicted value:  [55.00307831] actual value:  [55.0837765]\n",
      "predicted value:  [155.43860132] actual value:  [155.30813447]\n",
      "predicted value:  [-34.8375788] actual value:  [-34.83920224]\n",
      "predicted value:  [181.62797551] actual value:  [198.67883467]\n",
      "predicted value:  [-23.20243245] actual value:  [-23.30184945]\n",
      "predicted value:  [-29.95130492] actual value:  [-29.99309579]\n",
      "predicted value:  [-125.54250376] actual value:  [-125.43705689]\n",
      "predicted value:  [-91.86569935] actual value:  [-91.87855772]\n",
      "predicted value:  [-129.922099] actual value:  [-129.99642924]\n",
      "predicted value:  [81.67121273] actual value:  [82.80878814]\n",
      "predicted value:  [-100.38728545] actual value:  [-100.33059364]\n",
      "predicted value:  [-106.82396381] actual value:  [-106.71917015]\n",
      "predicted value:  [-43.96867544] actual value:  [-43.90251547]\n",
      "predicted value:  [-29.40481806] actual value:  [-29.45120967]\n",
      "predicted value:  [-99.05268821] actual value:  [-99.02242216]\n",
      "predicted value:  [-76.63169074] actual value:  [-76.47515498]\n",
      "predicted value:  [-24.31878084] actual value:  [-24.43030205]\n",
      "predicted value:  [-23.68139271] actual value:  [-23.77668805]\n",
      "predicted value:  [-127.56799737] actual value:  [-127.73366073]\n",
      "predicted value:  [34.29127895] actual value:  [34.53722706]\n",
      "predicted value:  [-44.66367818] actual value:  [-44.59288151]\n",
      "predicted value:  [-127.57332847] actual value:  [-127.73892666]\n",
      "predicted value:  [30.6672492] actual value:  [30.89736524]\n",
      "predicted value:  [-88.62414721] actual value:  [-88.51598381]\n",
      "predicted value:  [-129.9063147] actual value:  [-129.95825677]\n",
      "predicted value:  [-23.61591218] actual value:  [-23.72363507]\n",
      "predicted value:  [18.07458945] actual value:  [17.73882235]\n",
      "predicted value:  [218.9167307] actual value:  [219.63942399]\n",
      "predicted value:  [169.99428892] actual value:  [169.87223406]\n",
      "predicted value:  [-129.55764276] actual value:  [-129.56980972]\n",
      "predicted value:  [75.60178823] actual value:  [76.42518391]\n",
      "predicted value:  [-124.39445995] actual value:  [-124.27445463]\n",
      "predicted value:  [165.48979989] actual value:  [178.08725612]\n",
      "predicted value:  [167.03584798] actual value:  [166.90608159]\n",
      "predicted value:  [192.21061034] actual value:  [212.75114683]\n",
      "predicted value:  [-121.68431661] actual value:  [-121.54327775]\n",
      "predicted value:  [-45.11893433] actual value:  [-45.30683841]\n",
      "predicted value:  [9.90013306] actual value:  [9.57644042]\n",
      "predicted value:  [-70.86571185] actual value:  [-70.70271642]\n",
      "predicted value:  [-125.77426352] actual value:  [-125.95300237]\n",
      "predicted value:  [-112.92595383] actual value:  [-113.03022642]\n",
      "predicted value:  [-94.49442012] actual value:  [-94.48582145]\n",
      "predicted value:  [-111.4344186] actual value:  [-111.30244131]\n",
      "predicted value:  [-54.41828067] actual value:  [-54.6117198]\n",
      "predicted value:  [-83.70268345] actual value:  [-83.5689898]\n",
      "predicted value:  [52.28315053] actual value:  [52.29826959]\n",
      "predicted value:  [147.80635602] actual value:  [156.55337039]\n",
      "predicted value:  [168.36822522] actual value:  [168.2415097]\n",
      "predicted value:  [178.089331] actual value:  [194.07843348]\n",
      "predicted value:  [124.92912847] actual value:  [124.93993174]\n",
      "predicted value:  [-104.37985594] actual value:  [-104.39926204]\n",
      "predicted value:  [-73.18158744] actual value:  [-73.32217212]\n",
      "predicted value:  [-123.20516687] actual value:  [-123.07396284]\n",
      "predicted value:  [-62.97709578] actual value:  [-62.82228762]\n",
      "predicted value:  [192.99462034] actual value:  [213.81347314]\n",
      "predicted value:  [-120.92785504] actual value:  [-121.09740252]\n",
      "predicted value:  [-111.32102579] actual value:  [-111.18960593]\n",
      "predicted value:  [199.81986865] actual value:  [223.18482792]\n",
      "predicted value:  [-91.44251102] actual value:  [-91.45879007]\n",
      "predicted value:  [81.58751354] actual value:  [82.72042477]\n",
      "predicted value:  [102.89851976] actual value:  [103.05093805]\n",
      "predicted value:  [97.08145221] actual value:  [99.2508307]\n",
      "predicted value:  [-123.96245817] actual value:  [-123.83797779]\n",
      "predicted value:  [-41.07382141] actual value:  [-41.02785306]\n",
      "predicted value:  [-120.65178564] actual value:  [-120.50640519]\n",
      "predicted value:  [165.01302248] actual value:  [164.87989358]\n",
      "predicted value:  [-55.42305163] actual value:  [-55.61585781]\n",
      "predicted value:  [-116.74746287] actual value:  [-116.88681446]\n",
      "predicted value:  [-129.8231674] actual value:  [-129.91604466]\n",
      "predicted value:  [-87.28039392] actual value:  [-87.32948804]\n",
      "predicted value:  [-128.39414542] actual value:  [-128.54676443]\n",
      "predicted value:  [-70.08434204] actual value:  [-69.92129699]\n",
      "predicted value:  [-127.01016208] actual value:  [-126.93071962]\n",
      "predicted value:  [-50.26519112] actual value:  [-50.45865922]\n",
      "predicted value:  [-23.65709808] actual value:  [-23.76504525]\n",
      "predicted value:  [12.20815675] actual value:  [12.33406612]\n",
      "predicted value:  [-90.0012909] actual value:  [-89.90163828]\n",
      "predicted value:  [90.20242192] actual value:  [90.42412709]\n",
      "predicted value:  [-77.45879477] actual value:  [-77.30407803]\n",
      "predicted value:  [-72.96531922] actual value:  [-73.10699643]\n",
      "predicted value:  [5.6066179] actual value:  [5.29898507]\n",
      "predicted value:  [197.09391048] actual value:  [197.24019481]\n",
      "predicted value:  [27.98951082] actual value:  [27.67959659]\n",
      "predicted value:  [26.72675865] actual value:  [26.41071123]\n",
      "predicted value:  [-106.47613242] actual value:  [-106.37370137]\n",
      "predicted value:  [-50.82582515] actual value:  [-51.01952963]\n",
      "MSE Score: 16.22774338654446\n"
     ]
    }
   ],
   "source": [
    "# Correctly denormalize predictions\n",
    "predictions = scaler_y.inverse_transform(predictions_scaled.reshape(-1, 1))\n",
    "\n",
    "# Calculate MSE score\n",
    "for i in range(len(predictions)):\n",
    "    print(\"predicted value: \",  predictions[i], \"actual value: \", y_test_square_large[i])\n",
    "mse_score = mse(predictions, y_test_square_large)\n",
    "\n",
    "print(f\"MSE Score: {mse_score}\")"
   ]
  },
  {
   "cell_type": "markdown",
   "metadata": {
    "collapsed": false,
    "jupyter": {
     "outputs_hidden": false
    }
   },
   "source": [
    "### multimodal-large dataset"
   ]
  },
  {
   "cell_type": "code",
   "execution_count": 454,
   "metadata": {
    "ExecuteTime": {
     "end_time": "2024-03-12T09:25:48.365820Z",
     "start_time": "2024-03-12T09:25:48.363595Z"
    },
    "collapsed": false,
    "jupyter": {
     "outputs_hidden": false
    }
   },
   "outputs": [],
   "source": [
    "# Initialize the scaler for X and y with the desired scaling method\n",
    "scaler_X = DataScaler(method=\"min_max\")\n",
    "scaler_y = DataScaler(method=\"min_max\")"
   ]
  },
  {
   "cell_type": "code",
   "execution_count": 455,
   "metadata": {
    "ExecuteTime": {
     "end_time": "2024-03-12T09:25:48.481024Z",
     "start_time": "2024-03-12T09:25:48.478298Z"
    },
    "collapsed": false,
    "jupyter": {
     "outputs_hidden": false
    }
   },
   "outputs": [
    {
     "name": "stdout",
     "output_type": "stream",
     "text": [
      "[array([[-0.12186476],\n",
      "       [-1.07150803],\n",
      "       [ 0.16918471],\n",
      "       [-1.22704036],\n",
      "       [ 0.29415834],\n",
      "       [ 1.90776648],\n",
      "       [ 0.36723362],\n",
      "       [-2.43005663],\n",
      "       [-0.64179758],\n",
      "       [ 0.37628698]]), array([[-0.24349819, -0.09504987, -0.52955823,  0.02423583, -0.41818198,\n",
      "        -0.24164405, -0.63978819, -0.19689873,  0.13058712, -0.13465842],\n",
      "       [ 0.45080659, -0.02159449, -0.05549681,  0.04086744, -0.88827374,\n",
      "        -0.09297092, -0.04961104,  0.28958064, -0.29969568, -0.09535983],\n",
      "       [-0.0363863 ,  0.04247979,  0.27433519, -0.18349764, -0.10128933,\n",
      "        -0.5755126 ,  0.33429007, -0.38199381,  0.3185607 , -0.34067407],\n",
      "       [-0.17732828,  0.18565865,  0.40309407, -0.15555208, -0.05641572,\n",
      "        -0.31815183,  0.3544479 , -0.21599497,  0.00092928,  0.16623052],\n",
      "       [ 0.02547752,  0.19896638,  0.10654038, -0.22999851,  0.18712494,\n",
      "        -0.16101919, -0.42042455, -0.12106941,  0.19802837,  0.25886289],\n",
      "       [ 0.72251926,  0.00950327, -0.30287903, -0.07742365,  0.53502232,\n",
      "         0.44562001,  0.21538678, -0.09800527,  0.01523031,  0.02316696],\n",
      "       [ 0.12536954,  0.25625798,  0.09159907,  0.77164745, -0.43428538,\n",
      "         0.19611633,  0.06905897,  0.05024137, -0.16260851, -0.03779901],\n",
      "       [ 0.0457302 ,  0.1711696 , -0.32759658,  0.27843196, -0.07410536,\n",
      "        -0.03823389, -0.28949488,  0.37145023, -0.0583109 , -0.00543516],\n",
      "       [ 0.33898335, -0.14434016,  0.21635964, -0.25230696, -0.05481515,\n",
      "         0.18815727,  0.19936196,  0.22164814,  0.01362155,  0.31118929],\n",
      "       [-0.00480553, -0.34014223,  0.53641124, -0.26492503, -0.06783973,\n",
      "         0.11492256, -0.06351365, -0.08738292,  0.13231844,  0.05572794]]), array([[-0.86218925,  0.02638677, -0.52067269,  0.35388459,  0.57072712,\n",
      "        -0.73541657,  0.05090311,  0.31895131, -0.48441276,  0.10745641]])]\n"
     ]
    }
   ],
   "source": [
    "mlp_multimodal = MLP([1, 10, 10, 1])"
   ]
  },
  {
   "cell_type": "code",
   "execution_count": 456,
   "metadata": {
    "ExecuteTime": {
     "end_time": "2024-03-12T09:25:48.636727Z",
     "start_time": "2024-03-12T09:25:48.634193Z"
    },
    "collapsed": false,
    "jupyter": {
     "outputs_hidden": false
    }
   },
   "outputs": [],
   "source": [
    "# Fit and transform the training data\n",
    "X_train_scaled3 = scaler_X.fit_transform(X_train_multimodal_large)\n",
    "y_train_scaled3 = scaler_y.fit_transform(y_train_multimodal_large)\n"
   ]
  },
  {
   "cell_type": "code",
   "execution_count": 457,
   "metadata": {
    "ExecuteTime": {
     "end_time": "2024-03-12T09:25:48.781279Z",
     "start_time": "2024-03-12T09:25:48.775591Z"
    },
    "collapsed": false,
    "jupyter": {
     "outputs_hidden": false
    }
   },
   "outputs": [],
   "source": [
    "training_data_scaled3 = [\n",
    "    (x.reshape(-1, 1), y) for x, y in zip(X_train_scaled3, y_train_scaled3)\n",
    "]"
   ]
  },
  {
   "cell_type": "code",
   "execution_count": 458,
   "metadata": {
    "ExecuteTime": {
     "end_time": "2024-03-12T09:28:51.540688Z",
     "start_time": "2024-03-12T09:25:48.927434Z"
    },
    "collapsed": false,
    "jupyter": {
     "outputs_hidden": false
    }
   },
   "outputs": [],
   "source": [
    "mlp_multimodal.train(\n",
    "    training_data_scaled3, epochs=500, learning_rate=1, batch_size=1\n",
    ")"
   ]
  },
  {
   "cell_type": "markdown",
   "metadata": {
    "collapsed": false,
    "jupyter": {
     "outputs_hidden": false
    }
   },
   "source": [
    "#### testing"
   ]
  },
  {
   "cell_type": "code",
   "execution_count": 459,
   "metadata": {
    "ExecuteTime": {
     "end_time": "2024-03-12T09:28:51.543347Z",
     "start_time": "2024-03-12T09:28:51.541630Z"
    },
    "collapsed": false,
    "jupyter": {
     "outputs_hidden": false
    }
   },
   "outputs": [],
   "source": [
    "# Scale the test data using the transform method\n",
    "X_test_scaled3 = scaler_X.transform(X_test_multimodal_large)"
   ]
  },
  {
   "cell_type": "code",
   "execution_count": 460,
   "metadata": {
    "ExecuteTime": {
     "end_time": "2024-03-12T09:28:51.558259Z",
     "start_time": "2024-03-12T09:28:51.543958Z"
    },
    "collapsed": false,
    "jupyter": {
     "outputs_hidden": false
    }
   },
   "outputs": [],
   "source": [
    "# Generate predictions on the scaled test data\n",
    "predictions_scaled3 = np.array(\n",
    "    [mlp_multimodal.feedforward(x.reshape(-1, 1))[0] for x in X_test_scaled3]\n",
    ")"
   ]
  },
  {
   "cell_type": "code",
   "execution_count": 461,
   "metadata": {
    "ExecuteTime": {
     "end_time": "2024-03-12T09:28:51.600740Z",
     "start_time": "2024-03-12T09:28:51.559168Z"
    },
    "collapsed": false,
    "jupyter": {
     "outputs_hidden": false
    }
   },
   "outputs": [
    {
     "name": "stdout",
     "output_type": "stream",
     "text": [
      "predicted value:  [-98.61762757] actual value:  [-98.2081664]\n",
      "predicted value:  [-57.55949139] actual value:  [-55.28389066]\n",
      "predicted value:  [96.81754344] actual value:  [100.29999676]\n",
      "predicted value:  [-6.10210099] actual value:  [2.7206294]\n",
      "predicted value:  [-76.14507474] actual value:  [-75.99163605]\n",
      "predicted value:  [31.59826141] actual value:  [36.4875116]\n",
      "predicted value:  [23.87751148] actual value:  [32.9071937]\n",
      "predicted value:  [43.80285829] actual value:  [54.59378752]\n",
      "predicted value:  [69.20004884] actual value:  [75.88595471]\n",
      "predicted value:  [13.85803755] actual value:  [15.93020098]\n",
      "predicted value:  [37.17074423] actual value:  [36.41048972]\n",
      "predicted value:  [101.31296911] actual value:  [100.17958374]\n",
      "predicted value:  [-96.29114011] actual value:  [-96.19000955]\n",
      "predicted value:  [101.23356624] actual value:  [100.29859577]\n",
      "predicted value:  [-66.26932765] actual value:  [-64.55778832]\n",
      "predicted value:  [61.17476116] actual value:  [73.08482928]\n",
      "predicted value:  [98.40915016] actual value:  [100.29999572]\n",
      "predicted value:  [94.20296115] actual value:  [96.6895763]\n",
      "predicted value:  [27.14210905] actual value:  [25.33206735]\n",
      "predicted value:  [-39.16278022] actual value:  [-37.03124264]\n",
      "predicted value:  [102.478495] actual value:  [100.03414153]\n",
      "predicted value:  [96.46535864] actual value:  [100.2999965]\n",
      "predicted value:  [102.37456189] actual value:  [100.10266081]\n",
      "predicted value:  [-79.55129767] actual value:  [-82.44491657]\n",
      "predicted value:  [-50.25795808] actual value:  [-47.88049359]\n",
      "predicted value:  [18.54473563] actual value:  [21.2735258]\n",
      "predicted value:  [-94.24513202] actual value:  [-96.85780192]\n",
      "predicted value:  [96.57807948] actual value:  [100.2999966]\n",
      "predicted value:  [-61.5344346] actual value:  [-59.44492451]\n",
      "predicted value:  [-43.51060415] actual value:  [-42.99923022]\n",
      "predicted value:  [102.53279363] actual value:  [100.22790367]\n",
      "predicted value:  [101.08841349] actual value:  [100.17667845]\n",
      "predicted value:  [-63.58203675] actual value:  [-62.5522056]\n",
      "predicted value:  [-4.15669209] actual value:  [-4.41590807]\n",
      "predicted value:  [104.17218993] actual value:  [100.29195864]\n",
      "predicted value:  [95.65496984] actual value:  [100.29999486]\n",
      "predicted value:  [-19.81996804] actual value:  [-17.2826979]\n",
      "predicted value:  [-67.21690455] actual value:  [-69.15072126]\n",
      "predicted value:  [5.85294273] actual value:  [8.99682803]\n",
      "predicted value:  [-9.32020277] actual value:  [-1.97566766]\n",
      "predicted value:  [-102.20219224] actual value:  [-99.00272816]\n",
      "predicted value:  [43.28563691] actual value:  [45.90214874]\n",
      "predicted value:  [10.56030919] actual value:  [10.1187497]\n",
      "predicted value:  [-95.55501431] actual value:  [-97.301787]\n",
      "predicted value:  [42.33424861] actual value:  [44.4222098]\n",
      "predicted value:  [93.50620086] actual value:  [100.29993517]\n",
      "predicted value:  [-50.83623253] actual value:  [-48.45743826]\n",
      "predicted value:  [-18.1379972] actual value:  [-15.24139577]\n",
      "predicted value:  [30.90270012] actual value:  [33.99784068]\n",
      "predicted value:  [-8.89705849] actual value:  [-1.25972622]\n",
      "predicted value:  [-12.8270296] actual value:  [-11.76579828]\n",
      "predicted value:  [102.45547571] actual value:  [99.96337422]\n",
      "predicted value:  [90.71026632] actual value:  [95.10169888]\n",
      "predicted value:  [-75.4316904] actual value:  [-75.11322042]\n",
      "predicted value:  [85.65796976] actual value:  [92.48504462]\n",
      "predicted value:  [-68.81150033] actual value:  [-67.93093971]\n",
      "predicted value:  [99.45388272] actual value:  [99.97677869]\n",
      "predicted value:  [-76.23009241] actual value:  [-76.11423345]\n",
      "predicted value:  [91.16335125] actual value:  [95.94255812]\n",
      "predicted value:  [-67.75789488] actual value:  [-80.81078879]\n",
      "predicted value:  [95.66090608] actual value:  [100.29999488]\n",
      "predicted value:  [98.05862176] actual value:  [100.18710252]\n",
      "predicted value:  [92.77238895] actual value:  [99.47173199]\n",
      "predicted value:  [-100.55207036] actual value:  [-98.68245691]\n",
      "predicted value:  [-34.57352867] actual value:  [-32.6265827]\n",
      "predicted value:  [38.84397848] actual value:  [43.56272319]\n",
      "predicted value:  [92.49689037] actual value:  [95.93622567]\n",
      "predicted value:  [18.14080171] actual value:  [20.80692304]\n",
      "predicted value:  [61.05848358] actual value:  [67.1891551]\n",
      "predicted value:  [69.80807168] actual value:  [78.97723185]\n",
      "predicted value:  [-93.68744985] actual value:  [-94.58193699]\n",
      "predicted value:  [15.57867697] actual value:  [22.05818551]\n",
      "predicted value:  [100.70269984] actual value:  [100.29993347]\n",
      "predicted value:  [-83.60389517] actual value:  [-86.39307918]\n",
      "predicted value:  [100.75377299] actual value:  [100.16512155]\n",
      "predicted value:  [-76.19113933] actual value:  [-76.07158033]\n",
      "predicted value:  [101.10084651] actual value:  [100.29976749]\n",
      "predicted value:  [-92.23952981] actual value:  [-93.58589725]\n",
      "predicted value:  [104.8022125] actual value:  [100.29806581]\n",
      "predicted value:  [-12.96150295] actual value:  [-11.89698563]\n",
      "predicted value:  [-86.61237818] actual value:  [-89.11407472]\n",
      "predicted value:  [-74.06017274] actual value:  [-73.64114538]\n",
      "predicted value:  [80.9401062] actual value:  [89.69686936]\n",
      "predicted value:  [76.85517926] actual value:  [87.01474795]\n",
      "predicted value:  [37.39320881] actual value:  [42.36315953]\n",
      "predicted value:  [93.61118711] actual value:  [97.42762106]\n",
      "predicted value:  [-67.61075694] actual value:  [-80.68577774]\n",
      "predicted value:  [-97.74579592] actual value:  [-97.96907081]\n",
      "predicted value:  [-89.55060107] actual value:  [-91.56046741]\n",
      "predicted value:  [-62.64957817] actual value:  [-76.26050228]\n",
      "predicted value:  [96.64065194] actual value:  [98.28137603]\n",
      "predicted value:  [-53.55041577] actual value:  [-52.70409302]\n",
      "predicted value:  [-87.88633451] actual value:  [-90.20248817]\n",
      "predicted value:  [-19.45081883] actual value:  [-16.91547541]\n",
      "predicted value:  [-86.30386804] actual value:  [-88.84448802]\n",
      "predicted value:  [54.4580828] actual value:  [68.09195477]\n",
      "predicted value:  [42.79134094] actual value:  [45.80080934]\n",
      "predicted value:  [25.26955139] actual value:  [23.69395932]\n",
      "predicted value:  [-25.28371517] actual value:  [-22.79849783]\n",
      "predicted value:  [98.93468524] actual value:  [99.77010947]\n",
      "predicted value:  [-99.04026457] actual value:  [-98.31854908]\n",
      "predicted value:  [-102.26815859] actual value:  [-99.01008838]\n",
      "predicted value:  [-12.52721654] actual value:  [-7.20394321]\n",
      "predicted value:  [82.42844159] actual value:  [95.2209437]\n",
      "predicted value:  [18.98542591] actual value:  [21.78378626]\n",
      "predicted value:  [93.49498806] actual value:  [100.29993387]\n",
      "predicted value:  [98.43334987] actual value:  [99.48572183]\n",
      "predicted value:  [-61.2239837] actual value:  [-59.11598154]\n",
      "predicted value:  [-24.22047516] actual value:  [-22.74445659]\n",
      "predicted value:  [-101.40693798] actual value:  [-98.86374939]\n",
      "predicted value:  [-93.15039576] actual value:  [-96.46097472]\n",
      "predicted value:  [-3.8853145] actual value:  [-5.28228646]\n",
      "predicted value:  [90.29387995] actual value:  [99.1528636]\n",
      "predicted value:  [78.08500872] actual value:  [92.11619248]\n",
      "predicted value:  [101.14841289] actual value:  [100.17782617]\n",
      "predicted value:  [-3.4999021] actual value:  [-8.21906466]\n",
      "predicted value:  [10.42889747] actual value:  [9.95368696]\n",
      "predicted value:  [80.00163441] actual value:  [86.89518086]\n",
      "predicted value:  [-74.78145675] actual value:  [-86.34003519]\n",
      "predicted value:  [-58.04454299] actual value:  [-57.06685412]\n",
      "predicted value:  [89.37091773] actual value:  [94.4451218]\n",
      "predicted value:  [-1.92011618] actual value:  [-8.96206829]\n",
      "predicted value:  [99.90248694] actual value:  [99.86972791]\n",
      "predicted value:  [97.91863899] actual value:  [99.14971785]\n",
      "predicted value:  [-101.60214464] actual value:  [-98.6793578]\n",
      "predicted value:  [-76.02193424] actual value:  [-75.83762504]\n",
      "predicted value:  [-78.50102029] actual value:  [-88.90816078]\n",
      "predicted value:  [-76.24269026] actual value:  [-76.1177228]\n",
      "predicted value:  [91.50683271] actual value:  [100.29062043]\n",
      "predicted value:  [43.07920452] actual value:  [45.86822575]\n",
      "predicted value:  [100.44523634] actual value:  [100.29996149]\n",
      "predicted value:  [64.53407791] actual value:  [70.93117685]\n",
      "predicted value:  [1.54332362] actual value:  [-1.63781446]\n",
      "predicted value:  [98.75502993] actual value:  [99.67588537]\n",
      "predicted value:  [-101.68338353] actual value:  [-98.70985341]\n",
      "predicted value:  [-75.83855724] actual value:  [-75.66930696]\n",
      "predicted value:  [1.5111556] actual value:  [2.89503285]\n",
      "predicted value:  [101.06749465] actual value:  [100.17621446]\n",
      "predicted value:  [-72.58795263] actual value:  [-71.99966665]\n",
      "predicted value:  [10.29739358] actual value:  [14.81550864]\n",
      "predicted value:  [102.24228205] actual value:  [100.13256728]\n",
      "predicted value:  [98.20745056] actual value:  [99.4303456]\n",
      "predicted value:  [-79.6808871] actual value:  [-89.66898824]\n",
      "predicted value:  [-75.31462669] actual value:  [-74.97085749]\n",
      "predicted value:  [12.99037507] actual value:  [13.13616522]\n",
      "predicted value:  [-95.73006983] actual value:  [-97.35857567]\n",
      "predicted value:  [101.70784339] actual value:  [100.15486658]\n",
      "predicted value:  [101.63949216] actual value:  [99.5610095]\n",
      "predicted value:  [-91.35053044] actual value:  [-92.94064209]\n",
      "predicted value:  [-1.35356423] actual value:  [-0.33289272]\n",
      "predicted value:  [90.83916311] actual value:  [100.19220566]\n",
      "predicted value:  [-54.43526842] actual value:  [-52.08249569]\n",
      "predicted value:  [-4.76777834] actual value:  [-0.74636752]\n",
      "predicted value:  [72.51439056] actual value:  [83.89528045]\n",
      "predicted value:  [102.4508872] actual value:  [100.06747293]\n",
      "predicted value:  [100.08837931] actual value:  [100.10825776]\n",
      "predicted value:  [-75.41017735] actual value:  [-75.17702666]\n",
      "predicted value:  [61.30987353] actual value:  [73.27245478]\n",
      "predicted value:  [-7.58170381] actual value:  [0.92203797]\n",
      "predicted value:  [-99.40878487] actual value:  [-97.78127671]\n",
      "predicted value:  [-80.24657266] actual value:  [-83.14229104]\n",
      "predicted value:  [71.49350649] actual value:  [83.12184484]\n",
      "predicted value:  [99.76864271] actual value:  [100.29998642]\n",
      "predicted value:  [104.58440052] actual value:  [100.29663545]\n",
      "predicted value:  [-34.04404675] actual value:  [-31.95831798]\n",
      "predicted value:  [39.2063753] actual value:  [36.59145905]\n",
      "predicted value:  [-101.98225924] actual value:  [-98.97002278]\n",
      "predicted value:  [25.75998126] actual value:  [19.71473359]\n",
      "predicted value:  [104.38413256] actual value:  [100.29473182]\n",
      "predicted value:  [83.5282395] actual value:  [95.87955397]\n",
      "predicted value:  [-1.58155714] actual value:  [-0.56569831]\n",
      "predicted value:  [36.33572534] actual value:  [48.27176013]\n",
      "predicted value:  [90.76366977] actual value:  [98.9696895]\n",
      "predicted value:  [-100.74277499] actual value:  [-98.34727297]\n",
      "predicted value:  [-73.31247309] actual value:  [-72.80317405]\n",
      "predicted value:  [94.38033361] actual value:  [96.76549191]\n",
      "predicted value:  [-67.13377515] actual value:  [-65.51267884]\n",
      "predicted value:  [84.0704692] actual value:  [90.45737415]\n",
      "predicted value:  [-64.29470725] actual value:  [-63.27156552]\n",
      "predicted value:  [102.36660376] actual value:  [100.10512646]\n",
      "predicted value:  [3.65227695] actual value:  [1.16372953]\n",
      "predicted value:  [80.83974715] actual value:  [94.17856932]\n",
      "predicted value:  [-15.19276298] actual value:  [-12.72856454]\n",
      "predicted value:  [-17.34745481] actual value:  [-14.18304058]\n",
      "predicted value:  [-54.17167822] actual value:  [-53.30443999]\n",
      "predicted value:  [-78.03049167] actual value:  [-80.89421107]\n",
      "predicted value:  [96.62551759] actual value:  [98.27112753]\n",
      "predicted value:  [-72.8311423] actual value:  [-72.00744553]\n",
      "predicted value:  [-5.97383669] actual value:  [2.76320935]\n",
      "predicted value:  [7.32466694] actual value:  [10.9334252]\n",
      "predicted value:  [-19.70874853] actual value:  [-17.28525451]\n",
      "predicted value:  [-1.34119683] actual value:  [-2.53878471]\n",
      "predicted value:  [11.16154522] actual value:  [12.92964479]\n",
      "predicted value:  [32.42108328] actual value:  [30.04326123]\n",
      "predicted value:  [102.2560981] actual value:  [99.82776862]\n",
      "predicted value:  [-10.23290699] actual value:  [-7.96194972]\n",
      "predicted value:  [-99.6241775] actual value:  [-97.87725101]\n",
      "predicted value:  [27.92496024] actual value:  [26.02067236]\n",
      "predicted value:  [-3.06108363] actual value:  [-8.96853969]\n",
      "predicted value:  [-100.13875921] actual value:  [-98.58798758]\n",
      "predicted value:  [37.99593801] actual value:  [42.87940018]\n",
      "predicted value:  [-4.3945826] actual value:  [-3.26099504]\n",
      "predicted value:  [-72.6857861] actual value:  [-72.10769175]\n",
      "predicted value:  [15.92423015] actual value:  [16.69924817]\n",
      "predicted value:  [95.08970487] actual value:  [98.19272882]\n",
      "predicted value:  [99.90165533] actual value:  [100.08010647]\n",
      "predicted value:  [102.29028869] actual value:  [100.12382517]\n",
      "predicted value:  [100.03705086] actual value:  [100.10121189]\n",
      "predicted value:  [100.9263773] actual value:  [100.29453786]\n",
      "predicted value:  [37.12704166] actual value:  [42.12777787]\n",
      "predicted value:  [-19.66868022] actual value:  [-17.13211705]\n",
      "predicted value:  [-98.46931661] actual value:  [-97.34149404]\n",
      "predicted value:  [100.01759694] actual value:  [100.09841066]\n",
      "predicted value:  [90.46736741] actual value:  [94.18540462]\n",
      "predicted value:  [-76.2341729] actual value:  [-76.10618411]\n",
      "predicted value:  [95.07384198] actual value:  [100.29999191]\n",
      "predicted value:  [-102.07172302] actual value:  [-98.85619472]\n",
      "predicted value:  [94.07607198] actual value:  [100.29997397]\n",
      "predicted value:  [58.57807086] actual value:  [69.39981021]\n",
      "predicted value:  [70.75999654] actual value:  [85.1125962]\n",
      "predicted value:  [-55.24433002] actual value:  [-55.51179042]\n",
      "predicted value:  [-59.17776788] actual value:  [-58.17697971]\n",
      "predicted value:  [-29.13534833] actual value:  [-28.33181503]\n",
      "predicted value:  [74.1788443] actual value:  [88.64737442]\n",
      "predicted value:  [-67.39972372] actual value:  [-66.45382261]\n",
      "predicted value:  [100.24276143] actual value:  [99.04603772]\n",
      "predicted value:  [89.13980495] actual value:  [94.5363977]\n",
      "predicted value:  [90.12438742] actual value:  [97.72820541]\n",
      "predicted value:  [-7.12746515] actual value:  [1.61349173]\n",
      "predicted value:  [-70.97265997] actual value:  [-69.84703714]\n",
      "predicted value:  [-18.65094014] actual value:  [-15.91715793]\n",
      "predicted value:  [-65.31474723] actual value:  [-63.51151073]\n",
      "predicted value:  [93.39794615] actual value:  [96.33935663]\n",
      "predicted value:  [84.93889562] actual value:  [96.64941946]\n",
      "predicted value:  [-72.73185843] actual value:  [-72.15861417]\n",
      "predicted value:  [-72.54735718] actual value:  [-71.95488493]\n",
      "predicted value:  [102.47939635] actual value:  [100.00422387]\n",
      "predicted value:  [-3.46721792] actual value:  [-5.97193636]\n",
      "predicted value:  [42.81753117] actual value:  [55.75071771]\n",
      "predicted value:  [82.8768854] actual value:  [90.8817521]\n",
      "predicted value:  [93.66117284] actual value:  [96.45489966]\n",
      "predicted value:  [101.71098791] actual value:  [100.17467967]\n",
      "predicted value:  [-94.44628883] actual value:  [-95.07557781]\n",
      "predicted value:  [-52.01134113] actual value:  [-51.21899226]\n",
      "predicted value:  [92.39600177] actual value:  [100.29929942]\n",
      "predicted value:  [73.51825763] actual value:  [84.64112992]\n",
      "predicted value:  [98.1836828] actual value:  [99.32578507]\n",
      "predicted value:  [-70.55409018] actual value:  [-69.78526395]\n",
      "predicted value:  [98.3490787] actual value:  [100.29999585]\n",
      "predicted value:  [98.64545199] actual value:  [99.61376447]\n",
      "predicted value:  [60.08163179] actual value:  [71.55134903]\n",
      "predicted value:  [-75.08772838] actual value:  [-74.8076394]\n",
      "predicted value:  [91.51584611] actual value:  [99.17432585]\n",
      "predicted value:  [104.71520231] actual value:  [100.29756479]\n",
      "predicted value:  [-7.24130581] actual value:  [1.44624537]\n",
      "predicted value:  [-65.32058744] actual value:  [-67.00956604]\n",
      "predicted value:  [-22.85957681] actual value:  [-21.181308]\n",
      "predicted value:  [-6.37310493] actual value:  [2.53300081]\n",
      "predicted value:  [-99.24698094] actual value:  [-97.70799291]\n",
      "predicted value:  [-18.47005895] actual value:  [-15.67981431]\n",
      "predicted value:  [35.85336631] actual value:  [40.9449552]\n",
      "predicted value:  [-80.3491285] actual value:  [-90.08826405]\n",
      "predicted value:  [-97.62686995] actual value:  [-97.93527928]\n",
      "predicted value:  [-78.69189599] actual value:  [-81.57272541]\n",
      "predicted value:  [8.08290308] actual value:  [6.97201876]\n",
      "predicted value:  [-65.92710613] actual value:  [-64.18172615]\n",
      "predicted value:  [65.22652845] actual value:  [75.12423683]\n",
      "predicted value:  [79.14513774] actual value:  [85.94335686]\n",
      "predicted value:  [16.66048402] actual value:  [19.10637345]\n",
      "predicted value:  [101.14457391] actual value:  [100.17776084]\n",
      "predicted value:  [-74.9251664] actual value:  [-74.62197432]\n",
      "predicted value:  [-51.74589048] actual value:  [-65.20969439]\n",
      "predicted value:  [-9.83366651] actual value:  [-2.84066416]\n",
      "predicted value:  [30.24208702] actual value:  [34.95826321]\n",
      "predicted value:  [-67.18787361] actual value:  [-65.57267884]\n",
      "predicted value:  [38.86649415] actual value:  [51.23842652]\n",
      "predicted value:  [95.70394726] actual value:  [99.96595987]\n",
      "predicted value:  [-99.49292759] actual value:  [-97.81898337]\n",
      "predicted value:  [93.55769643] actual value:  [96.2287226]\n",
      "predicted value:  [-19.98518907] actual value:  [-18.689068]\n",
      "predicted value:  [-74.73806374] actual value:  [-74.40878779]\n",
      "predicted value:  [60.74360529] actual value:  [74.08812032]\n",
      "predicted value:  [-87.89007375] actual value:  [-90.20562226]\n",
      "predicted value:  [48.82236312] actual value:  [62.30552264]\n",
      "predicted value:  [100.72380665] actual value:  [100.29993001]\n",
      "predicted value:  [99.35159499] actual value:  [99.94412982]\n",
      "predicted value:  [-4.39671641] actual value:  [-3.24875243]\n",
      "predicted value:  [33.61970413] actual value:  [31.14396703]\n",
      "predicted value:  [-3.44595635] actual value:  [-8.4949845]\n",
      "predicted value:  [-85.97705288] actual value:  [-93.28122228]\n",
      "predicted value:  [-15.77598568] actual value:  [-20.08642619]\n",
      "predicted value:  [-1.92597819] actual value:  [-0.91688191]\n",
      "predicted value:  [-40.14490614] actual value:  [-39.69322687]\n",
      "predicted value:  [76.26751229] actual value:  [84.09661262]\n",
      "predicted value:  [32.38670481] actual value:  [35.66141869]\n",
      "predicted value:  [15.07269144] actual value:  [17.29970155]\n",
      "predicted value:  [101.22913092] actual value:  [100.29946499]\n",
      "predicted value:  [-57.26270344] actual value:  [-56.30378827]\n",
      "predicted value:  [46.36525151] actual value:  [51.14172596]\n",
      "predicted value:  [91.20725167] actual value:  [95.97138035]\n",
      "predicted value:  [-76.25448208] actual value:  [-76.13849762]\n",
      "predicted value:  [93.27751453] actual value:  [96.28615908]\n",
      "predicted value:  [-76.33038811] actual value:  [-79.12339923]\n",
      "predicted value:  [-101.83632699] actual value:  [-98.7671672]\n",
      "predicted value:  [-10.04364409] actual value:  [-3.19221582]\n",
      "predicted value:  [41.92322945] actual value:  [39.64436484]\n",
      "predicted value:  [102.33076736] actual value:  [99.86920644]\n",
      "predicted value:  [-100.47005162] actual value:  [-98.23695423]\n",
      "predicted value:  [101.23179994] actual value:  [100.17897227]\n",
      "predicted value:  [-4.40567696] actual value:  [-3.19697783]\n",
      "predicted value:  [-24.92613436] actual value:  [-23.4184449]\n",
      "predicted value:  [101.04033383] actual value:  [100.29607833]\n",
      "predicted value:  [86.18310113] actual value:  [91.28879964]\n",
      "predicted value:  [101.56048226] actual value:  [100.17821426]\n",
      "predicted value:  [11.94190153] actual value:  [17.14893293]\n",
      "predicted value:  [99.11852009] actual value:  [99.85498751]\n",
      "predicted value:  [-46.56959455] actual value:  [-44.23158734]\n",
      "predicted value:  [84.23609579] actual value:  [91.67980228]\n",
      "predicted value:  [-99.57773649] actual value:  [-97.85671017]\n",
      "predicted value:  [92.66864719] actual value:  [100.29963989]\n",
      "predicted value:  [29.09515426] actual value:  [38.16513474]\n",
      "predicted value:  [-94.38347278] actual value:  [-95.03547668]\n",
      "predicted value:  [-7.02953905] actual value:  [1.75317619]\n",
      "predicted value:  [-61.45627616] actual value:  [-60.42678062]\n",
      "predicted value:  [-40.22989913] actual value:  [-38.06044175]\n",
      "predicted value:  [6.81308346] actual value:  [10.01545332]\n",
      "predicted value:  [99.69133916] actual value:  [100.03881328]\n",
      "predicted value:  [-69.5139626] actual value:  [-82.2742571]\n",
      "predicted value:  [-51.24458411] actual value:  [-50.95761628]\n",
      "predicted value:  [0.32361687] actual value:  [-7.88190192]\n",
      "predicted value:  [31.03021122] actual value:  [34.14100889]\n",
      "predicted value:  [102.46705447] actual value:  [100.05296975]\n",
      "predicted value:  [-101.04971063] actual value:  [-98.79057123]\n",
      "predicted value:  [99.13019988] actual value:  [100.29999302]\n",
      "predicted value:  [79.46858303] actual value:  [88.75922408]\n",
      "predicted value:  [-65.49335837] actual value:  [-63.70664452]\n",
      "predicted value:  [-102.01941213] actual value:  [-98.8361927]\n",
      "predicted value:  [42.27420941] actual value:  [46.63649539]\n",
      "predicted value:  [73.94703133] actual value:  [88.42201701]\n",
      "predicted value:  [-15.28688901] actual value:  [-11.31862853]\n",
      "predicted value:  [-8.17968984] actual value:  [-6.0220077]\n",
      "predicted value:  [-4.45873312] actual value:  [-2.87859354]\n",
      "predicted value:  [-76.25141949] actual value:  [-76.13594374]\n",
      "predicted value:  [-47.8475677] actual value:  [-47.20467796]\n",
      "predicted value:  [-16.58963866] actual value:  [-14.09225585]\n",
      "predicted value:  [-69.23542083] actual value:  [-67.86560069]\n",
      "predicted value:  [64.1820592] actual value:  [77.15226755]\n",
      "predicted value:  [-71.15817964] actual value:  [-70.43697882]\n",
      "predicted value:  [-74.00238326] actual value:  [-73.57605391]\n",
      "predicted value:  [44.27190062] actual value:  [45.78714886]\n",
      "predicted value:  [102.4566852] actual value:  [100.06296695]\n",
      "predicted value:  [-58.75435144] actual value:  [-57.7615842]\n",
      "predicted value:  [12.08576062] actual value:  [2.72181267]\n",
      "predicted value:  [37.48919546] actual value:  [42.44695897]\n",
      "predicted value:  [90.12261126] actual value:  [97.70591048]\n",
      "predicted value:  [-100.61540424] actual value:  [-98.69657258]\n",
      "predicted value:  [104.00518546] actual value:  [100.28912548]\n",
      "predicted value:  [2.93857612] actual value:  [4.10320462]\n",
      "predicted value:  [-73.55325505] actual value:  [-73.07203768]\n",
      "predicted value:  [96.47352529] actual value:  [97.62807556]\n",
      "predicted value:  [-102.22196282] actual value:  [-99.00513158]\n",
      "predicted value:  [83.48568034] actual value:  [89.40618951]\n",
      "predicted value:  [-74.33948934] actual value:  [-73.95652969]\n",
      "predicted value:  [95.19165769] actual value:  [100.29999271]\n",
      "predicted value:  [93.06738702] actual value:  [99.53376297]\n",
      "predicted value:  [5.97311321] actual value:  [-3.42870564]\n",
      "predicted value:  [100.09878407] actual value:  [100.29997862]\n",
      "predicted value:  [89.3807674] actual value:  [94.45004767]\n",
      "predicted value:  [-86.96095551] actual value:  [-89.41590338]\n",
      "predicted value:  [-95.85776153] actual value:  [-95.93940285]\n",
      "predicted value:  [-48.68327569] actual value:  [-46.31637864]\n",
      "predicted value:  [82.35534354] actual value:  [88.6017159]\n",
      "predicted value:  [3.52594753] actual value:  [-5.548803]\n",
      "predicted value:  [-75.45752156] actual value:  [-75.14467832]\n",
      "predicted value:  [91.74112063] actual value:  [96.3157771]\n",
      "predicted value:  [-92.73775983] actual value:  [-93.9364656]\n",
      "predicted value:  [18.62949893] actual value:  [21.3715744]\n",
      "predicted value:  [41.86004037] actual value:  [39.5670013]\n",
      "predicted value:  [-102.16644079] actual value:  [-98.89312881]\n",
      "predicted value:  [-68.43302874] actual value:  [-66.96182492]\n",
      "predicted value:  [92.4101487] actual value:  [100.29932415]\n",
      "predicted value:  [-89.04999282] actual value:  [-94.76631276]\n",
      "predicted value:  [23.92308651] actual value:  [26.07802055]\n",
      "predicted value:  [99.98547854] actual value:  [100.09362178]\n",
      "predicted value:  [-74.29477241] actual value:  [-76.95808626]\n",
      "predicted value:  [-5.24200371] actual value:  [-3.27860972]\n",
      "predicted value:  [-5.92823593] actual value:  [2.76922766]\n",
      "predicted value:  [-3.44410542] actual value:  [-8.5008125]\n",
      "predicted value:  [-72.84570574] actual value:  [-72.28458611]\n",
      "predicted value:  [97.12145323] actual value:  [100.29999685]\n",
      "predicted value:  [-102.37451189] actual value:  [-99.01146647]\n",
      "predicted value:  [44.53748226] actual value:  [45.57634414]\n",
      "predicted value:  [100.50324765] actual value:  [100.14998369]\n",
      "predicted value:  [-93.59119273] actual value:  [-96.6235781]\n",
      "predicted value:  [43.87575297] actual value:  [45.9082266]\n",
      "predicted value:  [99.35387581] actual value:  [99.94489973]\n",
      "predicted value:  [22.65961067] actual value:  [31.34429317]\n",
      "predicted value:  [-72.31187174] actual value:  [-71.69560524]\n",
      "predicted value:  [40.31215586] actual value:  [37.77915897]\n",
      "predicted value:  [28.61577551] actual value:  [26.63059693]\n",
      "predicted value:  [-8.11881959] actual value:  [0.04851048]\n",
      "predicted value:  [-102.3643754] actual value:  [-99.01324437]\n",
      "predicted value:  [65.86325687] actual value:  [78.58972212]\n",
      "predicted value:  [5.96198267] actual value:  [4.21812688]\n",
      "predicted value:  [-4.34369804] actual value:  [-3.54296124]\n",
      "predicted value:  [-32.73324048] actual value:  [-42.50949181]\n",
      "predicted value:  [-72.79793461] actual value:  [-71.96844587]\n",
      "predicted value:  [101.74556335] actual value:  [100.17352601]\n",
      "predicted value:  [-53.8044987] actual value:  [-52.94954787]\n",
      "predicted value:  [78.45520984] actual value:  [92.4120684]\n",
      "predicted value:  [-39.36883995] actual value:  [-37.22980685]\n",
      "predicted value:  [38.84455215] actual value:  [43.56316709]\n",
      "predicted value:  [41.74490774] actual value:  [43.50004984]\n",
      "predicted value:  [-101.34416205] actual value:  [-98.85119973]\n",
      "predicted value:  [98.78092499] actual value:  [100.29999466]\n",
      "predicted value:  [-87.07297146] actual value:  [-93.83193229]\n",
      "predicted value:  [-91.17260215] actual value:  [-92.80853143]\n",
      "predicted value:  [101.25105664] actual value:  [100.29918686]\n",
      "predicted value:  [1.55428376] actual value:  [-7.06016946]\n",
      "predicted value:  [67.21996651] actual value:  [73.79518696]\n",
      "predicted value:  [27.57709529] actual value:  [37.59169962]\n",
      "predicted value:  [95.83873523] actual value:  [100.29999541]\n",
      "predicted value:  [-6.87814402] actual value:  [1.9600668]\n",
      "predicted value:  [91.62844442] actual value:  [94.95552263]\n",
      "predicted value:  [-87.63225351] actual value:  [-89.98868156]\n",
      "predicted value:  [-33.75314054] actual value:  [-33.23157738]\n",
      "predicted value:  [3.95749796] actual value:  [5.88306333]\n",
      "predicted value:  [-61.11768808] actual value:  [-59.00351762]\n",
      "predicted value:  [-39.11566365] actual value:  [-37.43319795]\n",
      "predicted value:  [105.18173428] actual value:  [100.29940803]\n",
      "predicted value:  [33.80196266] actual value:  [38.87602209]\n",
      "predicted value:  [-75.83583957] actual value:  [-75.60763835]\n",
      "predicted value:  [80.97692568] actual value:  [87.67188723]\n",
      "predicted value:  [23.05660021] actual value:  [26.54697864]\n",
      "predicted value:  [-70.49445675] actual value:  [-69.29811568]\n",
      "predicted value:  [-8.66132766] actual value:  [-7.67404765]\n",
      "predicted value:  [9.55153248] actual value:  [0.04211502]\n",
      "predicted value:  [-97.37658932] actual value:  [-96.78663247]\n",
      "predicted value:  [29.73525658] actual value:  [40.27895194]\n",
      "predicted value:  [54.03705213] actual value:  [62.65557306]\n",
      "predicted value:  [-102.33206582] actual value:  [-98.96428903]\n",
      "predicted value:  [75.72822461] actual value:  [83.68289026]\n",
      "predicted value:  [-7.25486251] actual value:  [-5.15432518]\n",
      "predicted value:  [101.70971209] actual value:  [100.17471961]\n",
      "predicted value:  [-75.83763612] actual value:  [-75.66824829]\n",
      "predicted value:  [91.14836984] actual value:  [100.26717104]\n",
      "predicted value:  [-100.46209346] actual value:  [-98.23369498]\n",
      "predicted value:  [101.45033258] actual value:  [100.17945104]\n",
      "predicted value:  [-71.37044922] actual value:  [-70.30576147]\n",
      "predicted value:  [91.46981626] actual value:  [95.46223008]\n",
      "predicted value:  [-74.7323146] actual value:  [-74.40224598]\n",
      "predicted value:  [-66.63620028] actual value:  [-64.96216629]\n",
      "predicted value:  [-55.68801406] actual value:  [-54.77280087]\n",
      "predicted value:  [15.68465308] actual value:  [22.1997258]\n",
      "predicted value:  [97.66719412] actual value:  [100.29999671]\n",
      "predicted value:  [72.46536134] actual value:  [81.12693284]\n",
      "predicted value:  [-75.6086138] actual value:  [-75.32903384]\n",
      "predicted value:  [-15.95599144] actual value:  [-20.32942846]\n",
      "predicted value:  [-92.38275851] actual value:  [-93.68750284]\n",
      "predicted value:  [-28.39682819] actual value:  [-27.52379362]\n",
      "predicted value:  [102.28477452] actual value:  [100.12492155]\n",
      "predicted value:  [78.1201924] actual value:  [92.14456078]\n",
      "predicted value:  [51.60704941] actual value:  [56.89366014]\n",
      "predicted value:  [-5.71455734] actual value:  [2.71727497]\n",
      "predicted value:  [-8.68495865] actual value:  [-6.49764878]\n",
      "predicted value:  [99.73071792] actual value:  [99.83290942]\n",
      "predicted value:  [-55.99546806] actual value:  [-69.71926799]\n",
      "predicted value:  [-59.30724412] actual value:  [-60.15650701]\n",
      "predicted value:  [-5.05210994] actual value:  [1.04422532]\n",
      "predicted value:  [-75.49038427] actual value:  [-75.18472375]\n",
      "predicted value:  [-31.50488038] actual value:  [-30.87631491]\n",
      "predicted value:  [91.10431167] actual value:  [99.06488946]\n",
      "predicted value:  [95.66710762] actual value:  [99.9613468]\n",
      "predicted value:  [-7.50701899] actual value:  [1.03962068]\n",
      "predicted value:  [90.05215249] actual value:  [96.63702684]\n",
      "predicted value:  [20.26366888] actual value:  [19.35107001]\n",
      "predicted value:  [101.8103014] actual value:  [100.17097351]\n",
      "predicted value:  [22.33055449] actual value:  [30.92029431]\n",
      "predicted value:  [61.81322011] actual value:  [68.00455968]\n",
      "predicted value:  [102.22752526] actual value:  [100.13493505]\n",
      "predicted value:  [36.03369962] actual value:  [46.14014954]\n",
      "predicted value:  [-100.34087948] actual value:  [-98.63468556]\n",
      "predicted value:  [-97.58040285] actual value:  [-96.89363755]\n",
      "predicted value:  [-4.15145373] actual value:  [-4.43681957]\n",
      "predicted value:  [-68.4622573] actual value:  [-67.56355614]\n",
      "predicted value:  [99.62403687] actual value:  [100.0230459]\n",
      "predicted value:  [-98.93862757] actual value:  [-97.5655032]\n",
      "predicted value:  [-9.54004345] actual value:  [-2.34679179]\n",
      "predicted value:  [93.61520037] actual value:  [99.64136178]\n",
      "predicted value:  [101.00701536] actual value:  [100.1746856]\n",
      "predicted value:  [-31.11884467] actual value:  [-30.46642714]\n",
      "predicted value:  [33.61259694] actual value:  [31.13739269]\n",
      "predicted value:  [10.51950413] actual value:  [10.89030419]\n",
      "predicted value:  [-66.71598457] actual value:  [-65.74570374]\n",
      "predicted value:  [38.26662456] actual value:  [43.10322307]\n",
      "predicted value:  [102.36075498] actual value:  [100.10685866]\n",
      "predicted value:  [-95.25998324] actual value:  [-95.58235623]\n",
      "predicted value:  [-71.5185717] actual value:  [-73.93939319]\n",
      "predicted value:  [105.08593339] actual value:  [100.29917611]\n",
      "predicted value:  [-50.05918259] actual value:  [-49.3374772]\n",
      "predicted value:  [101.06115086] actual value:  [100.1760672]\n",
      "predicted value:  [102.01552157] actual value:  [99.71452357]\n",
      "predicted value:  [-99.62861927] actual value:  [-98.46606694]\n",
      "predicted value:  [-9.00222127] actual value:  [-1.43770988]\n",
      "predicted value:  [-58.24725017] actual value:  [-58.94422436]\n",
      "predicted value:  [-76.25215977] actual value:  [-76.13660346]\n",
      "predicted value:  [25.42931385] actual value:  [23.83330078]\n",
      "predicted value:  [78.6007885] actual value:  [88.19118024]\n",
      "predicted value:  [37.24474606] actual value:  [42.23240717]\n",
      "predicted value:  [101.1915947] actual value:  [100.29961511]\n",
      "predicted value:  [44.64115298] actual value:  [44.0524333]\n",
      "predicted value:  [-100.53651915] actual value:  [-98.26408608]\n",
      "predicted value:  [29.15197206] actual value:  [39.55608068]\n",
      "predicted value:  [-76.18863707] actual value:  [-76.04695025]\n",
      "predicted value:  [-65.00654653] actual value:  [-63.17547233]\n",
      "predicted value:  [99.68318038] actual value:  [100.036973]\n",
      "predicted value:  [28.67711038] actual value:  [26.68486291]\n",
      "predicted value:  [-16.44941436] actual value:  [-12.95435352]\n",
      "predicted value:  [-72.77701155] actual value:  [-72.2085522]\n",
      "predicted value:  [2.89809838] actual value:  [0.15937567]\n",
      "predicted value:  [-38.02800136] actual value:  [-36.24896425]\n",
      "predicted value:  [100.46483845] actual value:  [100.14708227]\n",
      "predicted value:  [59.57700586] actual value:  [65.58482572]\n",
      "predicted value:  [30.15633723] actual value:  [39.40969591]\n",
      "predicted value:  [89.58162126] actual value:  [62.35744106]\n",
      "predicted value:  [-75.56820195] actual value:  [-75.3585054]\n",
      "predicted value:  [-4.88164504] actual value:  [0.03784578]\n",
      "predicted value:  [11.92940682] actual value:  [17.1318808]\n",
      "predicted value:  [16.43399824] actual value:  [22.68497842]\n",
      "predicted value:  [45.75086753] actual value:  [49.78541597]\n",
      "predicted value:  [97.72980476] actual value:  [100.29999666]\n",
      "predicted value:  [-46.87427639] actual value:  [-44.53113438]\n",
      "predicted value:  [57.63333321] actual value:  [71.1837213]\n",
      "predicted value:  [-99.92909783] actual value:  [-98.53857084]\n",
      "predicted value:  [-101.96753559] actual value:  [-98.96758365]\n",
      "predicted value:  [-102.15814888] actual value:  [-98.99693529]\n",
      "predicted value:  [41.69970187] actual value:  [45.38651087]\n",
      "predicted value:  [89.60118394] actual value:  [94.5599013]\n",
      "predicted value:  [44.76417134] actual value:  [44.96288152]\n",
      "predicted value:  [39.95150148] actual value:  [44.07123391]\n",
      "predicted value:  [37.74029036] actual value:  [42.66336733]\n",
      "predicted value:  [92.70333271] actual value:  [100.2996678]\n",
      "predicted value:  [68.07234187] actual value:  [74.69762658]\n",
      "predicted value:  [94.74557436] actual value:  [99.83329817]\n",
      "predicted value:  [41.5713845] actual value:  [39.21880258]\n",
      "predicted value:  [101.60222577] actual value:  [99.54653158]\n",
      "predicted value:  [-59.1893448] actual value:  [-58.18834806]\n",
      "predicted value:  [101.92807661] actual value:  [99.67720468]\n",
      "predicted value:  [97.75025374] actual value:  [99.28295823]\n",
      "predicted value:  [-102.35540088] actual value:  [-98.97673161]\n",
      "predicted value:  [39.70821398] actual value:  [44.2005827]\n",
      "predicted value:  [-64.84359316] actual value:  [-66.46889871]\n",
      "predicted value:  [-18.31829994] actual value:  [-15.47988635]\n",
      "predicted value:  [-102.22965737] actual value:  [-99.00602698]\n",
      "predicted value:  [-21.63651014] actual value:  [-19.69827222]\n",
      "predicted value:  [-78.15756947] actual value:  [-88.68178282]\n",
      "predicted value:  [19.25237554] actual value:  [22.0934691]\n",
      "predicted value:  [91.14533009] actual value:  [100.26680177]\n",
      "predicted value:  [70.69487611] actual value:  [77.45003947]\n",
      "predicted value:  [100.73503111] actual value:  [100.16419804]\n",
      "predicted value:  [-4.21361044] actual value:  [-4.17667349]\n",
      "predicted value:  [-102.33608645] actual value:  [-99.01432047]\n",
      "predicted value:  [-62.79937969] actual value:  [-61.76630984]\n",
      "predicted value:  [-1.70632909] actual value:  [-5.51833993]\n",
      "predicted value:  [-64.69814044] actual value:  [-63.68046371]\n",
      "predicted value:  [-79.09463771] actual value:  [-81.98282481]\n",
      "predicted value:  [7.47899451] actual value:  [-2.01651235]\n",
      "predicted value:  [35.38651101] actual value:  [32.79943424]\n",
      "predicted value:  [-6.41099717] actual value:  [2.49846948]\n",
      "predicted value:  [94.89806318] actual value:  [97.11468236]\n",
      "predicted value:  [-26.9661804] actual value:  [-25.93579312]\n",
      "predicted value:  [-7.92336151] actual value:  [0.37093309]\n",
      "predicted value:  [-102.36847041] actual value:  [-99.01269142]\n",
      "predicted value:  [-4.53240541] actual value:  [-3.55555031]\n",
      "predicted value:  [-101.73526566] actual value:  [-98.92672434]\n",
      "predicted value:  [98.97541876] actual value:  [99.78998121]\n",
      "predicted value:  [1.56949218] actual value:  [-7.04934732]\n",
      "predicted value:  [102.35032825] actual value:  [100.10979535]\n",
      "predicted value:  [-97.32150246] actual value:  [-96.75743635]\n",
      "predicted value:  [103.89284] actual value:  [100.28685668]\n",
      "predicted value:  [-38.65047724] actual value:  [-36.92605354]\n",
      "predicted value:  [93.10718758] actual value:  [95.9316548]\n",
      "predicted value:  [102.4382009] actual value:  [100.07575607]\n",
      "predicted value:  [101.55303573] actual value:  [100.1783317]\n",
      "predicted value:  [-39.39001697] actual value:  [-37.25021812]\n",
      "predicted value:  [-92.53848116] actual value:  [-96.22894681]\n",
      "predicted value:  [99.46463131] actual value:  [100.29999041]\n",
      "predicted value:  [-67.96198127] actual value:  [-69.98773422]\n",
      "predicted value:  [-53.43642782] actual value:  [-52.59400666]\n",
      "predicted value:  [-64.77427924] actual value:  [-62.92278213]\n",
      "predicted value:  [-67.46501053] actual value:  [-66.52167579]\n",
      "predicted value:  [-5.30070319] actual value:  [2.04135644]\n",
      "predicted value:  [-39.71338269] actual value:  [-39.2655084]\n",
      "predicted value:  [92.69646476] actual value:  [99.45529651]\n",
      "predicted value:  [-91.14079288] actual value:  [-92.78481074]\n",
      "predicted value:  [101.23447626] actual value:  [100.1790004]\n",
      "predicted value:  [102.05099491] actual value:  [100.15568899]\n",
      "predicted value:  [57.39478083] actual value:  [70.95582682]\n",
      "predicted value:  [-88.7195461] actual value:  [-90.89175036]\n",
      "predicted value:  [3.97281721] actual value:  [-5.17971776]\n",
      "predicted value:  [-4.83159396] actual value:  [-0.2991759]\n",
      "predicted value:  [101.71528322] actual value:  [100.17454386]\n",
      "predicted value:  [101.90602622] actual value:  [100.16613181]\n",
      "predicted value:  [-3.40023921] actual value:  [-6.03193172]\n",
      "predicted value:  [99.01460959] actual value:  [100.29999365]\n",
      "predicted value:  [-102.20341363] actual value:  [-99.00288061]\n",
      "predicted value:  [100.01315139] actual value:  [100.09776013]\n",
      "predicted value:  [97.7189917] actual value:  [98.11348282]\n",
      "predicted value:  [-4.97215846] actual value:  [0.60300379]\n",
      "predicted value:  [34.77663248] actual value:  [32.22288788]\n",
      "predicted value:  [22.50211449] actual value:  [31.14144605]\n",
      "predicted value:  [35.04481538] actual value:  [33.1739951]\n",
      "predicted value:  [5.26116408] actual value:  [3.29654696]\n",
      "predicted value:  [-68.29213924] actual value:  [-66.80384239]\n",
      "predicted value:  [-92.74674713] actual value:  [-93.94271488]\n",
      "predicted value:  [-99.27296868] actual value:  [-98.37775968]\n",
      "predicted value:  [-1.6608703] actual value:  [-0.64662267]\n",
      "predicted value:  [55.84334264] actual value:  [69.45621314]\n",
      "predicted value:  [99.15314733] actual value:  [98.64992976]\n",
      "predicted value:  [96.04186579] actual value:  [100.29999587]\n",
      "predicted value:  [101.75105028] actual value:  [100.17332999]\n",
      "predicted value:  [90.29959689] actual value:  [95.36049616]\n",
      "predicted value:  [-61.12586284] actual value:  [-60.09887202]\n",
      "predicted value:  [-92.17089327] actual value:  [-93.53697263]\n",
      "predicted value:  [103.52901808] actual value:  [100.27721024]\n",
      "predicted value:  [-54.15904904] actual value:  [-54.27337502]\n",
      "predicted value:  [102.25543982] actual value:  [99.82742379]\n",
      "predicted value:  [99.75969805] actual value:  [98.87117039]\n",
      "predicted value:  [-42.87887367] actual value:  [-40.62599142]\n",
      "predicted value:  [97.55897042] actual value:  [100.29999677]\n",
      "predicted value:  [-17.06028653] actual value:  [-15.87333219]\n",
      "predicted value:  [-74.47616854] actual value:  [-74.11132578]\n",
      "predicted value:  [-6.90838022] actual value:  [-5.93401051]\n",
      "predicted value:  [-74.59740589] actual value:  [-74.2488893]\n",
      "predicted value:  [99.34093107] actual value:  [100.29999153]\n",
      "predicted value:  [-102.03799092] actual value:  [-98.84327401]\n",
      "predicted value:  [-5.19931449] actual value:  [1.70109956]\n",
      "predicted value:  [-75.85157382] actual value:  [-75.68426642]\n",
      "predicted value:  [-58.73131177] actual value:  [-57.7390025]\n",
      "predicted value:  [99.38611114] actual value:  [99.95557422]\n",
      "predicted value:  [-27.15279896] actual value:  [-25.54336092]\n",
      "predicted value:  [-9.84460477] actual value:  [-2.85901361]\n",
      "predicted value:  [-5.47839887] actual value:  [2.45120879]\n",
      "predicted value:  [8.63427091] actual value:  [-0.88456308]\n",
      "predicted value:  [-80.44190627] actual value:  [-83.33683019]\n",
      "predicted value:  [34.57998808] actual value:  [46.18058451]\n",
      "predicted value:  [35.20101017] actual value:  [40.30675673]\n",
      "predicted value:  [-28.362405] actual value:  [-26.69703803]\n",
      "predicted value:  [-39.03115259] actual value:  [-36.90444476]\n",
      "predicted value:  [-67.33982308] actual value:  [-65.74135923]\n",
      "predicted value:  [92.70056653] actual value:  [95.66351837]\n",
      "predicted value:  [-77.94299644] actual value:  [-80.80399786]\n",
      "predicted value:  [102.47880342] actual value:  [100.03325556]\n",
      "predicted value:  [99.87760177] actual value:  [100.27201986]\n",
      "predicted value:  [26.65313584] actual value:  [24.90319019]\n",
      "predicted value:  [-46.90092641] actual value:  [-46.29016462]\n",
      "predicted value:  [-96.84582012] actual value:  [-96.50048655]\n",
      "predicted value:  [43.92184757] actual value:  [45.90103501]\n",
      "predicted value:  [-7.24186662] actual value:  [1.4454098]\n",
      "predicted value:  [41.13479609] actual value:  [45.37885323]\n",
      "predicted value:  [1.15520264] actual value:  [2.75948564]\n",
      "predicted value:  [-36.32658092] actual value:  [-34.40737948]\n",
      "predicted value:  [39.92858048] actual value:  [37.36051875]\n",
      "predicted value:  [21.41209901] actual value:  [24.61374638]\n",
      "predicted value:  [43.37740104] actual value:  [45.91275851]\n",
      "predicted value:  [-75.93408692] actual value:  [-78.70547413]\n",
      "predicted value:  [-73.46837891] actual value:  [-72.75879888]\n",
      "predicted value:  [-25.85032735] actual value:  [-24.30068374]\n",
      "predicted value:  [-62.53570728] actual value:  [-76.15425054]\n",
      "predicted value:  [40.40729171] actual value:  [44.66692255]\n",
      "predicted value:  [11.90856262] actual value:  [2.52899208]\n",
      "predicted value:  [81.5453878] actual value:  [90.07318556]\n",
      "predicted value:  [99.70196973] actual value:  [100.04118241]\n",
      "predicted value:  [46.88796883] actual value:  [51.71632172]\n",
      "predicted value:  [36.68831196] actual value:  [34.0519568]\n",
      "predicted value:  [-4.18826526] actual value:  [-4.28595241]\n",
      "predicted value:  [93.98332277] actual value:  [96.50955633]\n",
      "predicted value:  [-32.09927639] actual value:  [-29.89164125]\n",
      "predicted value:  [41.37664423] actual value:  [45.22644083]\n",
      "predicted value:  [-17.15434039] actual value:  [-13.92126077]\n",
      "predicted value:  [-99.79925431] actual value:  [-97.95393771]\n",
      "predicted value:  [-100.70321029] actual value:  [-98.71597702]\n",
      "predicted value:  [85.59221796] actual value:  [96.97772147]\n",
      "predicted value:  [96.03700919] actual value:  [97.45316517]\n",
      "predicted value:  [98.98238592] actual value:  [99.65223612]\n",
      "predicted value:  [-6.12737446] actual value:  [2.70825612]\n",
      "predicted value:  [75.57890461] actual value:  [83.56790382]\n",
      "predicted value:  [27.02650196] actual value:  [31.22711753]\n",
      "predicted value:  [38.19632781] actual value:  [48.54513489]\n",
      "predicted value:  [-3.42475727] actual value:  [-8.55581513]\n",
      "predicted value:  [86.78600415] actual value:  [91.70284165]\n",
      "predicted value:  [33.54890305] actual value:  [38.60928903]\n",
      "predicted value:  [-0.97528166] actual value:  [-4.77474082]\n",
      "predicted value:  [-1.87996662] actual value:  [-5.66989511]\n",
      "predicted value:  [99.31540369] actual value:  [100.29999174]\n",
      "predicted value:  [97.13117323] actual value:  [99.06419841]\n",
      "predicted value:  [94.95271015] actual value:  [100.29999092]\n",
      "predicted value:  [85.3422637] actual value:  [90.70736587]\n",
      "predicted value:  [-75.53341789] actual value:  [-75.31853885]\n",
      "predicted value:  [-4.02068454] actual value:  [-4.90246209]\n",
      "predicted value:  [-101.36521549] actual value:  [-98.58979343]\n",
      "predicted value:  [-35.91872736] actual value:  [-35.45488446]\n",
      "predicted value:  [15.96033804] actual value:  [18.30744446]\n",
      "predicted value:  [27.35814116] actual value:  [31.61626935]\n",
      "predicted value:  [-11.11297995] actual value:  [-8.7993253]\n",
      "predicted value:  [-85.38762371] actual value:  [-92.97539411]\n",
      "predicted value:  [42.36986872] actual value:  [45.66717711]\n",
      "predicted value:  [55.42498755] actual value:  [66.24645648]\n",
      "predicted value:  [8.88722198] actual value:  [-0.63142309]\n",
      "predicted value:  [-52.61163768] actual value:  [-66.14806311]\n",
      "predicted value:  [99.51876203] actual value:  [100.26027486]\n",
      "predicted value:  [102.24036173] actual value:  [100.13288298]\n",
      "predicted value:  [-76.23863224] actual value:  [-76.12324569]\n",
      "predicted value:  [102.08703096] actual value:  [100.15233549]\n",
      "predicted value:  [83.60066395] actual value:  [95.92112355]\n",
      "predicted value:  [-0.82845334] actual value:  [-4.61022476]\n",
      "predicted value:  [-88.20909271] actual value:  [-94.37819316]\n",
      "predicted value:  [-12.83173759] actual value:  [-11.77039209]\n",
      "predicted value:  [11.11999876] actual value:  [12.88384092]\n",
      "predicted value:  [90.9727017] actual value:  [100.23631739]\n",
      "predicted value:  [-101.20835469] actual value:  [-98.5297758]\n",
      "predicted value:  [3.94382172] actual value:  [1.55155924]\n",
      "predicted value:  [100.59392965] actual value:  [100.15619009]\n",
      "predicted value:  [19.53447013] actual value:  [27.2879893]\n",
      "predicted value:  [-99.59683666] actual value:  [-97.86516829]\n",
      "predicted value:  [23.83494934] actual value:  [22.44546213]\n",
      "predicted value:  [90.28541717] actual value:  [99.10662671]\n",
      "predicted value:  [-78.05782698] actual value:  [-80.92237411]\n",
      "predicted value:  [-65.44723743] actual value:  [-78.80565018]\n",
      "predicted value:  [65.22514234] actual value:  [71.67073972]\n",
      "predicted value:  [4.25294747] actual value:  [1.96225912]\n",
      "predicted value:  [-100.70079113] actual value:  [-98.33046173]\n",
      "predicted value:  [-49.00979101] actual value:  [-46.6398966]\n",
      "predicted value:  [-51.47982657] actual value:  [-49.1012504]\n",
      "predicted value:  [31.71084738] actual value:  [36.61273199]\n",
      "predicted value:  [6.72638991] actual value:  [10.14727951]\n",
      "predicted value:  [-75.41786128] actual value:  [-75.09638569]\n",
      "predicted value:  [98.61476163] actual value:  [100.2999952]\n",
      "predicted value:  [-37.07477664] actual value:  [-36.6261636]\n",
      "predicted value:  [100.44987769] actual value:  [100.29996115]\n",
      "predicted value:  [-101.06803299] actual value:  [-98.47549622]\n",
      "predicted value:  [-101.96222836] actual value:  [-98.8145159]\n",
      "predicted value:  [5.51343473] actual value:  [-3.84442992]\n",
      "predicted value:  [-73.68186959] actual value:  [-85.53224984]\n",
      "predicted value:  [105.05108142] actual value:  [100.29907625]\n",
      "predicted value:  [102.39142852] actual value:  [99.90818947]\n",
      "predicted value:  [100.42844842] actual value:  [100.14417492]\n",
      "predicted value:  [99.89002898] actual value:  [99.86711572]\n",
      "predicted value:  [27.17153914] actual value:  [37.08290679]\n",
      "predicted value:  [44.60325449] actual value:  [43.92944009]\n",
      "predicted value:  [102.43645164] actual value:  [100.07677188]\n",
      "predicted value:  [-18.98351019] actual value:  [-16.35089361]\n",
      "predicted value:  [-70.30483103] actual value:  [-69.51774248]\n",
      "predicted value:  [-0.77197191] actual value:  [-4.54591284]\n",
      "predicted value:  [4.83137252] actual value:  [2.72885981]\n",
      "predicted value:  [44.63310699] actual value:  [44.02523435]\n",
      "predicted value:  [100.51844289] actual value:  [100.29995554]\n",
      "predicted value:  [-75.05392106] actual value:  [-77.77087751]\n",
      "predicted value:  [-2.21784015] actual value:  [-9.03068612]\n",
      "predicted value:  [75.12694907] actual value:  [85.80577934]\n",
      "predicted value:  [103.16859449] actual value:  [100.26363165]\n",
      "predicted value:  [-7.42699119] actual value:  [1.16415678]\n",
      "predicted value:  [34.00548774] actual value:  [37.47001252]\n",
      "predicted value:  [102.39330239] actual value:  [100.09627525]\n",
      "predicted value:  [-8.81335676] actual value:  [-1.11811789]\n",
      "predicted value:  [-68.65542549] actual value:  [-70.76422275]\n",
      "predicted value:  [1.24256768] actual value:  [-2.03261689]\n",
      "predicted value:  [-67.14645664] actual value:  [-65.52674115]\n",
      "predicted value:  [94.04863313] actual value:  [100.29997292]\n",
      "predicted value:  [57.18276929] actual value:  [67.90269867]\n",
      "predicted value:  [101.07743651] actual value:  [100.29655369]\n",
      "predicted value:  [15.830794] actual value:  [16.58698191]\n",
      "predicted value:  [47.37827747] actual value:  [58.30750414]\n",
      "predicted value:  [98.41881048] actual value:  [98.3779594]\n",
      "predicted value:  [-69.67276136] actual value:  [-82.40398113]\n",
      "predicted value:  [-52.5880477] actual value:  [-50.21422313]\n",
      "predicted value:  [41.75754433] actual value:  [39.44241098]\n",
      "predicted value:  [-100.71639703] actual value:  [-98.33671784]\n",
      "predicted value:  [-70.60846604] actual value:  [-69.84372992]\n",
      "predicted value:  [64.90644785] actual value:  [77.77545438]\n",
      "predicted value:  [-99.21701273] actual value:  [-97.69430768]\n",
      "predicted value:  [101.18007426] actual value:  [100.29964419]\n",
      "predicted value:  [91.54938841] actual value:  [100.29184814]\n",
      "predicted value:  [40.4353752] actual value:  [44.68463217]\n",
      "predicted value:  [-2.15210244] actual value:  [-5.88008492]\n",
      "predicted value:  [-45.49098744] actual value:  [-58.15410445]\n",
      "predicted value:  [87.18993893] actual value:  [97.70644341]\n",
      "predicted value:  [-1.34232256] actual value:  [-8.76076693]\n",
      "predicted value:  [90.17643329] actual value:  [98.79559339]\n",
      "predicted value:  [79.16357315] actual value:  [86.27699501]\n",
      "predicted value:  [-48.09646754] actual value:  [-47.3986373]\n",
      "predicted value:  [-11.76141532] actual value:  [-9.41858884]\n",
      "predicted value:  [99.46141336] actual value:  [99.97903345]\n",
      "predicted value:  [88.04332447] actual value:  [92.55903787]\n",
      "predicted value:  [-48.1294793] actual value:  [-45.76859092]\n",
      "predicted value:  [101.14006658] actual value:  [100.17768273]\n",
      "predicted value:  [18.22508925] actual value:  [19.44142342]\n",
      "predicted value:  [96.93624199] actual value:  [100.29999681]\n",
      "predicted value:  [-2.29692336] actual value:  [-9.04358552]\n",
      "predicted value:  [-100.7410398] actual value:  [-98.72427669]\n",
      "predicted value:  [91.62342229] actual value:  [94.95220053]\n",
      "predicted value:  [33.16037587] actual value:  [42.88469884]\n",
      "predicted value:  [102.38068513] actual value:  [99.90074512]\n",
      "predicted value:  [-12.16705037] actual value:  [-6.64054337]\n",
      "predicted value:  [99.041087] actual value:  [100.29999352]\n",
      "predicted value:  [-56.07541664] actual value:  [-55.14879993]\n",
      "predicted value:  [41.84827294] actual value:  [39.55264154]\n",
      "predicted value:  [-102.38343312] actual value:  [-98.9980458]\n",
      "predicted value:  [99.12576946] actual value:  [99.85807523]\n",
      "predicted value:  [-101.83843613] actual value:  [-98.76795806]\n",
      "predicted value:  [93.29424126] actual value:  [96.05498957]\n",
      "predicted value:  [92.29958022] actual value:  [95.39895369]\n",
      "predicted value:  [102.36829885] actual value:  [99.89250051]\n",
      "predicted value:  [44.39969176] actual value:  [43.39722871]\n",
      "predicted value:  [-81.21516812] actual value:  [-90.61906141]\n",
      "predicted value:  [-0.88102059] actual value:  [0.03374874]\n",
      "predicted value:  [-100.94685655] actual value:  [-98.76877212]\n",
      "predicted value:  [97.02445423] actual value:  [100.29999684]\n",
      "predicted value:  [-28.20629021] actual value:  [-27.31406957]\n",
      "predicted value:  [101.2323473] actual value:  [100.2985752]\n",
      "predicted value:  [-7.24205797] actual value:  [1.44512467]\n",
      "predicted value:  [-27.17370994] actual value:  [-26.16810116]\n",
      "predicted value:  [62.57961018] actual value:  [75.0139666]\n",
      "predicted value:  [-89.40125883] actual value:  [-91.44171534]\n",
      "predicted value:  [-52.22501571] actual value:  [-51.42503389]\n",
      "predicted value:  [83.66742886] actual value:  [90.10528619]\n",
      "predicted value:  [-87.43021859] actual value:  [-94.00640889]\n",
      "predicted value:  [-100.40371996] actual value:  [-98.64901113]\n",
      "predicted value:  [-11.08934497] actual value:  [-4.91668006]\n",
      "predicted value:  [99.66407497] actual value:  [100.03258787]\n",
      "predicted value:  [86.61583535] actual value:  [91.58621493]\n",
      "predicted value:  [100.40050611] actual value:  [100.28529509]\n",
      "predicted value:  [92.31176345] actual value:  [100.29912946]\n",
      "predicted value:  [-3.66457792] actual value:  [-5.72273012]\n",
      "predicted value:  [10.01384274] actual value:  [9.43101502]\n",
      "predicted value:  [96.86536118] actual value:  [97.78292808]\n",
      "predicted value:  [87.99867565] actual value:  [93.74471599]\n",
      "predicted value:  [94.72817583] actual value:  [100.29998855]\n",
      "predicted value:  [-18.24258441] actual value:  [-15.37986331]\n",
      "predicted value:  [86.44219314] actual value:  [92.91621556]\n",
      "predicted value:  [100.24793119] actual value:  [100.28186853]\n",
      "predicted value:  [-10.48899186] actual value:  [-9.47625466]\n",
      "predicted value:  [-16.98006842] actual value:  [-14.47511805]\n",
      "predicted value:  [33.87253674] actual value:  [37.32169114]\n",
      "predicted value:  [52.0169561] actual value:  [57.34247392]\n",
      "predicted value:  [-64.3792069] actual value:  [-62.49405293]\n",
      "predicted value:  [-26.43117812] actual value:  [-25.33369961]\n",
      "predicted value:  [92.0507244] actual value:  [95.23463982]\n",
      "predicted value:  [25.70189166] actual value:  [24.07119949]\n",
      "predicted value:  [-43.2195208] actual value:  [-42.71512748]\n",
      "predicted value:  [-101.64959678] actual value:  [-98.69717931]\n",
      "predicted value:  [11.27045694] actual value:  [1.84127014]\n",
      "predicted value:  [-53.85459654] actual value:  [-53.92626871]\n",
      "predicted value:  [105.07131135] actual value:  [100.29913529]\n",
      "predicted value:  [52.25389644] actual value:  [57.60183259]\n",
      "predicted value:  [7.10525729] actual value:  [-2.37390514]\n",
      "predicted value:  [-76.12110886] actual value:  [-75.99277789]\n",
      "predicted value:  [-72.08857984] actual value:  [-84.32313404]\n",
      "predicted value:  [37.67752631] actual value:  [42.60965958]\n",
      "predicted value:  [104.35258108] actual value:  [100.29437192]\n",
      "predicted value:  [-3.36235554] actual value:  [-7.04811901]\n",
      "predicted value:  [101.07848409] actual value:  [100.17646235]\n",
      "predicted value:  [100.47137336] actual value:  [99.97939192]\n",
      "predicted value:  [22.15503831] actual value:  [25.48592573]\n",
      "predicted value:  [-40.26179077] actual value:  [-39.808911]\n",
      "predicted value:  [21.96631647] actual value:  [30.45010867]\n",
      "predicted value:  [5.56363148] actual value:  [3.69494453]\n",
      "predicted value:  [-102.09709704] actual value:  [-98.86597994]\n",
      "predicted value:  [100.36466342] actual value:  [100.29996684]\n",
      "predicted value:  [97.38448697] actual value:  [100.29999683]\n",
      "predicted value:  [-33.92401288] actual value:  [-33.40851501]\n",
      "predicted value:  [-102.38493999] actual value:  [-99.0010667]\n",
      "predicted value:  [90.52508174] actual value:  [99.89700135]\n",
      "predicted value:  [10.34033384] actual value:  [12.02666429]\n",
      "predicted value:  [1.77129172] actual value:  [-6.90437753]\n",
      "predicted value:  [9.54630407] actual value:  [11.15831309]\n",
      "predicted value:  [95.28317224] actual value:  [100.29999325]\n",
      "predicted value:  [101.16364246] actual value:  [100.17807445]\n",
      "predicted value:  [61.83555045] actual value:  [68.02866356]\n",
      "predicted value:  [-12.68545267] actual value:  [-10.30444585]\n",
      "predicted value:  [9.79133717] actual value:  [10.25219368]\n",
      "predicted value:  [97.8020316] actual value:  [100.2999966]\n",
      "predicted value:  [90.91093929] actual value:  [100.21896678]\n",
      "predicted value:  [-72.49400871] actual value:  [-71.89607297]\n",
      "predicted value:  [100.85951901] actual value:  [100.16975778]\n",
      "predicted value:  [82.14954522] actual value:  [95.04574733]\n",
      "predicted value:  [-47.09194348] actual value:  [-44.74532672]\n",
      "predicted value:  [-102.27531256] actual value:  [-99.01074921]\n",
      "predicted value:  [-76.02132864] actual value:  [-75.83687252]\n",
      "predicted value:  [101.46122789] actual value:  [100.1793752]\n",
      "predicted value:  [101.67811453] actual value:  [100.1756512]\n",
      "predicted value:  [100.72312021] actual value:  [99.21993029]\n",
      "predicted value:  [40.32843485] actual value:  [44.48795023]\n",
      "predicted value:  [101.35644597] actual value:  [100.17970338]\n",
      "predicted value:  [33.90015999] actual value:  [45.36386689]\n",
      "predicted value:  [90.00847392] actual value:  [95.75254835]\n",
      "predicted value:  [43.68736092] actual value:  [48.19444159]\n",
      "predicted value:  [70.31363982] actual value:  [77.05243454]\n",
      "predicted value:  [-75.07483119] actual value:  [-74.68017735]\n",
      "predicted value:  [-69.55525237] actual value:  [-68.2278007]\n",
      "predicted value:  [37.38032728] actual value:  [42.3518692]\n",
      "predicted value:  [96.79022428] actual value:  [98.9344472]\n",
      "predicted value:  [-65.63494694] actual value:  [-78.9718576]\n",
      "predicted value:  [-35.73254754] actual value:  [-33.7676065]\n",
      "predicted value:  [12.3491805] actual value:  [3.00992003]\n",
      "predicted value:  [100.77437213] actual value:  [100.16610048]\n",
      "predicted value:  [-3.40187857] actual value:  [-7.21011323]\n",
      "predicted value:  [-102.15355245] actual value:  [-98.99630134]\n",
      "predicted value:  [41.61463917] actual value:  [45.34579404]\n",
      "predicted value:  [83.88225916] actual value:  [90.29339511]\n",
      "predicted value:  [56.25597206] actual value:  [61.97358842]\n",
      "predicted value:  [14.48092573] actual value:  [5.40405516]\n",
      "predicted value:  [96.79135526] actual value:  [100.29999675]\n",
      "predicted value:  [-35.63753057] actual value:  [-35.16843171]\n",
      "predicted value:  [30.57273321] actual value:  [33.62714811]\n",
      "predicted value:  [74.29885302] actual value:  [85.21097527]\n",
      "predicted value:  [19.77648651] actual value:  [11.80021974]\n",
      "predicted value:  [-70.25068196] actual value:  [-69.01933294]\n",
      "predicted value:  [-34.20088436] actual value:  [-32.27012143]\n",
      "predicted value:  [-34.38786286] actual value:  [-32.44896243]\n",
      "predicted value:  [37.04129849] actual value:  [34.39755035]\n",
      "predicted value:  [-75.7999169] actual value:  [-75.56346238]\n",
      "predicted value:  [91.86965294] actual value:  [100.29700596]\n",
      "predicted value:  [-102.37418733] actual value:  [-98.98894307]\n",
      "predicted value:  [-101.90081763] actual value:  [-98.95627185]\n",
      "predicted value:  [-96.36514823] actual value:  [-96.23210497]\n",
      "predicted value:  [97.1178101] actual value:  [98.6055222]\n",
      "predicted value:  [-75.19593258] actual value:  [-74.931438]\n",
      "predicted value:  [99.02693032] actual value:  [100.29999359]\n",
      "predicted value:  [-67.42510019] actual value:  [-65.83612668]\n",
      "predicted value:  [-72.67085107] actual value:  [-71.81933559]\n",
      "predicted value:  [94.42225741] actual value:  [96.799566]\n",
      "predicted value:  [-28.45431243] actual value:  [-26.06896295]\n",
      "predicted value:  [-15.17493326] actual value:  [-19.2746768]\n",
      "predicted value:  [7.60471295] actual value:  [-1.89530468]\n",
      "predicted value:  [-3.96042939] actual value:  [-5.08331004]\n",
      "predicted value:  [96.90524023] actual value:  [98.46088954]\n",
      "predicted value:  [-75.57354785] actual value:  [-75.2861918]\n",
      "predicted value:  [-59.58858744] actual value:  [-58.58076102]\n",
      "predicted value:  [99.50125203] actual value:  [99.78101896]\n",
      "predicted value:  [-76.22987851] actual value:  [-76.10046368]\n",
      "predicted value:  [-80.20835628] actual value:  [-83.10415796]\n",
      "predicted value:  [-75.70731545] actual value:  [-75.51842049]\n",
      "predicted value:  [-60.83028565] actual value:  [-61.89749704]\n",
      "predicted value:  [100.92963077] actual value:  [100.17231645]\n",
      "predicted value:  [101.12496685] actual value:  [100.29715057]\n",
      "predicted value:  [36.2204252] actual value:  [41.29485729]\n",
      "predicted value:  [23.67475562] actual value:  [27.27573434]\n",
      "predicted value:  [33.36201868] actual value:  [30.64674087]\n",
      "predicted value:  [11.64462455] actual value:  [13.4631749]\n",
      "predicted value:  [102.38655131] actual value:  [100.098679]\n",
      "predicted value:  [77.5942632] actual value:  [91.71508262]\n",
      "predicted value:  [-14.96457332] actual value:  [-10.85548852]\n",
      "predicted value:  [94.79554797] actual value:  [100.29998935]\n",
      "predicted value:  [66.91863168] actual value:  [76.56906098]\n",
      "predicted value:  [-3.83484576] actual value:  [-2.85253298]\n",
      "predicted value:  [31.13385317] actual value:  [28.87685866]\n",
      "predicted value:  [44.3841904] actual value:  [43.36191876]\n",
      "predicted value:  [14.95156314] actual value:  [14.75207686]\n",
      "predicted value:  [5.81342892] actual value:  [4.02322719]\n",
      "predicted value:  [-101.14415346] actual value:  [-98.50501418]\n",
      "predicted value:  [105.19086444] actual value:  [100.29942714]\n",
      "predicted value:  [100.56427201] actual value:  [99.16232811]\n",
      "predicted value:  [86.94279186] actual value:  [92.85544403]\n",
      "predicted value:  [-78.56703741] actual value:  [-88.95142158]\n",
      "predicted value:  [96.27700764] actual value:  [98.72696743]\n",
      "predicted value:  [-5.87182443] actual value:  [-4.89933294]\n",
      "predicted value:  [101.1923381] actual value:  [100.29800206]\n",
      "predicted value:  [-85.98327669] actual value:  [-88.56195027]\n",
      "predicted value:  [41.0589565] actual value:  [45.05541455]\n",
      "predicted value:  [-20.55528566] actual value:  [-19.23623517]\n",
      "predicted value:  [73.6965151] actual value:  [84.7720418]\n",
      "predicted value:  [105.00268306] actual value:  [100.29892236]\n",
      "predicted value:  [42.62311756] actual value:  [47.02133582]\n",
      "predicted value:  [-80.34707909] actual value:  [-90.08699109]\n",
      "predicted value:  [98.39390175] actual value:  [100.29999576]\n",
      "predicted value:  [-76.10110593] actual value:  [-75.93636542]\n",
      "predicted value:  [-102.16619946] actual value:  [-98.99803336]\n",
      "predicted value:  [99.91155596] actual value:  [99.8716238]\n",
      "predicted value:  [105.15848011] actual value:  [100.29935712]\n",
      "predicted value:  [97.11351394] actual value:  [100.29999685]\n",
      "predicted value:  [-16.37217438] actual value:  [-12.84729666]\n",
      "predicted value:  [94.3018273] actual value:  [96.73194649]\n",
      "predicted value:  [99.29389991] actual value:  [99.92400332]\n",
      "predicted value:  [6.5194717] actual value:  [7.88977491]\n",
      "predicted value:  [102.33936419] actual value:  [100.21365777]\n",
      "predicted value:  [-3.69188494] actual value:  [-5.67849378]\n",
      "predicted value:  [2.99707791] actual value:  [4.16441003]\n",
      "predicted value:  [98.53050596] actual value:  [99.52713795]\n",
      "predicted value:  [99.08056941] actual value:  [100.24277412]\n",
      "predicted value:  [97.76276572] actual value:  [100.29999664]\n",
      "predicted value:  [36.9796324] actual value:  [41.99556311]\n",
      "predicted value:  [-3.1412442] actual value:  [-8.92229069]\n",
      "predicted value:  [14.78631561] actual value:  [16.97582374]\n",
      "predicted value:  [-76.65952474] actual value:  [-87.66868099]\n",
      "predicted value:  [-8.83463488] actual value:  [-1.1541097]\n",
      "predicted value:  [102.39455076] actual value:  [100.09581657]\n",
      "predicted value:  [101.56688261] actual value:  [99.53288161]\n",
      "predicted value:  [-54.361085] actual value:  [-52.00713406]\n",
      "predicted value:  [-33.94389826] actual value:  [-33.4290885]\n",
      "MSE Score: 25.78639302157834\n"
     ]
    }
   ],
   "source": [
    "# Correctly denormalize predictions\n",
    "predictions3 = scaler_y.inverse_transform(predictions_scaled3.reshape(-1, 1))\n",
    "\n",
    "# Calculate MSE score\n",
    "for i in range(len(predictions3)):\n",
    "    print(\"predicted value: \",  predictions3[i], \"actual value: \", y_test_multimodal_large[i])\n",
    "mse_score3 = mse(predictions3, y_test_multimodal_large)\n",
    "\n",
    "print(f\"MSE Score: {mse_score3}\")"
   ]
  },
  {
   "cell_type": "code",
   "execution_count": 388,
   "metadata": {
    "ExecuteTime": {
     "end_time": "2024-03-12T07:38:09.013444Z",
     "start_time": "2024-03-12T07:38:09.012201Z"
    },
    "collapsed": false,
    "jupyter": {
     "outputs_hidden": false
    }
   },
   "outputs": [],
   "source": [
    "# mse<40, zalozenie spelnione"
   ]
  },
  {
   "cell_type": "code",
   "execution_count": null,
   "metadata": {
    "collapsed": false,
    "jupyter": {
     "outputs_hidden": false
    }
   },
   "outputs": [],
   "source": []
  },
  {
   "cell_type": "markdown",
   "metadata": {},
   "source": [
    "### steps-large dataset"
   ]
  },
  {
   "cell_type": "code",
   "execution_count": 572,
   "metadata": {
    "ExecuteTime": {
     "end_time": "2024-03-12T09:40:01.624544Z",
     "start_time": "2024-03-12T09:40:01.621101Z"
    },
    "collapsed": false,
    "jupyter": {
     "outputs_hidden": false
    }
   },
   "outputs": [],
   "source": [
    "df_train_steps_large = pd.read_csv(\"data/regression/steps-large-test.csv\")"
   ]
  },
  {
   "cell_type": "code",
   "execution_count": 573,
   "metadata": {
    "ExecuteTime": {
     "end_time": "2024-03-12T09:40:01.747795Z",
     "start_time": "2024-03-12T09:40:01.745949Z"
    },
    "collapsed": false,
    "jupyter": {
     "outputs_hidden": false
    }
   },
   "outputs": [],
   "source": [
    "scaler_X = DataScaler(method=\"standardization\")\n",
    "scaler_y = DataScaler(method=\"standardization\")\n"
   ]
  },
  {
   "cell_type": "code",
   "execution_count": 574,
   "metadata": {
    "ExecuteTime": {
     "end_time": "2024-03-12T09:40:01.925967Z",
     "start_time": "2024-03-12T09:40:01.922826Z"
    },
    "collapsed": false,
    "jupyter": {
     "outputs_hidden": false
    }
   },
   "outputs": [],
   "source": [
    "df_test_steps_large = pd.read_csv(\"data/regression/steps-large-test.csv\")\n",
    "\n",
    "X_test_steps_small = df_test_steps_large[\"x\"].values.reshape(-1, 1)\n",
    "y_test_steps_small = df_test_steps_large[\"y\"].values.reshape(-1, 1)"
   ]
  },
  {
   "cell_type": "code",
   "execution_count": 575,
   "metadata": {
    "ExecuteTime": {
     "end_time": "2024-03-12T09:40:02.084998Z",
     "start_time": "2024-03-12T09:40:02.082490Z"
    }
   },
   "outputs": [
    {
     "name": "stdout",
     "output_type": "stream",
     "text": [
      "[array([[ 0.22499592],\n",
      "       [ 0.66393297],\n",
      "       [ 0.81579735],\n",
      "       [-0.93381363],\n",
      "       [-1.56887485]]), array([[ 0.48408992, -0.90893581,  0.74451279,  0.26491836, -0.60762049],\n",
      "       [ 0.21036234,  0.76803741,  0.00444413,  0.28424456, -0.40550138],\n",
      "       [ 0.40071939, -0.39049337,  0.0533959 ,  0.28357303, -0.51281637],\n",
      "       [-0.09733522,  0.20233363, -0.15237367, -0.91242117, -0.4788253 ],\n",
      "       [ 0.66472232,  0.17079079,  0.40099151,  0.12026128,  0.05577142]]), array([[ 0.33198014, -0.44144792, -0.19640651, -0.21308176,  0.46809915]])]\n"
     ]
    }
   ],
   "source": [
    "mlp_steps = MLP([1, 5, 5, 1])"
   ]
  },
  {
   "cell_type": "code",
   "execution_count": 576,
   "metadata": {
    "ExecuteTime": {
     "end_time": "2024-03-12T09:40:02.256390Z",
     "start_time": "2024-03-12T09:40:02.254411Z"
    },
    "collapsed": false,
    "jupyter": {
     "outputs_hidden": false
    }
   },
   "outputs": [],
   "source": [
    "# Fit and transform the training data\n",
    "X_train_scaled2 = scaler_X.fit_transform(X_train_steps_small)\n",
    "y_train_scaled2 = scaler_y.fit_transform(y_train_steps_small)\n"
   ]
  },
  {
   "cell_type": "code",
   "execution_count": 577,
   "metadata": {
    "ExecuteTime": {
     "end_time": "2024-03-12T09:40:02.416635Z",
     "start_time": "2024-03-12T09:40:02.414683Z"
    },
    "collapsed": false,
    "jupyter": {
     "outputs_hidden": false
    }
   },
   "outputs": [],
   "source": [
    "training_data_scaled2 = [\n",
    "    (x.reshape(-1, 1), y) for x, y in zip(X_train_scaled2, y_train_scaled2)\n",
    "]"
   ]
  },
  {
   "cell_type": "code",
   "execution_count": 578,
   "metadata": {
    "ExecuteTime": {
     "end_time": "2024-03-12T09:40:09.514762Z",
     "start_time": "2024-03-12T09:40:02.701498Z"
    },
    "collapsed": false,
    "jupyter": {
     "outputs_hidden": false
    }
   },
   "outputs": [],
   "source": [
    "mlp_steps.train(\n",
    "    training_data_scaled2, epochs=5000, learning_rate=0.1, batch_size=10\n",
    ")"
   ]
  },
  {
   "cell_type": "markdown",
   "metadata": {
    "collapsed": false,
    "jupyter": {
     "outputs_hidden": false
    }
   },
   "source": [
    "#### testing"
   ]
  },
  {
   "cell_type": "code",
   "execution_count": 579,
   "metadata": {
    "ExecuteTime": {
     "end_time": "2024-03-12T09:40:09.517341Z",
     "start_time": "2024-03-12T09:40:09.515800Z"
    },
    "collapsed": false,
    "jupyter": {
     "outputs_hidden": false
    }
   },
   "outputs": [],
   "source": [
    "# Scale the test data using the transform method\n",
    "X_test_scaled2 = scaler_X.transform(X_test_steps_small)"
   ]
  },
  {
   "cell_type": "code",
   "execution_count": 580,
   "metadata": {
    "ExecuteTime": {
     "end_time": "2024-03-12T09:40:09.520388Z",
     "start_time": "2024-03-12T09:40:09.517913Z"
    },
    "collapsed": false,
    "jupyter": {
     "outputs_hidden": false
    }
   },
   "outputs": [],
   "source": [
    "# Generate predictions on the scaled test data\n",
    "predictions_scaled2 = np.array(\n",
    "    [mlp_steps.feedforward(x.reshape(-1, 1))[0] for x in X_test_scaled2]\n",
    ")"
   ]
  },
  {
   "cell_type": "code",
   "execution_count": 581,
   "metadata": {
    "ExecuteTime": {
     "end_time": "2024-03-12T09:40:09.525055Z",
     "start_time": "2024-03-12T09:40:09.521280Z"
    },
    "collapsed": false,
    "jupyter": {
     "outputs_hidden": false
    }
   },
   "outputs": [
    {
     "name": "stdout",
     "output_type": "stream",
     "text": [
      "predicted value:  [-75.68118152] actual value:  [-80]\n",
      "predicted value:  [92.72419888] actual value:  [80]\n",
      "predicted value:  [-88.27325684] actual value:  [-80]\n",
      "predicted value:  [-70.89335599] actual value:  [-80]\n",
      "predicted value:  [-78.9464397] actual value:  [-80]\n",
      "predicted value:  [18.76146075] actual value:  [0]\n",
      "predicted value:  [21.79168549] actual value:  [0]\n",
      "predicted value:  [-87.52498457] actual value:  [-80]\n",
      "predicted value:  [-74.5456806] actual value:  [-80]\n",
      "predicted value:  [25.60761617] actual value:  [0]\n",
      "predicted value:  [93.10415354] actual value:  [80]\n",
      "predicted value:  [62.59932508] actual value:  [80]\n",
      "predicted value:  [96.49685706] actual value:  [80]\n",
      "predicted value:  [-75.53582894] actual value:  [-80]\n",
      "predicted value:  [46.21620138] actual value:  [80]\n",
      "predicted value:  [78.11865653] actual value:  [80]\n",
      "predicted value:  [-18.89331856] actual value:  [0]\n",
      "predicted value:  [146.8935984] actual value:  [160]\n",
      "predicted value:  [-81.84228729] actual value:  [-80]\n",
      "predicted value:  [23.07946481] actual value:  [0]\n",
      "predicted value:  [-30.48132975] actual value:  [0]\n",
      "predicted value:  [-28.04612703] actual value:  [0]\n",
      "predicted value:  [-43.76135422] actual value:  [0]\n",
      "predicted value:  [147.7345774] actual value:  [160]\n",
      "predicted value:  [90.61428517] actual value:  [80]\n",
      "predicted value:  [100.6010311] actual value:  [80]\n",
      "predicted value:  [131.51212121] actual value:  [160]\n",
      "predicted value:  [64.45596002] actual value:  [80]\n",
      "predicted value:  [72.98981599] actual value:  [80]\n",
      "predicted value:  [139.46557466] actual value:  [160]\n",
      "predicted value:  [-77.13202844] actual value:  [-80]\n",
      "predicted value:  [140.26461174] actual value:  [160]\n",
      "predicted value:  [140.62864897] actual value:  [160]\n",
      "predicted value:  [-81.65980438] actual value:  [-80]\n",
      "predicted value:  [114.17840917] actual value:  [80]\n",
      "predicted value:  [93.89184914] actual value:  [80]\n",
      "predicted value:  [47.06237761] actual value:  [80]\n",
      "predicted value:  [-45.13980413] actual value:  [0]\n",
      "predicted value:  [-88.07041243] actual value:  [-80]\n",
      "predicted value:  [-44.24876331] actual value:  [0]\n",
      "predicted value:  [-72.01461899] actual value:  [-80]\n",
      "predicted value:  [-64.68786205] actual value:  [-80]\n",
      "predicted value:  [-2.70929629] actual value:  [0]\n",
      "predicted value:  [-88.48435243] actual value:  [-80]\n",
      "predicted value:  [99.7232701] actual value:  [80]\n",
      "predicted value:  [103.919739] actual value:  [80]\n",
      "predicted value:  [-78.35004589] actual value:  [-80]\n",
      "predicted value:  [-68.61889177] actual value:  [-80]\n",
      "predicted value:  [148.16395026] actual value:  [160]\n",
      "predicted value:  [131.21582562] actual value:  [160]\n",
      "MSE Score: 408.8511155751466\n"
     ]
    }
   ],
   "source": [
    "# Correctly denormalize predictions\n",
    "predictions2 = scaler_y.inverse_transform(predictions_scaled2.reshape(-1, 1))\n",
    "\n",
    "# Calculate MSE score\n",
    "for i in range(len(predictions2)):\n",
    "    print(\"predicted value: \",  predictions2[i], \"actual value: \", y_test_steps_small[i])\n",
    "mse_score2 = mse(predictions2, y_test_steps_small)\n",
    "\n",
    "print(f\"MSE Score: {mse_score2}\")"
   ]
  },
  {
   "cell_type": "code",
   "execution_count": 524,
   "metadata": {
    "ExecuteTime": {
     "end_time": "2024-03-12T09:36:21.435810Z",
     "start_time": "2024-03-12T09:36:21.433177Z"
    },
    "collapsed": false,
    "jupyter": {
     "outputs_hidden": false
    }
   },
   "outputs": [],
   "source": [
    "# nie ma optymalnego mse :(((("
   ]
  }
 ],
 "metadata": {
  "kernelspec": {
   "display_name": "Python 3 (ipykernel)",
   "language": "python",
   "name": "python3"
  },
  "language_info": {
   "codemirror_mode": {
    "name": "ipython",
    "version": 3
   },
   "file_extension": ".py",
   "mimetype": "text/x-python",
   "name": "python",
   "nbconvert_exporter": "python",
   "pygments_lexer": "ipython3",
   "version": "3.12.2"
  }
 },
 "nbformat": 4,
 "nbformat_minor": 4
}
