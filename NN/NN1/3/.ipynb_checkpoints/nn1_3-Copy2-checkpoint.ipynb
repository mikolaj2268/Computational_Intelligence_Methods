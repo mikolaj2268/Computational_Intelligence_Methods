{
 "cells": [
  {
   "cell_type": "markdown",
   "metadata": {},
   "source": [
    "# Defining MLP"
   ]
  },
  {
   "cell_type": "code",
   "execution_count": 47,
   "metadata": {
    "ExecuteTime": {
     "end_time": "2024-03-18T08:53:51.071542Z",
     "start_time": "2024-03-18T08:53:51.068706Z"
    }
   },
   "outputs": [
    {
     "name": "stdout",
     "output_type": "stream",
     "text": [
      "/Users/mikolajmroz/Developer/Computational_Intelligence_Methods\n"
     ]
    }
   ],
   "source": [
    "import os\n",
    "os.chdir('/Users/mikolajmroz/Developer/Computational_Intelligence_Methods')\n",
    "print(os.getcwd())"
   ]
  },
  {
   "cell_type": "code",
   "execution_count": 48,
   "metadata": {
    "ExecuteTime": {
     "end_time": "2024-03-18T08:53:52.088570Z",
     "start_time": "2024-03-18T08:53:52.086491Z"
    }
   },
   "outputs": [],
   "source": [
    "import numpy as np\n",
    "import pandas as pd \n",
    "import matplotlib.pyplot as plt"
   ]
  },
  {
   "cell_type": "code",
   "execution_count": 49,
   "metadata": {
    "ExecuteTime": {
     "end_time": "2024-03-18T08:53:52.527883Z",
     "start_time": "2024-03-18T08:53:52.526151Z"
    }
   },
   "outputs": [],
   "source": [
    "def sigmoid(x):\n",
    "    return 1 / (1 + np.exp(-x))"
   ]
  },
  {
   "cell_type": "code",
   "execution_count": 50,
   "metadata": {
    "ExecuteTime": {
     "end_time": "2024-03-18T08:53:52.817712Z",
     "start_time": "2024-03-18T08:53:52.815195Z"
    }
   },
   "outputs": [],
   "source": [
    "def sigmoid_derivative(x):\n",
    "    # Corrected sigmoid derivative to properly compute the derivative\n",
    "    return sigmoid(x) * (1 - sigmoid(x))"
   ]
  },
  {
   "cell_type": "code",
   "execution_count": 51,
   "metadata": {
    "ExecuteTime": {
     "end_time": "2024-03-18T08:53:53.075063Z",
     "start_time": "2024-03-18T08:53:53.072920Z"
    }
   },
   "outputs": [],
   "source": [
    "def mse(predictions, targets):\n",
    "    return np.mean((predictions - targets) ** 2)"
   ]
  },
  {
   "cell_type": "code",
   "execution_count": 52,
   "metadata": {
    "ExecuteTime": {
     "end_time": "2024-03-18T08:53:53.342492Z",
     "start_time": "2024-03-18T08:53:53.331010Z"
    }
   },
   "outputs": [],
   "source": [
    "class MLP:\n",
    "    def __init__(self, sizes, activation_fn='sigmoid'):\n",
    "        self.layer_sizes = sizes\n",
    "        \n",
    "        # Initialize weights with He initialization and biases with zeros\n",
    "        self.layer_weights = [\n",
    "            np.random.randn(next_layer, prev_layer) * np.sqrt(2.0 / (prev_layer + next_layer))\n",
    "            for prev_layer, next_layer in zip(sizes[:-1], sizes[1:])\n",
    "        ]\n",
    "        self.layer_biases = [np.zeros((neurons, 1)) for neurons in sizes[1:]]\n",
    "\n",
    "    def display_weights_biases(self):\n",
    "        # Print the final weights and biases after training\n",
    "        print(\"Final Weights and Biases:\")\n",
    "        for layer_index, (weights, biases) in enumerate(zip(self.layer_weights, self.layer_biases)):\n",
    "            print(f\"Layer {layer_index + 1} Weights:\\n{weights}\")\n",
    "            print(f\"Layer {layer_index + 1} Biases:\\n{biases}\")\n",
    "\n",
    "    def propagate_forward(self, input_activation):\n",
    "        # Forward pass through the network to get the output\n",
    "        activations = [input_activation]  # Store all layer activations\n",
    "        for biases, weights in zip(self.layer_biases[:-1], self.layer_weights[:-1]):\n",
    "            input_activation = sigmoid(np.dot(weights, input_activation) + biases)\n",
    "            activations.append(input_activation)\n",
    "        # Apply linear activation for the last layer\n",
    "        input_activation = np.dot(self.layer_weights[-1], input_activation) + self.layer_biases[-1]\n",
    "        activations.append(input_activation)\n",
    "        return activations[-1], activations\n",
    "\n",
    "    def backward_propagation(self, input_val, true_val):\n",
    "        # Backpropagate error and calculate gradient for weights and biases\n",
    "        weight_gradients = [np.zeros(weight.shape) for weight in self.layer_weights]\n",
    "        bias_gradients = [np.zeros(bias.shape) for bias in self.layer_biases]\n",
    "        final_act, acts = self.propagate_forward(input_val)\n",
    "        z_values = [np.dot(weight, act) + bias for weight, bias, act in zip(self.layer_weights, self.layer_biases, acts[:-1])]\n",
    "\n",
    "        # Calculate error at the output layer\n",
    "        error = self.cost_derivative(final_act, true_val)\n",
    "        bias_gradients[-1] = error\n",
    "        weight_gradients[-1] = np.dot(error, acts[-2].T)\n",
    "\n",
    "        # Backpropagate the error to previous layers\n",
    "        for l in range(2, len(self.layer_sizes)):\n",
    "            sigmoid_grad = sigmoid_derivative(z_values[-l])\n",
    "            error = np.dot(self.layer_weights[-l + 1].T, error) * sigmoid_grad\n",
    "            bias_gradients[-l] = error\n",
    "            weight_gradients[-l] = np.dot(error, acts[-l - 1].T)\n",
    "\n",
    "        return weight_gradients, bias_gradients\n",
    "\n",
    "    def update_batch(self, batch, learn_rate, regularization, total_size, optimization_method, beta, epsilon=None):\n",
    "        gradient_w = [np.zeros(weight.shape) for weight in self.layer_weights]\n",
    "        gradient_b = [np.zeros(bias.shape) for bias in self.layer_biases]\n",
    "        for input_val, true_val in batch:\n",
    "            delta_gradient_w, delta_gradient_b = self.backward_propagation(input_val, true_val)\n",
    "            gradient_w = [w + dw for w, dw in zip(gradient_w, delta_gradient_w)]\n",
    "            gradient_b = [b + db for b, db in zip(gradient_b, delta_gradient_b)]\n",
    "\n",
    "        if optimization_method == 'momentum':\n",
    "            if not hasattr(self, 'velocity_weights'):\n",
    "                self.velocity_weights = [np.zeros_like(w) for w in self.layer_weights]\n",
    "                self.velocity_biases = [np.zeros_like(b) for b in self.layer_biases]\n",
    "                \n",
    "            self.velocity_weights = [beta * vw + (1 - beta) * gw for vw, gw in zip(self.velocity_weights, gradient_w)]\n",
    "            self.velocity_biases = [beta * vb + (1 - beta) * gb for vb, gb in zip(self.velocity_biases, gradient_b)]\n",
    "            self.layer_weights = [(1 - learn_rate * (regularization / total_size)) * w - learn_rate * vw\n",
    "                                  for w, vw in zip(self.layer_weights, self.velocity_weights)]\n",
    "            self.layer_biases = [b - learn_rate * vb for b, vb in zip(self.layer_biases, self.velocity_biases)]\n",
    "            \n",
    "        elif optimization_method == 'rmsprop':\n",
    "            if not hasattr(self, 'squared_gradients_weights'):\n",
    "                self.squared_gradients_weights = [np.zeros_like(w) for w in self.layer_weights]\n",
    "                self.squared_gradients_biases = [np.zeros_like(b) for b in self.layer_biases]\n",
    "                \n",
    "            self.squared_gradients_weights = [beta * sgw + (1 - beta) * (gw**2)\n",
    "                                              for sgw, gw in zip(self.squared_gradients_weights, gradient_w)]\n",
    "            self.squared_gradients_biases = [beta * sgb + (1 - beta) * (gb**2)\n",
    "                                             for sgb, gb in zip(self.squared_gradients_biases, gradient_b)]\n",
    "            self.layer_weights = [(1 - learn_rate * (regularization / total_size)) * w - \n",
    "                                  (learn_rate / (np.sqrt(sgw) + epsilon)) * gw\n",
    "                                  for w, sgw, gw in zip(self.layer_weights, self.squared_gradients_weights, gradient_w)]\n",
    "            self.layer_biases = [b - (learn_rate / (np.sqrt(sgb) + epsilon)) * gb\n",
    "                                 for b, sgb, gb in zip(self.layer_biases, self.squared_gradients_biases, gradient_b)]\n",
    "    \n",
    "    def train(self, training_set, epoch_count, learn_rate, batch_size_input, regularization=0.0,\n",
    "              visual_interval=100, optimization_method='momentum', beta=0.9, epsilon=1e-8, X_val_scaled = None, y_val_scaled = None, X_val = None, y_val = None,\n",
    "             scaler_X = None, scaler_y = None, mse_limit = None):\n",
    "\n",
    "        mse_history = []\n",
    "        data_size = len(training_set)\n",
    "        rate_init = learn_rate\n",
    "        mse_history = []  # To store MSE values if tracking is enabled\n",
    "    \n",
    "        # Determine mini_batch_size based on input type\n",
    "        if isinstance(batch_size_input, float):  # Input is percentage\n",
    "            mini_batch_size = max(1, min(data_size, int(data_size * batch_size_input / 100)))\n",
    "        elif isinstance(batch_size_input, int):  # Input is fixed value\n",
    "            mini_batch_size = max(1, min(data_size, batch_size_input))\n",
    "        else:\n",
    "            raise ValueError(\"batch_size_input must be an integer (fixed size) or a float (percentage of dataset)\")\n",
    "        \n",
    "        for epoch in range(epoch_count):\n",
    "            np.random.shuffle(training_set)\n",
    "            mini_batches = [training_set[k:k + mini_batch_size] for k in range(0, data_size, mini_batch_size)]\n",
    "            for mini_batch in mini_batches:\n",
    "                self.update_batch(mini_batch, learn_rate, regularization, data_size, optimization_method, beta, epsilon)\n",
    "    \n",
    "            learn_rate = rate_init / (1 + 0.01 * epoch)\n",
    "\n",
    "            if epoch % visual_interval == 0 or epoch == epoch_count - 1:\n",
    "                # Generate predictions on the scaled test data\n",
    "                predictions_scaled_mse = np.array(\n",
    "                    [self.propagate_forward(x.reshape(-1, 1))[0] for x in X_val_scaled])            \n",
    "        \n",
    "                predictions_mse = scaler_y.inverse_transform(predictions_scaled_mse.reshape(-1, 1))\n",
    "        \n",
    "                current_mse = mse(predictions_mse, y_val)\n",
    "                mse_history.append(current_mse)\n",
    "                print(f'Epoch {epoch}, MSE: {current_mse}')\n",
    "\n",
    "                if mse_limit!= None:\n",
    "                    if current_mse < mse_limit:\n",
    "                        break\n",
    "\n",
    "\n",
    "\n",
    "    def cost_derivative(self, output_acts, true_val):\n",
    "        # Calculate the derivative of the cost function\n",
    "        return (output_acts - true_val)\n",
    "\n",
    "    \n",
    "    \n",
    "    \n",
    "    # def visualize_weights(self):\n",
    "    #     # Visualize how the weights change over time during training\n",
    "    #     epochs, layer_weights = zip(*self.weight_history)\n",
    "    #     for layer_index, weights in enumerate(zip(*layer_weights)):\n",
    "    #         plt.plot(epochs, [np.mean(np.abs(weight)) for weight in weights], label=f'Layer {layer_index + 1}')\n",
    "        \n",
    "    #     plt.xlabel('Epoch')\n",
    "    #     plt.ylabel('Average Absolute Weight')\n",
    "    #     plt.title('Weight Change Over Time')\n",
    "    #     plt.legend()\n",
    "    #     plt.show()\n"
   ]
  },
  {
   "cell_type": "code",
   "execution_count": 53,
   "metadata": {
    "ExecuteTime": {
     "end_time": "2024-03-18T08:53:53.573784Z",
     "start_time": "2024-03-18T08:53:53.569789Z"
    },
    "collapsed": false,
    "jupyter": {
     "outputs_hidden": false
    }
   },
   "outputs": [],
   "source": [
    "class DataScaler:\n",
    "    def __init__(self, method=\"standardization\"):\n",
    "        self.method = method\n",
    "        self.min = None\n",
    "        self.max = None\n",
    "        self.mean = None\n",
    "        self.std = None\n",
    "\n",
    "    def fit_transform(self, data):\n",
    "        if self.method == \"min_max\":\n",
    "            return self.fit_transform_min_max(data)\n",
    "        elif self.method == \"standardization\":\n",
    "            return self.fit_transform_standardization(data)\n",
    "        else:\n",
    "            raise ValueError(\"Unsupported scaling method\")\n",
    "\n",
    "    def transform(self, data):\n",
    "        if self.method == \"min_max\":\n",
    "            return self.transform_min_max(data)\n",
    "        elif self.method == \"standardization\":\n",
    "            return self.transform_standardization(data)\n",
    "        else:\n",
    "            raise ValueError(\"Unsupported scaling method\")\n",
    "\n",
    "    def inverse_transform(self, data):\n",
    "        if self.method == \"min_max\":\n",
    "            return self.inverse_transform_min_max(data)\n",
    "        elif self.method == \"standardization\":\n",
    "            return self.inverse_transform_standardization(data)\n",
    "        else:\n",
    "            raise ValueError(\"Unsupported scaling method\")\n",
    "\n",
    "    def fit_transform_min_max(self, data):\n",
    "        self.min = np.min(data, axis=0)\n",
    "        self.max = np.max(data, axis=0)\n",
    "        return (data - self.min) / (self.max - self.min)\n",
    "\n",
    "    def transform_min_max(self, data):\n",
    "        return (data - self.min) / (self.max - self.min)\n",
    "\n",
    "    def inverse_transform_min_max(self, data):\n",
    "        return data * (self.max - self.min) + self.min\n",
    "\n",
    "    def fit_transform_standardization(self, data):\n",
    "        self.mean = np.mean(data, axis=0)\n",
    "        self.std = np.std(data, axis=0)\n",
    "        return (data - self.mean) / self.std\n",
    "\n",
    "    def transform_standardization(self, data):\n",
    "        return (data - self.mean) / self.std\n",
    "\n",
    "    def inverse_transform_standardization(self, data):\n",
    "        return data * self.std + self.mean"
   ]
  },
  {
   "cell_type": "code",
   "execution_count": 54,
   "metadata": {},
   "outputs": [],
   "source": [
    "def plot_mse(mse_history):\n",
    "    plt.plot(mse_history)\n",
    "    plt.title('MSE Over Epochs')\n",
    "    plt.xlabel('Epoch')\n",
    "    plt.ylabel('Mean Squared Error')\n",
    "    plt.show()"
   ]
  },
  {
   "cell_type": "markdown",
   "metadata": {},
   "source": [
    "# Loading data"
   ]
  },
  {
   "cell_type": "code",
   "execution_count": 55,
   "metadata": {
    "ExecuteTime": {
     "end_time": "2024-03-18T08:58:02.491238Z",
     "start_time": "2024-03-18T08:58:02.485298Z"
    }
   },
   "outputs": [],
   "source": [
    "df_train_square_large = pd.read_csv('./data/regression/square-large-training.csv')\n",
    "df_test_square_large = pd.read_csv('./data/regression/square-large-test.csv')"
   ]
  },
  {
   "cell_type": "code",
   "execution_count": 56,
   "metadata": {
    "ExecuteTime": {
     "end_time": "2024-03-18T08:58:02.635390Z",
     "start_time": "2024-03-18T08:58:02.628870Z"
    }
   },
   "outputs": [],
   "source": [
    "df_train_steps_large = pd.read_csv('./data/regression/steps-large-training.csv')\n",
    "df_test_steps_large = pd.read_csv('./data/regression/steps-large-test.csv')"
   ]
  },
  {
   "cell_type": "code",
   "execution_count": 57,
   "metadata": {
    "ExecuteTime": {
     "end_time": "2024-03-18T08:58:02.785722Z",
     "start_time": "2024-03-18T08:58:02.779133Z"
    },
    "collapsed": false,
    "jupyter": {
     "outputs_hidden": false
    }
   },
   "outputs": [],
   "source": [
    "df_train_multimodal_large = pd.read_csv('./data/regression/multimodal-large-training.csv')\n",
    "df_test_multimodal_large = pd.read_csv('./data/regression/multimodal-large-test.csv')"
   ]
  },
  {
   "cell_type": "code",
   "execution_count": 58,
   "metadata": {
    "ExecuteTime": {
     "end_time": "2024-03-18T08:58:02.923424Z",
     "start_time": "2024-03-18T08:58:02.921539Z"
    }
   },
   "outputs": [],
   "source": [
    "X_train_square_large = df_train_square_large['x'].values.reshape(-1, 1)\n",
    "y_train_square_large = df_train_square_large['y'].values.reshape(-1, 1)"
   ]
  },
  {
   "cell_type": "code",
   "execution_count": 59,
   "metadata": {
    "ExecuteTime": {
     "end_time": "2024-03-18T08:58:03.080163Z",
     "start_time": "2024-03-18T08:58:03.078207Z"
    }
   },
   "outputs": [],
   "source": [
    "X_test_square_large = df_test_square_large['x'].values.reshape(-1, 1)\n",
    "y_test_square_large = df_test_square_large['y'].values.reshape(-1, 1)"
   ]
  },
  {
   "cell_type": "code",
   "execution_count": 60,
   "metadata": {
    "ExecuteTime": {
     "end_time": "2024-03-18T08:58:03.220354Z",
     "start_time": "2024-03-18T08:58:03.218528Z"
    }
   },
   "outputs": [],
   "source": [
    "X_train_steps_large = df_train_steps_large['x'].values.reshape(-1, 1)\n",
    "y_train_steps_large = df_train_steps_large['y'].values.reshape(-1, 1)"
   ]
  },
  {
   "cell_type": "code",
   "execution_count": 61,
   "metadata": {
    "ExecuteTime": {
     "end_time": "2024-03-18T08:58:03.365428Z",
     "start_time": "2024-03-18T08:58:03.363521Z"
    }
   },
   "outputs": [],
   "source": [
    "X_test_steps_large = df_test_steps_large['x'].values.reshape(-1, 1)\n",
    "y_test_steps_large = df_test_steps_large['y'].values.reshape(-1, 1)"
   ]
  },
  {
   "cell_type": "code",
   "execution_count": 62,
   "metadata": {
    "ExecuteTime": {
     "end_time": "2024-03-18T08:58:03.530040Z",
     "start_time": "2024-03-18T08:58:03.528065Z"
    },
    "collapsed": false,
    "jupyter": {
     "outputs_hidden": false
    }
   },
   "outputs": [],
   "source": [
    "X_train_multimodal_large = df_train_multimodal_large['x'].values.reshape(-1, 1)\n",
    "y_train_multimodal_large = df_train_multimodal_large['y'].values.reshape(-1, 1)"
   ]
  },
  {
   "cell_type": "code",
   "execution_count": 63,
   "metadata": {
    "ExecuteTime": {
     "end_time": "2024-03-18T08:58:03.736892Z",
     "start_time": "2024-03-18T08:58:03.734832Z"
    },
    "collapsed": false,
    "jupyter": {
     "outputs_hidden": false
    }
   },
   "outputs": [],
   "source": [
    "X_test_multimodal_large = df_test_multimodal_large['x'].values.reshape(-1, 1)\n",
    "y_test_multimodal_large = df_test_multimodal_large['y'].values.reshape(-1, 1)"
   ]
  },
  {
   "cell_type": "markdown",
   "metadata": {},
   "source": [
    "### square-large dataset"
   ]
  },
  {
   "cell_type": "code",
   "execution_count": 101,
   "metadata": {
    "ExecuteTime": {
     "end_time": "2024-03-18T08:58:04.076928Z",
     "start_time": "2024-03-18T08:58:04.075111Z"
    },
    "collapsed": false,
    "jupyter": {
     "outputs_hidden": false
    }
   },
   "outputs": [],
   "source": [
    "scaler_X = DataScaler(\"standardization\")\n",
    "scaler_y = DataScaler(\"standardization\")"
   ]
  },
  {
   "cell_type": "code",
   "execution_count": 102,
   "metadata": {
    "ExecuteTime": {
     "end_time": "2024-03-18T08:58:04.410581Z",
     "start_time": "2024-03-18T08:58:04.408039Z"
    },
    "collapsed": false,
    "jupyter": {
     "outputs_hidden": false
    }
   },
   "outputs": [],
   "source": [
    "# Fit and transform the training data\n",
    "X_train_scaled = scaler_X.fit_transform(X_train_square_large)\n",
    "y_train_scaled = scaler_y.fit_transform(y_train_square_large)\n"
   ]
  },
  {
   "cell_type": "code",
   "execution_count": 103,
   "metadata": {},
   "outputs": [],
   "source": [
    "# Scale the test data using the transform method\n",
    "X_test_scaled = scaler_X.transform(X_test_square_large)\n",
    "y_test_scaled = scaler_y.transform(y_test_square_large)"
   ]
  },
  {
   "cell_type": "code",
   "execution_count": 104,
   "metadata": {
    "ExecuteTime": {
     "end_time": "2024-03-18T08:58:05.495484Z",
     "start_time": "2024-03-18T08:58:05.492823Z"
    }
   },
   "outputs": [],
   "source": [
    "training_data = [(x.reshape(-1, 1), y) for x, y in zip(X_train_square_large, y_train_square_large)]"
   ]
  },
  {
   "cell_type": "code",
   "execution_count": 105,
   "metadata": {
    "ExecuteTime": {
     "end_time": "2024-03-18T08:58:05.879286Z",
     "start_time": "2024-03-18T08:58:05.877213Z"
    }
   },
   "outputs": [],
   "source": [
    "mlp_square_1_5 = MLP([1, 6, 1] )"
   ]
  },
  {
   "cell_type": "code",
   "execution_count": 106,
   "metadata": {
    "ExecuteTime": {
     "end_time": "2024-03-18T08:58:06.216609Z",
     "start_time": "2024-03-18T08:58:06.214542Z"
    },
    "collapsed": false,
    "jupyter": {
     "outputs_hidden": false
    }
   },
   "outputs": [],
   "source": [
    "training_data_scaled = [\n",
    "    (x.reshape(-1, 1), y) for x, y in zip(X_train_scaled, y_train_scaled)\n",
    "]"
   ]
  },
  {
   "cell_type": "code",
   "execution_count": 107,
   "metadata": {
    "ExecuteTime": {
     "start_time": "2024-03-18T08:59:07.980020Z"
    },
    "collapsed": false,
    "is_executing": true,
    "jupyter": {
     "outputs_hidden": false
    }
   },
   "outputs": [
    {
     "name": "stdout",
     "output_type": "stream",
     "text": [
      "Epoch 0, MSE: 11247.699284287133\n",
      "Epoch 100, MSE: 124.4908228194856\n",
      "Epoch 200, MSE: 104.62045180716044\n",
      "Epoch 300, MSE: 78.4126105980604\n",
      "Epoch 400, MSE: 70.97487754884601\n",
      "Epoch 500, MSE: 59.36796168046778\n",
      "Epoch 600, MSE: 56.65199323168206\n",
      "Epoch 700, MSE: 54.59979915165517\n",
      "Epoch 800, MSE: 51.86071332087862\n",
      "Epoch 900, MSE: 46.63732372639489\n",
      "Epoch 1000, MSE: 45.34256934965207\n",
      "Epoch 1100, MSE: 44.000816616027436\n",
      "Epoch 1200, MSE: 41.42873023762965\n",
      "Epoch 1300, MSE: 41.695993162110824\n",
      "Epoch 1400, MSE: 40.413674193424306\n",
      "Epoch 1500, MSE: 38.83751672933797\n",
      "Epoch 1600, MSE: 38.27316764252169\n",
      "Epoch 1700, MSE: 37.07875326855474\n",
      "Epoch 1800, MSE: 36.060707248512884\n",
      "Epoch 1900, MSE: 36.13145495273183\n",
      "Epoch 2000, MSE: 34.194788082517235\n",
      "Epoch 2100, MSE: 32.25758410657896\n",
      "Epoch 2200, MSE: 32.70366701412671\n",
      "Epoch 2300, MSE: 31.549251431698103\n",
      "Epoch 2400, MSE: 31.138561392214264\n",
      "Epoch 2500, MSE: 30.776030513429383\n",
      "Epoch 2600, MSE: 30.508858656167323\n",
      "Epoch 2700, MSE: 29.626966961403685\n",
      "Epoch 2800, MSE: 29.190057537261055\n",
      "Epoch 2900, MSE: 28.340079152767867\n",
      "Epoch 3000, MSE: 27.246095225287938\n",
      "Epoch 3100, MSE: 27.872147651484937\n",
      "Epoch 3200, MSE: 27.436964525316533\n",
      "Epoch 3300, MSE: 26.249939974068063\n",
      "Epoch 3400, MSE: 26.400229368999547\n",
      "Epoch 3500, MSE: 26.092869122048487\n",
      "Epoch 3600, MSE: 24.89154072533006\n",
      "Epoch 3700, MSE: 25.0787689332433\n",
      "Epoch 3800, MSE: 24.814567637626176\n",
      "Epoch 3900, MSE: 24.346696652460675\n",
      "Epoch 4000, MSE: 23.622330819777673\n",
      "Epoch 4100, MSE: 23.715674522825722\n",
      "Epoch 4200, MSE: 23.239730667940766\n",
      "Epoch 4300, MSE: 23.04957719432863\n",
      "Epoch 4400, MSE: 22.701053588742948\n",
      "Epoch 4500, MSE: 22.522613320448343\n",
      "Epoch 4600, MSE: 22.247952031371003\n",
      "Epoch 4700, MSE: 21.80336328655627\n",
      "Epoch 4800, MSE: 21.251676488944266\n",
      "Epoch 4900, MSE: 21.189489399672595\n",
      "Epoch 4999, MSE: 21.143712581593565\n"
     ]
    }
   ],
   "source": [
    "mlp_square_1_5.train(\n",
    "    training_data_scaled, epoch_count=5000, learn_rate=0.01, batch_size_input=10,\n",
    "    optimization_method='rmsprop', beta=0.9, epsilon=1e-8, \n",
    "    X_val_scaled = X_test_scaled, y_val_scaled = y_test_scaled, X_val = X_test_square_large, y_val = y_test_square_large, scaler_y = scaler_y,\n",
    "    mse_limit = 5\n",
    ")"
   ]
  },
  {
   "cell_type": "markdown",
   "metadata": {},
   "source": [
    "#### testing"
   ]
  },
  {
   "cell_type": "code",
   "execution_count": 75,
   "metadata": {
    "collapsed": false,
    "is_executing": true,
    "jupyter": {
     "outputs_hidden": false
    }
   },
   "outputs": [],
   "source": [
    "# Generate predictions on the scaled test data\n",
    "predictions_scaled = np.array(\n",
    "    [mlp_square_1_5.propagate_forward(x.reshape(-1, 1))[0] for x in X_test_scaled]\n",
    ")"
   ]
  },
  {
   "cell_type": "code",
   "execution_count": 76,
   "metadata": {
    "is_executing": true
   },
   "outputs": [
    {
     "name": "stdout",
     "output_type": "stream",
     "text": [
      "predicted value:  [37.99527522] actual value:  [38.0481491]\n",
      "predicted value:  [-116.01402869] actual value:  [-116.30927998]\n",
      "predicted value:  [-22.4851113] actual value:  [-22.98888333]\n",
      "predicted value:  [164.02517467] actual value:  [163.49243459]\n",
      "predicted value:  [-50.63075809] actual value:  [-50.79309017]\n",
      "predicted value:  [26.23432452] actual value:  [26.14905307]\n",
      "predicted value:  [-96.15734932] actual value:  [-95.99910634]\n",
      "predicted value:  [-1.28979069] actual value:  [-1.67979449]\n",
      "predicted value:  [12.78673168] actual value:  [11.84130953]\n",
      "predicted value:  [-36.09109689] actual value:  [-36.5786339]\n",
      "predicted value:  [-49.45216052] actual value:  [-49.85187483]\n",
      "predicted value:  [-38.23153982] actual value:  [-38.70966897]\n",
      "predicted value:  [-89.78151881] actual value:  [-89.65420844]\n",
      "predicted value:  [140.53695164] actual value:  [151.89903669]\n",
      "predicted value:  [-86.25534156] actual value:  [-86.1941224]\n",
      "predicted value:  [156.7359515] actual value:  [172.6273849]\n",
      "predicted value:  [-100.5026888] actual value:  [-100.32110445]\n",
      "predicted value:  [-72.27070142] actual value:  [-72.17197075]\n",
      "predicted value:  [-113.41874052] actual value:  [-113.64601417]\n",
      "predicted value:  [128.39423114] actual value:  [128.27243858]\n",
      "predicted value:  [-83.77927811] actual value:  [-83.74861466]\n",
      "predicted value:  [-61.58244] actual value:  [-61.84998947]\n",
      "predicted value:  [-61.84213037] actual value:  [-62.10643046]\n",
      "predicted value:  [-22.97333219] actual value:  [-23.59778146]\n",
      "predicted value:  [-117.67506657] actual value:  [-118.01604062]\n",
      "predicted value:  [-122.62658755] actual value:  [-122.71763816]\n",
      "predicted value:  [77.03487332] actual value:  [77.33467832]\n",
      "predicted value:  [-117.15825492] actual value:  [-117.09194257]\n",
      "predicted value:  [121.8104066] actual value:  [121.7773226]\n",
      "predicted value:  [-98.25215413] actual value:  [-98.19501262]\n",
      "predicted value:  [-42.55427121] actual value:  [-42.84874679]\n",
      "predicted value:  [-63.7449159] actual value:  [-63.98499359]\n",
      "predicted value:  [-15.12609264] actual value:  [-15.86723314]\n",
      "predicted value:  [-124.83876694] actual value:  [-125.38127315]\n",
      "predicted value:  [-74.46618491] actual value:  [-74.56084016]\n",
      "predicted value:  [-86.71740446] actual value:  [-86.65069026]\n",
      "predicted value:  [17.88935697] actual value:  [16.95951543]\n",
      "predicted value:  [-52.29091684] actual value:  [-52.66360937]\n",
      "predicted value:  [-86.82207311] actual value:  [-86.68422539]\n",
      "predicted value:  [-98.6907713] actual value:  [-98.6389582]\n",
      "predicted value:  [-9.28486657] actual value:  [-9.73543362]\n",
      "predicted value:  [-103.55677711] actual value:  [-103.57570396]\n",
      "predicted value:  [-62.29354192] actual value:  [-62.29238045]\n",
      "predicted value:  [-47.26761836] actual value:  [-47.48371089]\n",
      "predicted value:  [171.36218014] actual value:  [192.27905314]\n",
      "predicted value:  [-94.97399338] actual value:  [-94.82453406]\n",
      "predicted value:  [-41.84543665] actual value:  [-42.30353839]\n",
      "predicted value:  [-105.4203991] actual value:  [-105.23323233]\n",
      "predicted value:  [143.62489653] actual value:  [155.77393821]\n",
      "predicted value:  [-128.51262118] actual value:  [-128.92797208]\n",
      "predicted value:  [109.53025714] actual value:  [114.70140678]\n",
      "predicted value:  [-53.90193023] actual value:  [-54.01434023]\n",
      "predicted value:  [196.23369423] actual value:  [228.16989123]\n",
      "predicted value:  [-68.40846647] actual value:  [-68.58662664]\n",
      "predicted value:  [-2.50986393] actual value:  [-2.91029626]\n",
      "predicted value:  [62.24854361] actual value:  [62.58804891]\n",
      "predicted value:  [-115.9398815] actual value:  [-115.84933327]\n",
      "predicted value:  [-101.47207377] actual value:  [-101.45806902]\n",
      "predicted value:  [-84.38017537] actual value:  [-84.34193817]\n",
      "predicted value:  [-104.08840845] actual value:  [-104.11636591]\n",
      "predicted value:  [0.7389353] actual value:  [0.36712491]\n",
      "predicted value:  [211.33894391] actual value:  [211.56582438]\n",
      "predicted value:  [-128.99741586] actual value:  [-129.59650617]\n",
      "predicted value:  [118.85704943] actual value:  [125.5891127]\n",
      "predicted value:  [62.08705475] actual value:  [62.4172721]\n",
      "predicted value:  [93.67102464] actual value:  [93.92081166]\n",
      "predicted value:  [-64.09739828] actual value:  [-64.3329138]\n",
      "predicted value:  [71.30799213] actual value:  [71.60161957]\n",
      "predicted value:  [104.60426849] actual value:  [104.76917065]\n",
      "predicted value:  [-128.65315677] actual value:  [-129.2579797]\n",
      "predicted value:  [131.09862207] actual value:  [140.26034327]\n",
      "predicted value:  [-60.0947343] actual value:  [-60.38061519]\n",
      "predicted value:  [-55.00015949] actual value:  [-55.09642891]\n",
      "predicted value:  [-86.83072609] actual value:  [-86.6928992]\n",
      "predicted value:  [-110.80843913] actual value:  [-110.97243289]\n",
      "predicted value:  [-88.86201887] actual value:  [-88.73069377]\n",
      "predicted value:  [98.43135082] actual value:  [102.03837997]\n",
      "predicted value:  [-120.49148383] actual value:  [-120.51040906]\n",
      "predicted value:  [-34.99484941] actual value:  [-35.48648757]\n",
      "predicted value:  [-129.10598587] actual value:  [-129.58363677]\n",
      "predicted value:  [-56.72070615] actual value:  [-56.79239189]\n",
      "predicted value:  [-125.03571611] actual value:  [-125.58324519]\n",
      "predicted value:  [95.12550296] actual value:  [95.36623166]\n",
      "predicted value:  [125.65417131] actual value:  [125.56977237]\n",
      "predicted value:  [-128.89189367] actual value:  [-129.34445023]\n",
      "predicted value:  [-27.70986117] actual value:  [-28.21629506]\n",
      "predicted value:  [-27.05116274] actual value:  [-27.55786679]\n",
      "predicted value:  [34.71934774] actual value:  [34.73503378]\n",
      "predicted value:  [150.14363201] actual value:  [149.73481671]\n",
      "predicted value:  [-120.9794506] actual value:  [-121.41459516]\n",
      "predicted value:  [-114.32155494] actual value:  [-114.20376672]\n",
      "predicted value:  [-16.54213098] actual value:  [-17.26346803]\n",
      "predicted value:  [55.57578538] actual value:  [55.79414753]\n",
      "predicted value:  [133.60008259] actual value:  [133.40639484]\n",
      "predicted value:  [-119.97114749] actual value:  [-119.97474339]\n",
      "predicted value:  [-93.80624045] actual value:  [-93.66633199]\n",
      "predicted value:  [132.60479683] actual value:  [142.09768429]\n",
      "predicted value:  [-35.61827702] actual value:  [-36.03143612]\n",
      "predicted value:  [-129.36572172] actual value:  [-129.88500121]\n",
      "predicted value:  [-129.18950901] actual value:  [-129.67845046]\n",
      "predicted value:  [-29.38861597] actual value:  [-29.89356302]\n",
      "predicted value:  [-52.25700899] actual value:  [-52.39419603]\n",
      "predicted value:  [-79.21544842] actual value:  [-79.24482485]\n",
      "predicted value:  [-125.00868627] actual value:  [-125.20157676]\n",
      "predicted value:  [-122.65643607] actual value:  [-123.13951026]\n",
      "predicted value:  [57.34316924] actual value:  [57.57392343]\n",
      "predicted value:  [85.05340401] actual value:  [87.15327921]\n",
      "predicted value:  [-81.54905474] actual value:  [-81.40887412]\n",
      "predicted value:  [-45.94148396] actual value:  [-46.37078523]\n",
      "predicted value:  [-126.59333198] actual value:  [-126.87134438]\n",
      "predicted value:  [18.64556399] actual value:  [17.71980484]\n",
      "predicted value:  [-82.51049549] actual value:  [-82.49611365]\n",
      "predicted value:  [91.53392777] actual value:  [94.3154103]\n",
      "predicted value:  [-65.67551739] actual value:  [-65.63604038]\n",
      "predicted value:  [-57.39383204] actual value:  [-57.71164924]\n",
      "predicted value:  [152.88235907] actual value:  [167.60364662]\n",
      "predicted value:  [87.95370753] actual value:  [90.34777308]\n",
      "predicted value:  [-119.82735684] actual value:  [-120.22939109]\n",
      "predicted value:  [-116.65984884] actual value:  [-116.58321493]\n",
      "predicted value:  [2.94812964] actual value:  [2.02558103]\n",
      "predicted value:  [-129.44563007] actual value:  [-129.99823874]\n",
      "predicted value:  [21.97668567] actual value:  [21.83974885]\n",
      "predicted value:  [105.12963504] actual value:  [109.64421622]\n",
      "predicted value:  [-128.13396045] actual value:  [-128.73909926]\n",
      "predicted value:  [78.66610168] actual value:  [78.9654733]\n",
      "predicted value:  [-123.54377342] actual value:  [-124.0516472]\n",
      "predicted value:  [-58.11661166] actual value:  [-58.16903057]\n",
      "predicted value:  [140.95919126] actual value:  [152.42686767]\n",
      "predicted value:  [83.06877981] actual value:  [83.36209003]\n",
      "predicted value:  [48.83769324] actual value:  [48.53791604]\n",
      "predicted value:  [-82.11758283] actual value:  [-81.9766875]\n",
      "predicted value:  [-83.0454191] actual value:  [-83.02412744]\n",
      "predicted value:  [-61.95518409] actual value:  [-61.9581181]\n",
      "predicted value:  [-121.39705564] actual value:  [-121.84420056]\n",
      "predicted value:  [-129.1847268] actual value:  [-129.77660442]\n",
      "predicted value:  [-33.25948898] actual value:  [-33.71313163]\n",
      "predicted value:  [-101.8449859] actual value:  [-101.83658192]\n",
      "predicted value:  [128.66234803] actual value:  [137.30383367]\n",
      "predicted value:  [-102.06072725] actual value:  [-102.05562112]\n",
      "predicted value:  [205.91460934] actual value:  [205.90716589]\n",
      "predicted value:  [9.27258078] actual value:  [8.32781775]\n",
      "predicted value:  [68.87026386] actual value:  [69.15768097]\n",
      "predicted value:  [84.12161919] actual value:  [86.13061672]\n",
      "predicted value:  [5.69288176] actual value:  [4.75754908]\n",
      "predicted value:  [-53.35838871] actual value:  [-53.72024519]\n",
      "predicted value:  [-53.87531593] actual value:  [-53.98812119]\n",
      "predicted value:  [-8.11964085] actual value:  [-8.94844933]\n",
      "predicted value:  [-120.18117424] actual value:  [-120.19085977]\n",
      "predicted value:  [113.05934218] actual value:  [118.79332791]\n",
      "predicted value:  [-128.25778795] actual value:  [-128.86343495]\n",
      "predicted value:  [-75.80197714] actual value:  [-75.68117311]\n",
      "predicted value:  [89.54234298] actual value:  [89.81385559]\n",
      "predicted value:  [-9.40157555] actual value:  [-10.21575814]\n",
      "predicted value:  [-128.90899282] actual value:  [-129.36340849]\n",
      "predicted value:  [183.86678037] actual value:  [209.8963499]\n",
      "predicted value:  [-128.54606704] actual value:  [-128.96445325]\n",
      "predicted value:  [-110.96987796] actual value:  [-111.13762486]\n",
      "predicted value:  [195.98587567] actual value:  [227.79464575]\n",
      "predicted value:  [-123.52770135] actual value:  [-123.65425719]\n",
      "predicted value:  [-125.52061188] actual value:  [-126.0801264]\n",
      "predicted value:  [-110.82131559] actual value:  [-110.661576]\n",
      "predicted value:  [147.99986187] actual value:  [161.32371025]\n",
      "predicted value:  [-96.56448365] actual value:  [-96.4034396]\n",
      "predicted value:  [-85.03359416] actual value:  [-84.89266142]\n",
      "predicted value:  [38.60849165] actual value:  [37.98404837]\n",
      "predicted value:  [-9.64501437] actual value:  [-10.45634285]\n",
      "predicted value:  [-106.45195681] actual value:  [-106.52316891]\n",
      "predicted value:  [-86.62437891] actual value:  [-86.55876527]\n",
      "predicted value:  [40.34522053] actual value:  [39.76688901]\n",
      "predicted value:  [-116.35969954] actual value:  [-116.66433917]\n",
      "predicted value:  [-48.63124864] actual value:  [-48.82528289]\n",
      "predicted value:  [-97.49264675] actual value:  [-97.42668342]\n",
      "predicted value:  [83.52608038] actual value:  [85.47790667]\n",
      "predicted value:  [-68.58606831] actual value:  [-68.51774619]\n",
      "predicted value:  [64.42344904] actual value:  [64.89206011]\n",
      "predicted value:  [-126.89476181] actual value:  [-127.48391195]\n",
      "predicted value:  [-49.66220844] actual value:  [-50.0600156]\n",
      "predicted value:  [144.30565165] actual value:  [156.63282795]\n",
      "predicted value:  [-113.1721279] actual value:  [-113.39319318]\n",
      "predicted value:  [37.93605263] actual value:  [37.98826683]\n",
      "predicted value:  [-114.72181972] actual value:  [-114.98264336]\n",
      "predicted value:  [-126.67389582] actual value:  [-127.25886343]\n",
      "predicted value:  [172.81192463] actual value:  [172.25194635]\n",
      "predicted value:  [-19.89237453] actual value:  [-20.39080668]\n",
      "predicted value:  [-128.61434211] actual value:  [-129.21945392]\n",
      "predicted value:  [208.04478276] actual value:  [208.12326481]\n",
      "predicted value:  [-69.92484925] actual value:  [-69.84465453]\n",
      "predicted value:  [17.15752268] actual value:  [16.22417852]\n",
      "predicted value:  [-22.52420782] actual value:  [-23.02804024]\n",
      "predicted value:  [67.62342423] actual value:  [67.90685616]\n",
      "predicted value:  [-79.8015891] actual value:  [-79.66499985]\n",
      "predicted value:  [117.0992018] actual value:  [117.12632457]\n",
      "predicted value:  [118.12050679] actual value:  [118.1348806]\n",
      "predicted value:  [6.47480749] actual value:  [6.15958787]\n",
      "predicted value:  [-98.86366106] actual value:  [-98.81399546]\n",
      "predicted value:  [-85.66478259] actual value:  [-85.61068741]\n",
      "predicted value:  [-52.96511385] actual value:  [-53.09154991]\n",
      "predicted value:  [172.26434194] actual value:  [171.704551]\n",
      "predicted value:  [75.20557267] actual value:  [76.4304708]\n",
      "predicted value:  [-85.01421918] actual value:  [-84.87326619]\n",
      "predicted value:  [-106.30166031] actual value:  [-106.11631351]\n",
      "predicted value:  [-33.64846554] actual value:  [-34.09544533]\n",
      "predicted value:  [134.91642062] actual value:  [134.70455261]\n",
      "predicted value:  [-117.65401836] actual value:  [-117.5985547]\n",
      "predicted value:  [-102.14816384] actual value:  [-102.14440633]\n",
      "predicted value:  [-113.22549826] actual value:  [-113.09221304]\n",
      "predicted value:  [-114.79364585] actual value:  [-114.68324952]\n",
      "predicted value:  [78.73603557] actual value:  [79.03536672]\n",
      "predicted value:  [-105.6418214] actual value:  [-105.4550235]\n",
      "predicted value:  [62.50088639] actual value:  [62.76236659]\n",
      "predicted value:  [127.1722031] actual value:  [127.06715116]\n",
      "predicted value:  [-123.07956573] actual value:  [-123.18804814]\n",
      "predicted value:  [-41.96308389] actual value:  [-42.42044759]\n",
      "predicted value:  [-112.97621047] actual value:  [-113.19237669]\n",
      "predicted value:  [55.1165816] actual value:  [55.0837765]\n",
      "predicted value:  [155.77652949] actual value:  [155.30813447]\n",
      "predicted value:  [-34.40520223] actual value:  [-34.83920224]\n",
      "predicted value:  [175.97104216] actual value:  [198.67883467]\n",
      "predicted value:  [-22.67265148] actual value:  [-23.30184945]\n",
      "predicted value:  [-29.47514593] actual value:  [-29.99309579]\n",
      "predicted value:  [-125.23311248] actual value:  [-125.43705689]\n",
      "predicted value:  [-92.00213834] actual value:  [-91.87855772]\n",
      "predicted value:  [-129.43414291] actual value:  [-129.99642924]\n",
      "predicted value:  [81.08405951] actual value:  [82.80878814]\n",
      "predicted value:  [-100.51221196] actual value:  [-100.33059364]\n",
      "predicted value:  [-106.90272387] actual value:  [-106.71917015]\n",
      "predicted value:  [-43.62610579] actual value:  [-43.90251547]\n",
      "predicted value:  [-28.92400076] actual value:  [-29.45120967]\n",
      "predicted value:  [-99.06949617] actual value:  [-99.02242216]\n",
      "predicted value:  [-76.59991773] actual value:  [-76.47515498]\n",
      "predicted value:  [-23.92470557] actual value:  [-24.43030205]\n",
      "predicted value:  [-23.15511873] actual value:  [-23.77668805]\n",
      "predicted value:  [-127.1402213] actual value:  [-127.73366073]\n",
      "predicted value:  [34.52380193] actual value:  [34.53722706]\n",
      "predicted value:  [-44.32823877] actual value:  [-44.59288151]\n",
      "predicted value:  [-127.14540124] actual value:  [-127.73892666]\n",
      "predicted value:  [30.92619992] actual value:  [30.89736524]\n",
      "predicted value:  [-88.64814606] actual value:  [-88.51598381]\n",
      "predicted value:  [-129.4229473] actual value:  [-129.95825677]\n",
      "predicted value:  [-23.21883048] actual value:  [-23.72363507]\n",
      "predicted value:  [18.66447333] actual value:  [17.73882235]\n",
      "predicted value:  [218.98882779] actual value:  [219.63942399]\n",
      "predicted value:  [170.42983084] actual value:  [169.87223406]\n",
      "predicted value:  [-129.09372602] actual value:  [-129.56980972]\n",
      "predicted value:  [75.20067541] actual value:  [76.42518391]\n",
      "predicted value:  [-124.12254314] actual value:  [-124.27445463]\n",
      "predicted value:  [160.87127394] actual value:  [178.08725612]\n",
      "predicted value:  [167.45527958] actual value:  [166.90608159]\n",
      "predicted value:  [185.83916461] actual value:  [212.75114683]\n",
      "predicted value:  [-121.49248039] actual value:  [-121.54327775]\n",
      "predicted value:  [-44.86938923] actual value:  [-45.30683841]\n",
      "predicted value:  [10.52244888] actual value:  [9.57644042]\n",
      "predicted value:  [-70.79009128] actual value:  [-70.70271642]\n",
      "predicted value:  [-125.39649891] actual value:  [-125.95300237]\n",
      "predicted value:  [-112.81799488] actual value:  [-113.03022642]\n",
      "predicted value:  [-94.63257611] actual value:  [-94.48582145]\n",
      "predicted value:  [-111.45614676] actual value:  [-111.30244131]\n",
      "predicted value:  [-54.25928254] actual value:  [-54.6117198]\n",
      "predicted value:  [-83.71066889] actual value:  [-83.5689898]\n",
      "predicted value:  [52.45108352] actual value:  [52.29826959]\n",
      "predicted value:  [144.24273016] actual value:  [156.55337039]\n",
      "predicted value:  [168.79520412] actual value:  [168.2415097]\n",
      "predicted value:  [172.66568208] actual value:  [194.07843348]\n",
      "predicted value:  [125.01570094] actual value:  [124.93993174]\n",
      "predicted value:  [-104.36647872] actual value:  [-104.39926204]\n",
      "predicted value:  [-73.2100951] actual value:  [-73.32217212]\n",
      "predicted value:  [-122.96978059] actual value:  [-123.07396284]\n",
      "predicted value:  [-62.82984632] actual value:  [-62.82228762]\n",
      "predicted value:  [186.56930077] actual value:  [213.81347314]\n",
      "predicted value:  [-120.67112545] actual value:  [-121.09740252]\n",
      "predicted value:  [-111.34442108] actual value:  [-111.18960593]\n",
      "predicted value:  [192.92055461] actual value:  [223.18482792]\n",
      "predicted value:  [-91.57827867] actual value:  [-91.45879007]\n",
      "predicted value:  [81.00303151] actual value:  [82.72042477]\n",
      "predicted value:  [102.87009518] actual value:  [103.05093805]\n",
      "predicted value:  [95.95279104] actual value:  [99.2508307]\n",
      "predicted value:  [-123.70407154] actual value:  [-123.83797779]\n",
      "predicted value:  [-40.70191212] actual value:  [-41.02785306]\n",
      "predicted value:  [-120.48759749] actual value:  [-120.50640519]\n",
      "predicted value:  [165.42015107] actual value:  [164.87989358]\n",
      "predicted value:  [-55.27432438] actual value:  [-55.61585781]\n",
      "predicted value:  [-116.57625738] actual value:  [-116.88681446]\n",
      "predicted value:  [-129.3353143] actual value:  [-129.91604466]\n",
      "predicted value:  [-87.40423508] actual value:  [-87.32948804]\n",
      "predicted value:  [-127.94293486] actual value:  [-128.54676443]\n",
      "predicted value:  [-70.00214915] actual value:  [-69.92129699]\n",
      "predicted value:  [-126.6493531] actual value:  [-126.93071962]\n",
      "predicted value:  [-50.06454705] actual value:  [-50.45865922]\n",
      "predicted value:  [-23.2601888] actual value:  [-23.76504525]\n",
      "predicted value:  [12.58228854] actual value:  [12.33406612]\n",
      "predicted value:  [-90.02775823] actual value:  [-89.90163828]\n",
      "predicted value:  [90.15546194] actual value:  [90.42412709]\n",
      "predicted value:  [-77.43254945] actual value:  [-77.30407803]\n",
      "predicted value:  [-72.99189369] actual value:  [-73.10699643]\n",
      "predicted value:  [6.2362909] actual value:  [5.29898507]\n",
      "predicted value:  [197.51629234] actual value:  [197.24019481]\n",
      "predicted value:  [28.50594078] actual value:  [27.67959659]\n",
      "predicted value:  [27.25468832] actual value:  [26.41071123]\n",
      "predicted value:  [-106.55833834] actual value:  [-106.37370137]\n",
      "predicted value:  [-50.6307094] actual value:  [-51.01952963]\n",
      "MSE Score: 28.767114219212544\n"
     ]
    }
   ],
   "source": [
    "# Correctly denormalize predictions\n",
    "predictions = scaler_y.inverse_transform(predictions_scaled.reshape(-1, 1))\n",
    "\n",
    "# Calculate MSE score\n",
    "for i in range(len(predictions)):\n",
    "    print(\"predicted value: \",  predictions[i], \"actual value: \", y_test_square_large[i])\n",
    "mse_score = mse(predictions, y_test_square_large)\n",
    "\n",
    "print(f\"MSE Score: {mse_score}\")"
   ]
  },
  {
   "cell_type": "markdown",
   "metadata": {
    "collapsed": false,
    "jupyter": {
     "outputs_hidden": false
    }
   },
   "source": [
    "### multimodal-large dataset"
   ]
  },
  {
   "cell_type": "code",
   "execution_count": 87,
   "metadata": {
    "ExecuteTime": {
     "end_time": "2024-03-12T09:25:48.365820Z",
     "start_time": "2024-03-12T09:25:48.363595Z"
    },
    "collapsed": false,
    "jupyter": {
     "outputs_hidden": false
    }
   },
   "outputs": [],
   "source": [
    "# Initialize the scaler for X and y with the desired scaling method\n",
    "scaler_X = DataScaler(method=\"min_max\")\n",
    "scaler_y = DataScaler(method=\"min_max\")"
   ]
  },
  {
   "cell_type": "code",
   "execution_count": 88,
   "metadata": {
    "ExecuteTime": {
     "end_time": "2024-03-18T08:58:04.410581Z",
     "start_time": "2024-03-18T08:58:04.408039Z"
    },
    "collapsed": false,
    "jupyter": {
     "outputs_hidden": false
    }
   },
   "outputs": [],
   "source": [
    "# Fit and transform the training data\n",
    "X_train_scaled = scaler_X.fit_transform(X_train_multimodal_large)\n",
    "y_train_scaled = scaler_y.fit_transform(y_train_multimodal_large)\n"
   ]
  },
  {
   "cell_type": "code",
   "execution_count": 89,
   "metadata": {},
   "outputs": [],
   "source": [
    "# Scale the test data using the transform method\n",
    "X_test_scaled = scaler_X.transform(X_test_multimodal_large)\n",
    "y_test_scaled = scaler_y.transform(y_test_multimodal_large)"
   ]
  },
  {
   "cell_type": "code",
   "execution_count": 90,
   "metadata": {
    "ExecuteTime": {
     "end_time": "2024-03-18T08:58:05.495484Z",
     "start_time": "2024-03-18T08:58:05.492823Z"
    }
   },
   "outputs": [],
   "source": [
    "training_data = [(x.reshape(-1, 1), y) for x, y in zip(X_train_multimodal_large, y_train_multimodal_large)]"
   ]
  },
  {
   "cell_type": "code",
   "execution_count": 91,
   "metadata": {
    "ExecuteTime": {
     "end_time": "2024-03-18T08:58:05.879286Z",
     "start_time": "2024-03-18T08:58:05.877213Z"
    }
   },
   "outputs": [],
   "source": [
    "mlp_square_1_5 = MLP([1, 6, 1] )"
   ]
  },
  {
   "cell_type": "code",
   "execution_count": 92,
   "metadata": {
    "ExecuteTime": {
     "end_time": "2024-03-18T08:58:06.216609Z",
     "start_time": "2024-03-18T08:58:06.214542Z"
    },
    "collapsed": false,
    "jupyter": {
     "outputs_hidden": false
    }
   },
   "outputs": [],
   "source": [
    "training_data_scaled = [\n",
    "    (x.reshape(-1, 1), y) for x, y in zip(X_train_scaled, y_train_scaled)\n",
    "]"
   ]
  },
  {
   "cell_type": "code",
   "execution_count": 93,
   "metadata": {
    "ExecuteTime": {
     "start_time": "2024-03-18T08:59:07.980020Z"
    },
    "collapsed": false,
    "is_executing": true,
    "jupyter": {
     "outputs_hidden": false
    }
   },
   "outputs": [
    {
     "name": "stdout",
     "output_type": "stream",
     "text": [
      "Epoch 0, MSE: 3154.1423244431544\n",
      "Epoch 100, MSE: 1467.9947214575488\n",
      "Epoch 200, MSE: 1418.314749693194\n",
      "Epoch 300, MSE: 1462.2260210342142\n",
      "Epoch 400, MSE: 1401.715901858059\n",
      "Epoch 500, MSE: 1397.6745682648916\n",
      "Epoch 600, MSE: 1539.721652748145\n",
      "Epoch 700, MSE: 1397.7999191081685\n",
      "Epoch 800, MSE: 1400.2141951280914\n"
     ]
    },
    {
     "ename": "KeyboardInterrupt",
     "evalue": "",
     "output_type": "error",
     "traceback": [
      "\u001b[0;31m---------------------------------------------------------------------------\u001b[0m",
      "\u001b[0;31mKeyboardInterrupt\u001b[0m                         Traceback (most recent call last)",
      "Cell \u001b[0;32mIn[93], line 1\u001b[0m\n\u001b[0;32m----> 1\u001b[0m \u001b[43mmlp_square_1_5\u001b[49m\u001b[38;5;241;43m.\u001b[39;49m\u001b[43mtrain\u001b[49m\u001b[43m(\u001b[49m\n\u001b[1;32m      2\u001b[0m \u001b[43m    \u001b[49m\u001b[43mtraining_data_scaled\u001b[49m\u001b[43m,\u001b[49m\u001b[43m \u001b[49m\u001b[43mepoch_count\u001b[49m\u001b[38;5;241;43m=\u001b[39;49m\u001b[38;5;241;43m15000\u001b[39;49m\u001b[43m,\u001b[49m\u001b[43m \u001b[49m\u001b[43mlearn_rate\u001b[49m\u001b[38;5;241;43m=\u001b[39;49m\u001b[38;5;241;43m0.1\u001b[39;49m\u001b[43m,\u001b[49m\u001b[43m \u001b[49m\u001b[43mbatch_size_input\u001b[49m\u001b[38;5;241;43m=\u001b[39;49m\u001b[38;5;241;43m10\u001b[39;49m\u001b[43m,\u001b[49m\n\u001b[1;32m      3\u001b[0m \u001b[43m    \u001b[49m\u001b[43moptimization_method\u001b[49m\u001b[38;5;241;43m=\u001b[39;49m\u001b[38;5;124;43m'\u001b[39;49m\u001b[38;5;124;43mrmsprop\u001b[39;49m\u001b[38;5;124;43m'\u001b[39;49m\u001b[43m,\u001b[49m\u001b[43m \u001b[49m\u001b[43mbeta\u001b[49m\u001b[38;5;241;43m=\u001b[39;49m\u001b[38;5;241;43m0.9\u001b[39;49m\u001b[43m,\u001b[49m\u001b[43m \u001b[49m\u001b[43mepsilon\u001b[49m\u001b[38;5;241;43m=\u001b[39;49m\u001b[38;5;241;43m1e-8\u001b[39;49m\u001b[43m,\u001b[49m\u001b[43m \u001b[49m\n\u001b[1;32m      4\u001b[0m \u001b[43m    \u001b[49m\u001b[43mX_val_scaled\u001b[49m\u001b[43m \u001b[49m\u001b[38;5;241;43m=\u001b[39;49m\u001b[43m \u001b[49m\u001b[43mX_test_scaled\u001b[49m\u001b[43m,\u001b[49m\u001b[43m \u001b[49m\u001b[43my_val_scaled\u001b[49m\u001b[43m \u001b[49m\u001b[38;5;241;43m=\u001b[39;49m\u001b[43m \u001b[49m\u001b[43my_test_scaled\u001b[49m\u001b[43m,\u001b[49m\u001b[43m \u001b[49m\u001b[43mX_val\u001b[49m\u001b[43m \u001b[49m\u001b[38;5;241;43m=\u001b[39;49m\u001b[43m \u001b[49m\u001b[43mX_test_multimodal_large\u001b[49m\u001b[43m,\u001b[49m\u001b[43m \u001b[49m\u001b[43my_val\u001b[49m\u001b[43m \u001b[49m\u001b[38;5;241;43m=\u001b[39;49m\u001b[43m \u001b[49m\u001b[43my_test_multimodal_large\u001b[49m\u001b[43m,\u001b[49m\u001b[43m \u001b[49m\u001b[43mscaler_y\u001b[49m\u001b[43m \u001b[49m\u001b[38;5;241;43m=\u001b[39;49m\u001b[43m \u001b[49m\u001b[43mscaler_y\u001b[49m\u001b[43m,\u001b[49m\n\u001b[1;32m      5\u001b[0m \u001b[43m    \u001b[49m\u001b[43mmse_limit\u001b[49m\u001b[43m \u001b[49m\u001b[38;5;241;43m=\u001b[39;49m\u001b[43m \u001b[49m\u001b[38;5;241;43m100\u001b[39;49m\n\u001b[1;32m      6\u001b[0m \u001b[43m)\u001b[49m\n",
      "Cell \u001b[0;32mIn[52], line 106\u001b[0m, in \u001b[0;36mMLP.train\u001b[0;34m(self, training_set, epoch_count, learn_rate, batch_size_input, regularization, visual_interval, optimization_method, beta, epsilon, X_val_scaled, y_val_scaled, X_val, y_val, scaler_X, scaler_y, mse_limit)\u001b[0m\n\u001b[1;32m    104\u001b[0m mini_batches \u001b[38;5;241m=\u001b[39m [training_set[k:k \u001b[38;5;241m+\u001b[39m mini_batch_size] \u001b[38;5;28;01mfor\u001b[39;00m k \u001b[38;5;129;01min\u001b[39;00m \u001b[38;5;28mrange\u001b[39m(\u001b[38;5;241m0\u001b[39m, data_size, mini_batch_size)]\n\u001b[1;32m    105\u001b[0m \u001b[38;5;28;01mfor\u001b[39;00m mini_batch \u001b[38;5;129;01min\u001b[39;00m mini_batches:\n\u001b[0;32m--> 106\u001b[0m     \u001b[38;5;28;43mself\u001b[39;49m\u001b[38;5;241;43m.\u001b[39;49m\u001b[43mupdate_batch\u001b[49m\u001b[43m(\u001b[49m\u001b[43mmini_batch\u001b[49m\u001b[43m,\u001b[49m\u001b[43m \u001b[49m\u001b[43mlearn_rate\u001b[49m\u001b[43m,\u001b[49m\u001b[43m \u001b[49m\u001b[43mregularization\u001b[49m\u001b[43m,\u001b[49m\u001b[43m \u001b[49m\u001b[43mdata_size\u001b[49m\u001b[43m,\u001b[49m\u001b[43m \u001b[49m\u001b[43moptimization_method\u001b[49m\u001b[43m,\u001b[49m\u001b[43m \u001b[49m\u001b[43mbeta\u001b[49m\u001b[43m,\u001b[49m\u001b[43m \u001b[49m\u001b[43mepsilon\u001b[49m\u001b[43m)\u001b[49m\n\u001b[1;32m    108\u001b[0m learn_rate \u001b[38;5;241m=\u001b[39m rate_init \u001b[38;5;241m/\u001b[39m (\u001b[38;5;241m1\u001b[39m \u001b[38;5;241m+\u001b[39m \u001b[38;5;241m0.01\u001b[39m \u001b[38;5;241m*\u001b[39m epoch)\n\u001b[1;32m    110\u001b[0m \u001b[38;5;28;01mif\u001b[39;00m epoch \u001b[38;5;241m%\u001b[39m visual_interval \u001b[38;5;241m==\u001b[39m \u001b[38;5;241m0\u001b[39m \u001b[38;5;129;01mor\u001b[39;00m epoch \u001b[38;5;241m==\u001b[39m epoch_count \u001b[38;5;241m-\u001b[39m \u001b[38;5;241m1\u001b[39m:\n\u001b[1;32m    111\u001b[0m     \u001b[38;5;66;03m# Generate predictions on the scaled test data\u001b[39;00m\n",
      "Cell \u001b[0;32mIn[52], line 55\u001b[0m, in \u001b[0;36mMLP.update_batch\u001b[0;34m(self, batch, learn_rate, regularization, total_size, optimization_method, beta, epsilon)\u001b[0m\n\u001b[1;32m     53\u001b[0m gradient_b \u001b[38;5;241m=\u001b[39m [np\u001b[38;5;241m.\u001b[39mzeros(bias\u001b[38;5;241m.\u001b[39mshape) \u001b[38;5;28;01mfor\u001b[39;00m bias \u001b[38;5;129;01min\u001b[39;00m \u001b[38;5;28mself\u001b[39m\u001b[38;5;241m.\u001b[39mlayer_biases]\n\u001b[1;32m     54\u001b[0m \u001b[38;5;28;01mfor\u001b[39;00m input_val, true_val \u001b[38;5;129;01min\u001b[39;00m batch:\n\u001b[0;32m---> 55\u001b[0m     delta_gradient_w, delta_gradient_b \u001b[38;5;241m=\u001b[39m \u001b[38;5;28;43mself\u001b[39;49m\u001b[38;5;241;43m.\u001b[39;49m\u001b[43mbackward_propagation\u001b[49m\u001b[43m(\u001b[49m\u001b[43minput_val\u001b[49m\u001b[43m,\u001b[49m\u001b[43m \u001b[49m\u001b[43mtrue_val\u001b[49m\u001b[43m)\u001b[49m\n\u001b[1;32m     56\u001b[0m     gradient_w \u001b[38;5;241m=\u001b[39m [w \u001b[38;5;241m+\u001b[39m dw \u001b[38;5;28;01mfor\u001b[39;00m w, dw \u001b[38;5;129;01min\u001b[39;00m \u001b[38;5;28mzip\u001b[39m(gradient_w, delta_gradient_w)]\n\u001b[1;32m     57\u001b[0m     gradient_b \u001b[38;5;241m=\u001b[39m [b \u001b[38;5;241m+\u001b[39m db \u001b[38;5;28;01mfor\u001b[39;00m b, db \u001b[38;5;129;01min\u001b[39;00m \u001b[38;5;28mzip\u001b[39m(gradient_b, delta_gradient_b)]\n",
      "Cell \u001b[0;32mIn[52], line 34\u001b[0m, in \u001b[0;36mMLP.backward_propagation\u001b[0;34m(self, input_val, true_val)\u001b[0m\n\u001b[1;32m     32\u001b[0m weight_gradients \u001b[38;5;241m=\u001b[39m [np\u001b[38;5;241m.\u001b[39mzeros(weight\u001b[38;5;241m.\u001b[39mshape) \u001b[38;5;28;01mfor\u001b[39;00m weight \u001b[38;5;129;01min\u001b[39;00m \u001b[38;5;28mself\u001b[39m\u001b[38;5;241m.\u001b[39mlayer_weights]\n\u001b[1;32m     33\u001b[0m bias_gradients \u001b[38;5;241m=\u001b[39m [np\u001b[38;5;241m.\u001b[39mzeros(bias\u001b[38;5;241m.\u001b[39mshape) \u001b[38;5;28;01mfor\u001b[39;00m bias \u001b[38;5;129;01min\u001b[39;00m \u001b[38;5;28mself\u001b[39m\u001b[38;5;241m.\u001b[39mlayer_biases]\n\u001b[0;32m---> 34\u001b[0m final_act, acts \u001b[38;5;241m=\u001b[39m \u001b[38;5;28;43mself\u001b[39;49m\u001b[38;5;241;43m.\u001b[39;49m\u001b[43mpropagate_forward\u001b[49m\u001b[43m(\u001b[49m\u001b[43minput_val\u001b[49m\u001b[43m)\u001b[49m\n\u001b[1;32m     35\u001b[0m z_values \u001b[38;5;241m=\u001b[39m [np\u001b[38;5;241m.\u001b[39mdot(weight, act) \u001b[38;5;241m+\u001b[39m bias \u001b[38;5;28;01mfor\u001b[39;00m weight, bias, act \u001b[38;5;129;01min\u001b[39;00m \u001b[38;5;28mzip\u001b[39m(\u001b[38;5;28mself\u001b[39m\u001b[38;5;241m.\u001b[39mlayer_weights, \u001b[38;5;28mself\u001b[39m\u001b[38;5;241m.\u001b[39mlayer_biases, acts[:\u001b[38;5;241m-\u001b[39m\u001b[38;5;241m1\u001b[39m])]\n\u001b[1;32m     37\u001b[0m \u001b[38;5;66;03m# Calculate error at the output layer\u001b[39;00m\n",
      "Cell \u001b[0;32mIn[52], line 24\u001b[0m, in \u001b[0;36mMLP.propagate_forward\u001b[0;34m(self, input_activation)\u001b[0m\n\u001b[1;32m     22\u001b[0m \u001b[38;5;28;01mfor\u001b[39;00m biases, weights \u001b[38;5;129;01min\u001b[39;00m \u001b[38;5;28mzip\u001b[39m(\u001b[38;5;28mself\u001b[39m\u001b[38;5;241m.\u001b[39mlayer_biases[:\u001b[38;5;241m-\u001b[39m\u001b[38;5;241m1\u001b[39m], \u001b[38;5;28mself\u001b[39m\u001b[38;5;241m.\u001b[39mlayer_weights[:\u001b[38;5;241m-\u001b[39m\u001b[38;5;241m1\u001b[39m]):\n\u001b[1;32m     23\u001b[0m     input_activation \u001b[38;5;241m=\u001b[39m sigmoid(np\u001b[38;5;241m.\u001b[39mdot(weights, input_activation) \u001b[38;5;241m+\u001b[39m biases)\n\u001b[0;32m---> 24\u001b[0m     activations\u001b[38;5;241m.\u001b[39mappend(input_activation)\n\u001b[1;32m     25\u001b[0m \u001b[38;5;66;03m# Apply linear activation for the last layer\u001b[39;00m\n\u001b[1;32m     26\u001b[0m input_activation \u001b[38;5;241m=\u001b[39m np\u001b[38;5;241m.\u001b[39mdot(\u001b[38;5;28mself\u001b[39m\u001b[38;5;241m.\u001b[39mlayer_weights[\u001b[38;5;241m-\u001b[39m\u001b[38;5;241m1\u001b[39m], input_activation) \u001b[38;5;241m+\u001b[39m \u001b[38;5;28mself\u001b[39m\u001b[38;5;241m.\u001b[39mlayer_biases[\u001b[38;5;241m-\u001b[39m\u001b[38;5;241m1\u001b[39m]\n",
      "\u001b[0;31mKeyboardInterrupt\u001b[0m: "
     ]
    }
   ],
   "source": [
    "mlp_square_1_5.train(\n",
    "    training_data_scaled, epoch_count=15000, learn_rate=0.1, batch_size_input=10,\n",
    "    optimization_method='rmsprop', beta=0.9, epsilon=1e-8, \n",
    "    X_val_scaled = X_test_scaled, y_val_scaled = y_test_scaled, X_val = X_test_multimodal_large, y_val = y_test_multimodal_large, scaler_y = scaler_y,\n",
    "    mse_limit = 100\n",
    ")"
   ]
  },
  {
   "cell_type": "markdown",
   "metadata": {},
   "source": [
    "#### testing"
   ]
  },
  {
   "cell_type": "code",
   "execution_count": 75,
   "metadata": {
    "collapsed": false,
    "is_executing": true,
    "jupyter": {
     "outputs_hidden": false
    }
   },
   "outputs": [],
   "source": [
    "# Generate predictions on the scaled test data\n",
    "predictions_scaled = np.array(\n",
    "    [mlp_square_1_5.propagate_forward(x.reshape(-1, 1))[0] for x in X_test_scaled]\n",
    ")"
   ]
  },
  {
   "cell_type": "code",
   "execution_count": 76,
   "metadata": {
    "is_executing": true
   },
   "outputs": [
    {
     "name": "stdout",
     "output_type": "stream",
     "text": [
      "predicted value:  [37.99527522] actual value:  [38.0481491]\n",
      "predicted value:  [-116.01402869] actual value:  [-116.30927998]\n",
      "predicted value:  [-22.4851113] actual value:  [-22.98888333]\n",
      "predicted value:  [164.02517467] actual value:  [163.49243459]\n",
      "predicted value:  [-50.63075809] actual value:  [-50.79309017]\n",
      "predicted value:  [26.23432452] actual value:  [26.14905307]\n",
      "predicted value:  [-96.15734932] actual value:  [-95.99910634]\n",
      "predicted value:  [-1.28979069] actual value:  [-1.67979449]\n",
      "predicted value:  [12.78673168] actual value:  [11.84130953]\n",
      "predicted value:  [-36.09109689] actual value:  [-36.5786339]\n",
      "predicted value:  [-49.45216052] actual value:  [-49.85187483]\n",
      "predicted value:  [-38.23153982] actual value:  [-38.70966897]\n",
      "predicted value:  [-89.78151881] actual value:  [-89.65420844]\n",
      "predicted value:  [140.53695164] actual value:  [151.89903669]\n",
      "predicted value:  [-86.25534156] actual value:  [-86.1941224]\n",
      "predicted value:  [156.7359515] actual value:  [172.6273849]\n",
      "predicted value:  [-100.5026888] actual value:  [-100.32110445]\n",
      "predicted value:  [-72.27070142] actual value:  [-72.17197075]\n",
      "predicted value:  [-113.41874052] actual value:  [-113.64601417]\n",
      "predicted value:  [128.39423114] actual value:  [128.27243858]\n",
      "predicted value:  [-83.77927811] actual value:  [-83.74861466]\n",
      "predicted value:  [-61.58244] actual value:  [-61.84998947]\n",
      "predicted value:  [-61.84213037] actual value:  [-62.10643046]\n",
      "predicted value:  [-22.97333219] actual value:  [-23.59778146]\n",
      "predicted value:  [-117.67506657] actual value:  [-118.01604062]\n",
      "predicted value:  [-122.62658755] actual value:  [-122.71763816]\n",
      "predicted value:  [77.03487332] actual value:  [77.33467832]\n",
      "predicted value:  [-117.15825492] actual value:  [-117.09194257]\n",
      "predicted value:  [121.8104066] actual value:  [121.7773226]\n",
      "predicted value:  [-98.25215413] actual value:  [-98.19501262]\n",
      "predicted value:  [-42.55427121] actual value:  [-42.84874679]\n",
      "predicted value:  [-63.7449159] actual value:  [-63.98499359]\n",
      "predicted value:  [-15.12609264] actual value:  [-15.86723314]\n",
      "predicted value:  [-124.83876694] actual value:  [-125.38127315]\n",
      "predicted value:  [-74.46618491] actual value:  [-74.56084016]\n",
      "predicted value:  [-86.71740446] actual value:  [-86.65069026]\n",
      "predicted value:  [17.88935697] actual value:  [16.95951543]\n",
      "predicted value:  [-52.29091684] actual value:  [-52.66360937]\n",
      "predicted value:  [-86.82207311] actual value:  [-86.68422539]\n",
      "predicted value:  [-98.6907713] actual value:  [-98.6389582]\n",
      "predicted value:  [-9.28486657] actual value:  [-9.73543362]\n",
      "predicted value:  [-103.55677711] actual value:  [-103.57570396]\n",
      "predicted value:  [-62.29354192] actual value:  [-62.29238045]\n",
      "predicted value:  [-47.26761836] actual value:  [-47.48371089]\n",
      "predicted value:  [171.36218014] actual value:  [192.27905314]\n",
      "predicted value:  [-94.97399338] actual value:  [-94.82453406]\n",
      "predicted value:  [-41.84543665] actual value:  [-42.30353839]\n",
      "predicted value:  [-105.4203991] actual value:  [-105.23323233]\n",
      "predicted value:  [143.62489653] actual value:  [155.77393821]\n",
      "predicted value:  [-128.51262118] actual value:  [-128.92797208]\n",
      "predicted value:  [109.53025714] actual value:  [114.70140678]\n",
      "predicted value:  [-53.90193023] actual value:  [-54.01434023]\n",
      "predicted value:  [196.23369423] actual value:  [228.16989123]\n",
      "predicted value:  [-68.40846647] actual value:  [-68.58662664]\n",
      "predicted value:  [-2.50986393] actual value:  [-2.91029626]\n",
      "predicted value:  [62.24854361] actual value:  [62.58804891]\n",
      "predicted value:  [-115.9398815] actual value:  [-115.84933327]\n",
      "predicted value:  [-101.47207377] actual value:  [-101.45806902]\n",
      "predicted value:  [-84.38017537] actual value:  [-84.34193817]\n",
      "predicted value:  [-104.08840845] actual value:  [-104.11636591]\n",
      "predicted value:  [0.7389353] actual value:  [0.36712491]\n",
      "predicted value:  [211.33894391] actual value:  [211.56582438]\n",
      "predicted value:  [-128.99741586] actual value:  [-129.59650617]\n",
      "predicted value:  [118.85704943] actual value:  [125.5891127]\n",
      "predicted value:  [62.08705475] actual value:  [62.4172721]\n",
      "predicted value:  [93.67102464] actual value:  [93.92081166]\n",
      "predicted value:  [-64.09739828] actual value:  [-64.3329138]\n",
      "predicted value:  [71.30799213] actual value:  [71.60161957]\n",
      "predicted value:  [104.60426849] actual value:  [104.76917065]\n",
      "predicted value:  [-128.65315677] actual value:  [-129.2579797]\n",
      "predicted value:  [131.09862207] actual value:  [140.26034327]\n",
      "predicted value:  [-60.0947343] actual value:  [-60.38061519]\n",
      "predicted value:  [-55.00015949] actual value:  [-55.09642891]\n",
      "predicted value:  [-86.83072609] actual value:  [-86.6928992]\n",
      "predicted value:  [-110.80843913] actual value:  [-110.97243289]\n",
      "predicted value:  [-88.86201887] actual value:  [-88.73069377]\n",
      "predicted value:  [98.43135082] actual value:  [102.03837997]\n",
      "predicted value:  [-120.49148383] actual value:  [-120.51040906]\n",
      "predicted value:  [-34.99484941] actual value:  [-35.48648757]\n",
      "predicted value:  [-129.10598587] actual value:  [-129.58363677]\n",
      "predicted value:  [-56.72070615] actual value:  [-56.79239189]\n",
      "predicted value:  [-125.03571611] actual value:  [-125.58324519]\n",
      "predicted value:  [95.12550296] actual value:  [95.36623166]\n",
      "predicted value:  [125.65417131] actual value:  [125.56977237]\n",
      "predicted value:  [-128.89189367] actual value:  [-129.34445023]\n",
      "predicted value:  [-27.70986117] actual value:  [-28.21629506]\n",
      "predicted value:  [-27.05116274] actual value:  [-27.55786679]\n",
      "predicted value:  [34.71934774] actual value:  [34.73503378]\n",
      "predicted value:  [150.14363201] actual value:  [149.73481671]\n",
      "predicted value:  [-120.9794506] actual value:  [-121.41459516]\n",
      "predicted value:  [-114.32155494] actual value:  [-114.20376672]\n",
      "predicted value:  [-16.54213098] actual value:  [-17.26346803]\n",
      "predicted value:  [55.57578538] actual value:  [55.79414753]\n",
      "predicted value:  [133.60008259] actual value:  [133.40639484]\n",
      "predicted value:  [-119.97114749] actual value:  [-119.97474339]\n",
      "predicted value:  [-93.80624045] actual value:  [-93.66633199]\n",
      "predicted value:  [132.60479683] actual value:  [142.09768429]\n",
      "predicted value:  [-35.61827702] actual value:  [-36.03143612]\n",
      "predicted value:  [-129.36572172] actual value:  [-129.88500121]\n",
      "predicted value:  [-129.18950901] actual value:  [-129.67845046]\n",
      "predicted value:  [-29.38861597] actual value:  [-29.89356302]\n",
      "predicted value:  [-52.25700899] actual value:  [-52.39419603]\n",
      "predicted value:  [-79.21544842] actual value:  [-79.24482485]\n",
      "predicted value:  [-125.00868627] actual value:  [-125.20157676]\n",
      "predicted value:  [-122.65643607] actual value:  [-123.13951026]\n",
      "predicted value:  [57.34316924] actual value:  [57.57392343]\n",
      "predicted value:  [85.05340401] actual value:  [87.15327921]\n",
      "predicted value:  [-81.54905474] actual value:  [-81.40887412]\n",
      "predicted value:  [-45.94148396] actual value:  [-46.37078523]\n",
      "predicted value:  [-126.59333198] actual value:  [-126.87134438]\n",
      "predicted value:  [18.64556399] actual value:  [17.71980484]\n",
      "predicted value:  [-82.51049549] actual value:  [-82.49611365]\n",
      "predicted value:  [91.53392777] actual value:  [94.3154103]\n",
      "predicted value:  [-65.67551739] actual value:  [-65.63604038]\n",
      "predicted value:  [-57.39383204] actual value:  [-57.71164924]\n",
      "predicted value:  [152.88235907] actual value:  [167.60364662]\n",
      "predicted value:  [87.95370753] actual value:  [90.34777308]\n",
      "predicted value:  [-119.82735684] actual value:  [-120.22939109]\n",
      "predicted value:  [-116.65984884] actual value:  [-116.58321493]\n",
      "predicted value:  [2.94812964] actual value:  [2.02558103]\n",
      "predicted value:  [-129.44563007] actual value:  [-129.99823874]\n",
      "predicted value:  [21.97668567] actual value:  [21.83974885]\n",
      "predicted value:  [105.12963504] actual value:  [109.64421622]\n",
      "predicted value:  [-128.13396045] actual value:  [-128.73909926]\n",
      "predicted value:  [78.66610168] actual value:  [78.9654733]\n",
      "predicted value:  [-123.54377342] actual value:  [-124.0516472]\n",
      "predicted value:  [-58.11661166] actual value:  [-58.16903057]\n",
      "predicted value:  [140.95919126] actual value:  [152.42686767]\n",
      "predicted value:  [83.06877981] actual value:  [83.36209003]\n",
      "predicted value:  [48.83769324] actual value:  [48.53791604]\n",
      "predicted value:  [-82.11758283] actual value:  [-81.9766875]\n",
      "predicted value:  [-83.0454191] actual value:  [-83.02412744]\n",
      "predicted value:  [-61.95518409] actual value:  [-61.9581181]\n",
      "predicted value:  [-121.39705564] actual value:  [-121.84420056]\n",
      "predicted value:  [-129.1847268] actual value:  [-129.77660442]\n",
      "predicted value:  [-33.25948898] actual value:  [-33.71313163]\n",
      "predicted value:  [-101.8449859] actual value:  [-101.83658192]\n",
      "predicted value:  [128.66234803] actual value:  [137.30383367]\n",
      "predicted value:  [-102.06072725] actual value:  [-102.05562112]\n",
      "predicted value:  [205.91460934] actual value:  [205.90716589]\n",
      "predicted value:  [9.27258078] actual value:  [8.32781775]\n",
      "predicted value:  [68.87026386] actual value:  [69.15768097]\n",
      "predicted value:  [84.12161919] actual value:  [86.13061672]\n",
      "predicted value:  [5.69288176] actual value:  [4.75754908]\n",
      "predicted value:  [-53.35838871] actual value:  [-53.72024519]\n",
      "predicted value:  [-53.87531593] actual value:  [-53.98812119]\n",
      "predicted value:  [-8.11964085] actual value:  [-8.94844933]\n",
      "predicted value:  [-120.18117424] actual value:  [-120.19085977]\n",
      "predicted value:  [113.05934218] actual value:  [118.79332791]\n",
      "predicted value:  [-128.25778795] actual value:  [-128.86343495]\n",
      "predicted value:  [-75.80197714] actual value:  [-75.68117311]\n",
      "predicted value:  [89.54234298] actual value:  [89.81385559]\n",
      "predicted value:  [-9.40157555] actual value:  [-10.21575814]\n",
      "predicted value:  [-128.90899282] actual value:  [-129.36340849]\n",
      "predicted value:  [183.86678037] actual value:  [209.8963499]\n",
      "predicted value:  [-128.54606704] actual value:  [-128.96445325]\n",
      "predicted value:  [-110.96987796] actual value:  [-111.13762486]\n",
      "predicted value:  [195.98587567] actual value:  [227.79464575]\n",
      "predicted value:  [-123.52770135] actual value:  [-123.65425719]\n",
      "predicted value:  [-125.52061188] actual value:  [-126.0801264]\n",
      "predicted value:  [-110.82131559] actual value:  [-110.661576]\n",
      "predicted value:  [147.99986187] actual value:  [161.32371025]\n",
      "predicted value:  [-96.56448365] actual value:  [-96.4034396]\n",
      "predicted value:  [-85.03359416] actual value:  [-84.89266142]\n",
      "predicted value:  [38.60849165] actual value:  [37.98404837]\n",
      "predicted value:  [-9.64501437] actual value:  [-10.45634285]\n",
      "predicted value:  [-106.45195681] actual value:  [-106.52316891]\n",
      "predicted value:  [-86.62437891] actual value:  [-86.55876527]\n",
      "predicted value:  [40.34522053] actual value:  [39.76688901]\n",
      "predicted value:  [-116.35969954] actual value:  [-116.66433917]\n",
      "predicted value:  [-48.63124864] actual value:  [-48.82528289]\n",
      "predicted value:  [-97.49264675] actual value:  [-97.42668342]\n",
      "predicted value:  [83.52608038] actual value:  [85.47790667]\n",
      "predicted value:  [-68.58606831] actual value:  [-68.51774619]\n",
      "predicted value:  [64.42344904] actual value:  [64.89206011]\n",
      "predicted value:  [-126.89476181] actual value:  [-127.48391195]\n",
      "predicted value:  [-49.66220844] actual value:  [-50.0600156]\n",
      "predicted value:  [144.30565165] actual value:  [156.63282795]\n",
      "predicted value:  [-113.1721279] actual value:  [-113.39319318]\n",
      "predicted value:  [37.93605263] actual value:  [37.98826683]\n",
      "predicted value:  [-114.72181972] actual value:  [-114.98264336]\n",
      "predicted value:  [-126.67389582] actual value:  [-127.25886343]\n",
      "predicted value:  [172.81192463] actual value:  [172.25194635]\n",
      "predicted value:  [-19.89237453] actual value:  [-20.39080668]\n",
      "predicted value:  [-128.61434211] actual value:  [-129.21945392]\n",
      "predicted value:  [208.04478276] actual value:  [208.12326481]\n",
      "predicted value:  [-69.92484925] actual value:  [-69.84465453]\n",
      "predicted value:  [17.15752268] actual value:  [16.22417852]\n",
      "predicted value:  [-22.52420782] actual value:  [-23.02804024]\n",
      "predicted value:  [67.62342423] actual value:  [67.90685616]\n",
      "predicted value:  [-79.8015891] actual value:  [-79.66499985]\n",
      "predicted value:  [117.0992018] actual value:  [117.12632457]\n",
      "predicted value:  [118.12050679] actual value:  [118.1348806]\n",
      "predicted value:  [6.47480749] actual value:  [6.15958787]\n",
      "predicted value:  [-98.86366106] actual value:  [-98.81399546]\n",
      "predicted value:  [-85.66478259] actual value:  [-85.61068741]\n",
      "predicted value:  [-52.96511385] actual value:  [-53.09154991]\n",
      "predicted value:  [172.26434194] actual value:  [171.704551]\n",
      "predicted value:  [75.20557267] actual value:  [76.4304708]\n",
      "predicted value:  [-85.01421918] actual value:  [-84.87326619]\n",
      "predicted value:  [-106.30166031] actual value:  [-106.11631351]\n",
      "predicted value:  [-33.64846554] actual value:  [-34.09544533]\n",
      "predicted value:  [134.91642062] actual value:  [134.70455261]\n",
      "predicted value:  [-117.65401836] actual value:  [-117.5985547]\n",
      "predicted value:  [-102.14816384] actual value:  [-102.14440633]\n",
      "predicted value:  [-113.22549826] actual value:  [-113.09221304]\n",
      "predicted value:  [-114.79364585] actual value:  [-114.68324952]\n",
      "predicted value:  [78.73603557] actual value:  [79.03536672]\n",
      "predicted value:  [-105.6418214] actual value:  [-105.4550235]\n",
      "predicted value:  [62.50088639] actual value:  [62.76236659]\n",
      "predicted value:  [127.1722031] actual value:  [127.06715116]\n",
      "predicted value:  [-123.07956573] actual value:  [-123.18804814]\n",
      "predicted value:  [-41.96308389] actual value:  [-42.42044759]\n",
      "predicted value:  [-112.97621047] actual value:  [-113.19237669]\n",
      "predicted value:  [55.1165816] actual value:  [55.0837765]\n",
      "predicted value:  [155.77652949] actual value:  [155.30813447]\n",
      "predicted value:  [-34.40520223] actual value:  [-34.83920224]\n",
      "predicted value:  [175.97104216] actual value:  [198.67883467]\n",
      "predicted value:  [-22.67265148] actual value:  [-23.30184945]\n",
      "predicted value:  [-29.47514593] actual value:  [-29.99309579]\n",
      "predicted value:  [-125.23311248] actual value:  [-125.43705689]\n",
      "predicted value:  [-92.00213834] actual value:  [-91.87855772]\n",
      "predicted value:  [-129.43414291] actual value:  [-129.99642924]\n",
      "predicted value:  [81.08405951] actual value:  [82.80878814]\n",
      "predicted value:  [-100.51221196] actual value:  [-100.33059364]\n",
      "predicted value:  [-106.90272387] actual value:  [-106.71917015]\n",
      "predicted value:  [-43.62610579] actual value:  [-43.90251547]\n",
      "predicted value:  [-28.92400076] actual value:  [-29.45120967]\n",
      "predicted value:  [-99.06949617] actual value:  [-99.02242216]\n",
      "predicted value:  [-76.59991773] actual value:  [-76.47515498]\n",
      "predicted value:  [-23.92470557] actual value:  [-24.43030205]\n",
      "predicted value:  [-23.15511873] actual value:  [-23.77668805]\n",
      "predicted value:  [-127.1402213] actual value:  [-127.73366073]\n",
      "predicted value:  [34.52380193] actual value:  [34.53722706]\n",
      "predicted value:  [-44.32823877] actual value:  [-44.59288151]\n",
      "predicted value:  [-127.14540124] actual value:  [-127.73892666]\n",
      "predicted value:  [30.92619992] actual value:  [30.89736524]\n",
      "predicted value:  [-88.64814606] actual value:  [-88.51598381]\n",
      "predicted value:  [-129.4229473] actual value:  [-129.95825677]\n",
      "predicted value:  [-23.21883048] actual value:  [-23.72363507]\n",
      "predicted value:  [18.66447333] actual value:  [17.73882235]\n",
      "predicted value:  [218.98882779] actual value:  [219.63942399]\n",
      "predicted value:  [170.42983084] actual value:  [169.87223406]\n",
      "predicted value:  [-129.09372602] actual value:  [-129.56980972]\n",
      "predicted value:  [75.20067541] actual value:  [76.42518391]\n",
      "predicted value:  [-124.12254314] actual value:  [-124.27445463]\n",
      "predicted value:  [160.87127394] actual value:  [178.08725612]\n",
      "predicted value:  [167.45527958] actual value:  [166.90608159]\n",
      "predicted value:  [185.83916461] actual value:  [212.75114683]\n",
      "predicted value:  [-121.49248039] actual value:  [-121.54327775]\n",
      "predicted value:  [-44.86938923] actual value:  [-45.30683841]\n",
      "predicted value:  [10.52244888] actual value:  [9.57644042]\n",
      "predicted value:  [-70.79009128] actual value:  [-70.70271642]\n",
      "predicted value:  [-125.39649891] actual value:  [-125.95300237]\n",
      "predicted value:  [-112.81799488] actual value:  [-113.03022642]\n",
      "predicted value:  [-94.63257611] actual value:  [-94.48582145]\n",
      "predicted value:  [-111.45614676] actual value:  [-111.30244131]\n",
      "predicted value:  [-54.25928254] actual value:  [-54.6117198]\n",
      "predicted value:  [-83.71066889] actual value:  [-83.5689898]\n",
      "predicted value:  [52.45108352] actual value:  [52.29826959]\n",
      "predicted value:  [144.24273016] actual value:  [156.55337039]\n",
      "predicted value:  [168.79520412] actual value:  [168.2415097]\n",
      "predicted value:  [172.66568208] actual value:  [194.07843348]\n",
      "predicted value:  [125.01570094] actual value:  [124.93993174]\n",
      "predicted value:  [-104.36647872] actual value:  [-104.39926204]\n",
      "predicted value:  [-73.2100951] actual value:  [-73.32217212]\n",
      "predicted value:  [-122.96978059] actual value:  [-123.07396284]\n",
      "predicted value:  [-62.82984632] actual value:  [-62.82228762]\n",
      "predicted value:  [186.56930077] actual value:  [213.81347314]\n",
      "predicted value:  [-120.67112545] actual value:  [-121.09740252]\n",
      "predicted value:  [-111.34442108] actual value:  [-111.18960593]\n",
      "predicted value:  [192.92055461] actual value:  [223.18482792]\n",
      "predicted value:  [-91.57827867] actual value:  [-91.45879007]\n",
      "predicted value:  [81.00303151] actual value:  [82.72042477]\n",
      "predicted value:  [102.87009518] actual value:  [103.05093805]\n",
      "predicted value:  [95.95279104] actual value:  [99.2508307]\n",
      "predicted value:  [-123.70407154] actual value:  [-123.83797779]\n",
      "predicted value:  [-40.70191212] actual value:  [-41.02785306]\n",
      "predicted value:  [-120.48759749] actual value:  [-120.50640519]\n",
      "predicted value:  [165.42015107] actual value:  [164.87989358]\n",
      "predicted value:  [-55.27432438] actual value:  [-55.61585781]\n",
      "predicted value:  [-116.57625738] actual value:  [-116.88681446]\n",
      "predicted value:  [-129.3353143] actual value:  [-129.91604466]\n",
      "predicted value:  [-87.40423508] actual value:  [-87.32948804]\n",
      "predicted value:  [-127.94293486] actual value:  [-128.54676443]\n",
      "predicted value:  [-70.00214915] actual value:  [-69.92129699]\n",
      "predicted value:  [-126.6493531] actual value:  [-126.93071962]\n",
      "predicted value:  [-50.06454705] actual value:  [-50.45865922]\n",
      "predicted value:  [-23.2601888] actual value:  [-23.76504525]\n",
      "predicted value:  [12.58228854] actual value:  [12.33406612]\n",
      "predicted value:  [-90.02775823] actual value:  [-89.90163828]\n",
      "predicted value:  [90.15546194] actual value:  [90.42412709]\n",
      "predicted value:  [-77.43254945] actual value:  [-77.30407803]\n",
      "predicted value:  [-72.99189369] actual value:  [-73.10699643]\n",
      "predicted value:  [6.2362909] actual value:  [5.29898507]\n",
      "predicted value:  [197.51629234] actual value:  [197.24019481]\n",
      "predicted value:  [28.50594078] actual value:  [27.67959659]\n",
      "predicted value:  [27.25468832] actual value:  [26.41071123]\n",
      "predicted value:  [-106.55833834] actual value:  [-106.37370137]\n",
      "predicted value:  [-50.6307094] actual value:  [-51.01952963]\n",
      "MSE Score: 28.767114219212544\n"
     ]
    }
   ],
   "source": [
    "# Correctly denormalize predictions\n",
    "predictions = scaler_y.inverse_transform(predictions_scaled.reshape(-1, 1))\n",
    "\n",
    "# Calculate MSE score\n",
    "for i in range(len(predictions)):\n",
    "    print(\"predicted value: \",  predictions[i], \"actual value: \", y_test_square_large[i])\n",
    "mse_score = mse(predictions, y_test_square_large)\n",
    "\n",
    "print(f\"MSE Score: {mse_score}\")"
   ]
  },
  {
   "cell_type": "code",
   "execution_count": null,
   "metadata": {
    "collapsed": false,
    "jupyter": {
     "outputs_hidden": false
    }
   },
   "outputs": [],
   "source": []
  },
  {
   "cell_type": "markdown",
   "metadata": {},
   "source": [
    "### steps-large dataset"
   ]
  },
  {
   "cell_type": "code",
   "execution_count": 572,
   "metadata": {
    "ExecuteTime": {
     "end_time": "2024-03-12T09:40:01.624544Z",
     "start_time": "2024-03-12T09:40:01.621101Z"
    },
    "collapsed": false,
    "jupyter": {
     "outputs_hidden": false
    }
   },
   "outputs": [],
   "source": [
    "df_train_steps_large = pd.read_csv(\"data/regression/steps-large-test.csv\")"
   ]
  },
  {
   "cell_type": "code",
   "execution_count": 573,
   "metadata": {
    "ExecuteTime": {
     "end_time": "2024-03-12T09:40:01.747795Z",
     "start_time": "2024-03-12T09:40:01.745949Z"
    },
    "collapsed": false,
    "jupyter": {
     "outputs_hidden": false
    }
   },
   "outputs": [],
   "source": [
    "scaler_X = DataScaler(method=\"standardization\")\n",
    "scaler_y = DataScaler(method=\"standardization\")\n"
   ]
  },
  {
   "cell_type": "code",
   "execution_count": 574,
   "metadata": {
    "ExecuteTime": {
     "end_time": "2024-03-12T09:40:01.925967Z",
     "start_time": "2024-03-12T09:40:01.922826Z"
    },
    "collapsed": false,
    "jupyter": {
     "outputs_hidden": false
    }
   },
   "outputs": [],
   "source": [
    "df_test_steps_large = pd.read_csv(\"data/regression/steps-large-test.csv\")\n",
    "\n",
    "X_test_steps_small = df_test_steps_large[\"x\"].values.reshape(-1, 1)\n",
    "y_test_steps_small = df_test_steps_large[\"y\"].values.reshape(-1, 1)"
   ]
  },
  {
   "cell_type": "code",
   "execution_count": 575,
   "metadata": {
    "ExecuteTime": {
     "end_time": "2024-03-12T09:40:02.084998Z",
     "start_time": "2024-03-12T09:40:02.082490Z"
    }
   },
   "outputs": [
    {
     "name": "stdout",
     "output_type": "stream",
     "text": [
      "[array([[ 0.22499592],\n",
      "       [ 0.66393297],\n",
      "       [ 0.81579735],\n",
      "       [-0.93381363],\n",
      "       [-1.56887485]]), array([[ 0.48408992, -0.90893581,  0.74451279,  0.26491836, -0.60762049],\n",
      "       [ 0.21036234,  0.76803741,  0.00444413,  0.28424456, -0.40550138],\n",
      "       [ 0.40071939, -0.39049337,  0.0533959 ,  0.28357303, -0.51281637],\n",
      "       [-0.09733522,  0.20233363, -0.15237367, -0.91242117, -0.4788253 ],\n",
      "       [ 0.66472232,  0.17079079,  0.40099151,  0.12026128,  0.05577142]]), array([[ 0.33198014, -0.44144792, -0.19640651, -0.21308176,  0.46809915]])]\n"
     ]
    }
   ],
   "source": [
    "mlp_steps = MLP([1, 5, 5, 1])"
   ]
  },
  {
   "cell_type": "code",
   "execution_count": 576,
   "metadata": {
    "ExecuteTime": {
     "end_time": "2024-03-12T09:40:02.256390Z",
     "start_time": "2024-03-12T09:40:02.254411Z"
    },
    "collapsed": false,
    "jupyter": {
     "outputs_hidden": false
    }
   },
   "outputs": [],
   "source": [
    "# Fit and transform the training data\n",
    "X_train_scaled2 = scaler_X.fit_transform(X_train_steps_small)\n",
    "y_train_scaled2 = scaler_y.fit_transform(y_train_steps_small)\n"
   ]
  },
  {
   "cell_type": "code",
   "execution_count": 577,
   "metadata": {
    "ExecuteTime": {
     "end_time": "2024-03-12T09:40:02.416635Z",
     "start_time": "2024-03-12T09:40:02.414683Z"
    },
    "collapsed": false,
    "jupyter": {
     "outputs_hidden": false
    }
   },
   "outputs": [],
   "source": [
    "training_data_scaled2 = [\n",
    "    (x.reshape(-1, 1), y) for x, y in zip(X_train_scaled2, y_train_scaled2)\n",
    "]"
   ]
  },
  {
   "cell_type": "code",
   "execution_count": 578,
   "metadata": {
    "ExecuteTime": {
     "end_time": "2024-03-12T09:40:09.514762Z",
     "start_time": "2024-03-12T09:40:02.701498Z"
    },
    "collapsed": false,
    "jupyter": {
     "outputs_hidden": false
    }
   },
   "outputs": [],
   "source": [
    "mlp_steps.train(\n",
    "    training_data_scaled2, epochs=5000, learning_rate=0.1, batch_size=10\n",
    ")"
   ]
  },
  {
   "cell_type": "markdown",
   "metadata": {
    "collapsed": false,
    "jupyter": {
     "outputs_hidden": false
    }
   },
   "source": [
    "#### testing"
   ]
  },
  {
   "cell_type": "code",
   "execution_count": 579,
   "metadata": {
    "ExecuteTime": {
     "end_time": "2024-03-12T09:40:09.517341Z",
     "start_time": "2024-03-12T09:40:09.515800Z"
    },
    "collapsed": false,
    "jupyter": {
     "outputs_hidden": false
    }
   },
   "outputs": [],
   "source": [
    "# Scale the test data using the transform method\n",
    "X_test_scaled2 = scaler_X.transform(X_test_steps_small)"
   ]
  },
  {
   "cell_type": "code",
   "execution_count": 580,
   "metadata": {
    "ExecuteTime": {
     "end_time": "2024-03-12T09:40:09.520388Z",
     "start_time": "2024-03-12T09:40:09.517913Z"
    },
    "collapsed": false,
    "jupyter": {
     "outputs_hidden": false
    }
   },
   "outputs": [],
   "source": [
    "# Generate predictions on the scaled test data\n",
    "predictions_scaled2 = np.array(\n",
    "    [mlp_steps.feedforward(x.reshape(-1, 1))[0] for x in X_test_scaled2]\n",
    ")"
   ]
  },
  {
   "cell_type": "code",
   "execution_count": 581,
   "metadata": {
    "ExecuteTime": {
     "end_time": "2024-03-12T09:40:09.525055Z",
     "start_time": "2024-03-12T09:40:09.521280Z"
    },
    "collapsed": false,
    "jupyter": {
     "outputs_hidden": false
    }
   },
   "outputs": [
    {
     "name": "stdout",
     "output_type": "stream",
     "text": [
      "predicted value:  [-75.68118152] actual value:  [-80]\n",
      "predicted value:  [92.72419888] actual value:  [80]\n",
      "predicted value:  [-88.27325684] actual value:  [-80]\n",
      "predicted value:  [-70.89335599] actual value:  [-80]\n",
      "predicted value:  [-78.9464397] actual value:  [-80]\n",
      "predicted value:  [18.76146075] actual value:  [0]\n",
      "predicted value:  [21.79168549] actual value:  [0]\n",
      "predicted value:  [-87.52498457] actual value:  [-80]\n",
      "predicted value:  [-74.5456806] actual value:  [-80]\n",
      "predicted value:  [25.60761617] actual value:  [0]\n",
      "predicted value:  [93.10415354] actual value:  [80]\n",
      "predicted value:  [62.59932508] actual value:  [80]\n",
      "predicted value:  [96.49685706] actual value:  [80]\n",
      "predicted value:  [-75.53582894] actual value:  [-80]\n",
      "predicted value:  [46.21620138] actual value:  [80]\n",
      "predicted value:  [78.11865653] actual value:  [80]\n",
      "predicted value:  [-18.89331856] actual value:  [0]\n",
      "predicted value:  [146.8935984] actual value:  [160]\n",
      "predicted value:  [-81.84228729] actual value:  [-80]\n",
      "predicted value:  [23.07946481] actual value:  [0]\n",
      "predicted value:  [-30.48132975] actual value:  [0]\n",
      "predicted value:  [-28.04612703] actual value:  [0]\n",
      "predicted value:  [-43.76135422] actual value:  [0]\n",
      "predicted value:  [147.7345774] actual value:  [160]\n",
      "predicted value:  [90.61428517] actual value:  [80]\n",
      "predicted value:  [100.6010311] actual value:  [80]\n",
      "predicted value:  [131.51212121] actual value:  [160]\n",
      "predicted value:  [64.45596002] actual value:  [80]\n",
      "predicted value:  [72.98981599] actual value:  [80]\n",
      "predicted value:  [139.46557466] actual value:  [160]\n",
      "predicted value:  [-77.13202844] actual value:  [-80]\n",
      "predicted value:  [140.26461174] actual value:  [160]\n",
      "predicted value:  [140.62864897] actual value:  [160]\n",
      "predicted value:  [-81.65980438] actual value:  [-80]\n",
      "predicted value:  [114.17840917] actual value:  [80]\n",
      "predicted value:  [93.89184914] actual value:  [80]\n",
      "predicted value:  [47.06237761] actual value:  [80]\n",
      "predicted value:  [-45.13980413] actual value:  [0]\n",
      "predicted value:  [-88.07041243] actual value:  [-80]\n",
      "predicted value:  [-44.24876331] actual value:  [0]\n",
      "predicted value:  [-72.01461899] actual value:  [-80]\n",
      "predicted value:  [-64.68786205] actual value:  [-80]\n",
      "predicted value:  [-2.70929629] actual value:  [0]\n",
      "predicted value:  [-88.48435243] actual value:  [-80]\n",
      "predicted value:  [99.7232701] actual value:  [80]\n",
      "predicted value:  [103.919739] actual value:  [80]\n",
      "predicted value:  [-78.35004589] actual value:  [-80]\n",
      "predicted value:  [-68.61889177] actual value:  [-80]\n",
      "predicted value:  [148.16395026] actual value:  [160]\n",
      "predicted value:  [131.21582562] actual value:  [160]\n",
      "MSE Score: 408.8511155751466\n"
     ]
    }
   ],
   "source": [
    "# Correctly denormalize predictions\n",
    "predictions2 = scaler_y.inverse_transform(predictions_scaled2.reshape(-1, 1))\n",
    "\n",
    "# Calculate MSE score\n",
    "for i in range(len(predictions2)):\n",
    "    print(\"predicted value: \",  predictions2[i], \"actual value: \", y_test_steps_small[i])\n",
    "mse_score2 = mse(predictions2, y_test_steps_small)\n",
    "\n",
    "print(f\"MSE Score: {mse_score2}\")"
   ]
  },
  {
   "cell_type": "code",
   "execution_count": 524,
   "metadata": {
    "ExecuteTime": {
     "end_time": "2024-03-12T09:36:21.435810Z",
     "start_time": "2024-03-12T09:36:21.433177Z"
    },
    "collapsed": false,
    "jupyter": {
     "outputs_hidden": false
    }
   },
   "outputs": [],
   "source": [
    "# nie ma optymalnego mse :(((("
   ]
  }
 ],
 "metadata": {
  "kernelspec": {
   "display_name": "Python 3 (ipykernel)",
   "language": "python",
   "name": "python3"
  },
  "language_info": {
   "codemirror_mode": {
    "name": "ipython",
    "version": 3
   },
   "file_extension": ".py",
   "mimetype": "text/x-python",
   "name": "python",
   "nbconvert_exporter": "python",
   "pygments_lexer": "ipython3",
   "version": "3.12.2"
  }
 },
 "nbformat": 4,
 "nbformat_minor": 4
}
