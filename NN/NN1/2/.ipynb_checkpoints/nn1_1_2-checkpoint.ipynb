{
 "cells": [
  {
   "cell_type": "markdown",
   "metadata": {},
   "source": [
    "# Defining MLP"
   ]
  },
  {
   "cell_type": "code",
   "execution_count": 1,
   "metadata": {
    "ExecuteTime": {
     "end_time": "2024-03-11T19:56:00.800803Z",
     "start_time": "2024-03-11T19:56:00.797824Z"
    }
   },
   "outputs": [
    {
     "name": "stdout",
     "output_type": "stream",
     "text": [
      "/Users/mikolajmroz/Developer/Computational_Intelligence_Methods\n"
     ]
    }
   ],
   "source": [
    "import os\n",
    "os.chdir('/Users/mikolajmroz/Developer/Computational_Intelligence_Methods')\n",
    "print(os.getcwd())"
   ]
  },
  {
   "cell_type": "code",
   "execution_count": 2,
   "metadata": {
    "ExecuteTime": {
     "end_time": "2024-03-11T21:56:49.715001Z",
     "start_time": "2024-03-11T21:56:49.712532Z"
    }
   },
   "outputs": [],
   "source": [
    "import numpy as np\n",
    "import pandas as pd \n",
    "import matplotlib as plt"
   ]
  },
  {
   "cell_type": "code",
   "execution_count": 3,
   "metadata": {
    "ExecuteTime": {
     "end_time": "2024-03-11T19:56:16.969958Z",
     "start_time": "2024-03-11T19:56:16.968195Z"
    }
   },
   "outputs": [],
   "source": [
    "def sigmoid(x):\n",
    "    return 1 / (1 + np.exp(-x))"
   ]
  },
  {
   "cell_type": "code",
   "execution_count": 4,
   "metadata": {
    "ExecuteTime": {
     "end_time": "2024-03-11T19:56:16.971925Z",
     "start_time": "2024-03-11T19:56:16.970406Z"
    }
   },
   "outputs": [],
   "source": [
    "def sigmoid_derivative(x):\n",
    "    # Corrected sigmoid derivative to properly compute the derivative\n",
    "    return sigmoid(x) * (1 - sigmoid(x))"
   ]
  },
  {
   "cell_type": "code",
   "execution_count": 5,
   "metadata": {
    "ExecuteTime": {
     "end_time": "2024-03-11T19:56:16.974850Z",
     "start_time": "2024-03-11T19:56:16.973267Z"
    }
   },
   "outputs": [],
   "source": [
    "def mse(predictions, targets):\n",
    "    return np.mean((predictions - targets) ** 2)"
   ]
  },
  {
   "cell_type": "code",
   "execution_count": 6,
   "metadata": {
    "ExecuteTime": {
     "end_time": "2024-03-11T21:57:11.662988Z",
     "start_time": "2024-03-11T21:57:11.651928Z"
    }
   },
   "outputs": [],
   "source": [
    "class MLP:\n",
    "    def __init__(self, layer_sizes,function='sigmoid'):\n",
    "        self.layer_sizes = layer_sizes\n",
    "        self.weights = [np.random.randn(y, x) * np.sqrt(2. / x)\n",
    "                        for x, y in zip(layer_sizes[:-1], layer_sizes[1:])]\n",
    "        self.biases = [np.random.randn(y, 1) for y in layer_sizes[1:]]\n",
    "\n",
    "        print(self.weights)\n",
    "\n",
    "    def print_final_weights_and_biases(self):\n",
    "        print(\"Final Weights and Biases:\")\n",
    "        for i, (w, b) in enumerate(zip(self.weights, self.biases)):\n",
    "            print(f\"Layer {i + 1} Weights:\\n{w}\")\n",
    "            print(f\"Layer {i + 1} Biases:\\n{b}\")\n",
    "\n",
    "    def feedforward(self, a):\n",
    "        activations = [a]  # Stores all activations\n",
    "        for b, w in zip(self.biases[:-1], self.weights[:-1]):\n",
    "            a = sigmoid(np.dot(w, a)+ b) \n",
    "            activations.append(a)\n",
    "        # Linear activation for the last layer\n",
    "        a = np.dot(self.weights[-1], a) + self.biases[-1]\n",
    "        activations.append(a)\n",
    "        return activations[-1], activations  # Return final activation and all activations\n",
    "\n",
    "    def backprop(self, x, y):\n",
    "        nabla_w = [np.zeros(w.shape) for w in self.weights]\n",
    "        nabla_b = [np.zeros(b.shape) for b in self.biases]\n",
    "        final_output, activations = self.feedforward(x)\n",
    "        zs = [np.dot(w, act) + b for w, b, act in zip(self.weights, self.biases, activations[:-1])]  # Z values\n",
    "\n",
    "        # Output layer error\n",
    "        delta = self.cost_derivative(final_output, y)\n",
    "        nabla_b[-1] = delta\n",
    "        nabla_w[-1] = np.dot(delta, activations[-2].T)\n",
    "\n",
    "        # Backpropagate the error\n",
    "        for l in range(2, len(self.layer_sizes)):\n",
    "            sp = sigmoid_derivative(zs[-l])\n",
    "            delta = np.dot(self.weights[-l + 1].T, delta) * sp\n",
    "            nabla_b[-l] = delta\n",
    "            nabla_w[-l] = np.dot(delta, activations[-l - 1].T)\n",
    "\n",
    "        return nabla_w, nabla_b\n",
    "\n",
    "    def update_mini_batch(self, mini_batch, learning_rate, lambda_, n):\n",
    "        nabla_w = [np.zeros(w.shape) for w in self.weights]\n",
    "        nabla_b = [np.zeros(b.shape) for b in self.biases]\n",
    "        for x, y in mini_batch:\n",
    "            delta_nabla_w, delta_nabla_b = self.backprop(x, y)\n",
    "            nabla_w = [nw + dnw for nw, dnw in zip(nabla_w, delta_nabla_w)]\n",
    "            nabla_b = [nb + dnb for nb, dnb in zip(nabla_b, delta_nabla_b)]\n",
    "\n",
    "        # Update weights with L2 regularization\n",
    "        self.weights = [(1 - learning_rate * (lambda_ / n)) * w - (learning_rate / len(mini_batch)) * nw\n",
    "                        for w, nw in zip(self.weights, nabla_w)]\n",
    "        self.biases = [b - (learning_rate / len(mini_batch)) * nb for b, nb in zip(self.biases, nabla_b)]\n",
    "\n",
    "    def train(self, training_data, epochs, learning_rate, batch_size, lambda_=0.0, update_method='batch',\n",
    "              plot_interval=None):\n",
    "        n = len(training_data)\n",
    "        learning_rate_init = learning_rate\n",
    "        for j in range(epochs):\n",
    "            # Plot weights at the specified interval\n",
    "            if plot_interval and j % plot_interval == 0:\n",
    "                print(f\"Epoch {j}:\")\n",
    "                self.plot_weights()\n",
    "\n",
    "            np.random.shuffle(training_data)\n",
    "            if update_method == 'batch':\n",
    "                mini_batches = [training_data[k:k + batch_size] for k in range(0, n, batch_size)]\n",
    "                for mini_batch in mini_batches:\n",
    "                    self.update_mini_batch(mini_batch, learning_rate, lambda_, n)\n",
    "            elif update_method == 'epoch':\n",
    "                self.update_mini_batch(training_data, learning_rate, lambda_, n)\n",
    "            # Learning rate schedule\n",
    "            learning_rate = learning_rate_init / (1 + 0.01 * j)\n",
    "\n",
    "    def cost_derivative(self, output_activations, y):\n",
    "        return (output_activations - y)\n",
    "    \n",
    "    \n",
    "    def plot_weights(self):\n",
    "        # Plotting the average absolute weight values\n",
    "        epochs, weights = zip(*self.weight_history)\n",
    "        for layer_idx, layer_weights in enumerate(zip(*weights)):\n",
    "            plt.plot(epochs, layer_weights, label=f'Layer {layer_idx + 1}')\n",
    "        \n",
    "        plt.xlabel('Epoch')\n",
    "        plt.ylabel('Average Absolute Weight')\n",
    "        plt.title('Weight Change Over Time')\n",
    "        plt.legend()\n",
    "        plt.show()"
   ]
  },
  {
   "cell_type": "code",
   "execution_count": 7,
   "metadata": {
    "ExecuteTime": {
     "end_time": "2024-03-11T21:56:30.023240Z",
     "start_time": "2024-03-11T21:56:30.018957Z"
    },
    "collapsed": false,
    "jupyter": {
     "outputs_hidden": false
    }
   },
   "outputs": [],
   "source": [
    "class DataScaler:\n",
    "    def __init__(self, method=\"standardization\"):\n",
    "        self.method = method\n",
    "        self.min = None\n",
    "        self.max = None\n",
    "        self.mean = None\n",
    "        self.std = None\n",
    "\n",
    "    def fit_transform(self, data):\n",
    "        if self.method == \"min_max\":\n",
    "            return self.fit_transform_min_max(data)\n",
    "        elif self.method == \"standardization\":\n",
    "            return self.fit_transform_standardization(data)\n",
    "        else:\n",
    "            raise ValueError(\"Unsupported scaling method\")\n",
    "\n",
    "    def transform(self, data):\n",
    "        if self.method == \"min_max\":\n",
    "            return self.transform_min_max(data)\n",
    "        elif self.method == \"standardization\":\n",
    "            return self.transform_standardization(data)\n",
    "        else:\n",
    "            raise ValueError(\"Unsupported scaling method\")\n",
    "\n",
    "    def inverse_transform(self, data):\n",
    "        if self.method == \"min_max\":\n",
    "            return self.inverse_transform_min_max(data)\n",
    "        elif self.method == \"standardization\":\n",
    "            return self.inverse_transform_standardization(data)\n",
    "        else:\n",
    "            raise ValueError(\"Unsupported scaling method\")\n",
    "\n",
    "    def fit_transform_min_max(self, data):\n",
    "        self.min = np.min(data, axis=0)\n",
    "        self.max = np.max(data, axis=0)\n",
    "        return (data - self.min) / (self.max - self.min)\n",
    "\n",
    "    def transform_min_max(self, data):\n",
    "        return (data - self.min) / (self.max - self.min)\n",
    "\n",
    "    def inverse_transform_min_max(self, data):\n",
    "        return data * (self.max - self.min) + self.min\n",
    "\n",
    "    def fit_transform_standardization(self, data):\n",
    "        self.mean = np.mean(data, axis=0)\n",
    "        self.std = np.std(data, axis=0)\n",
    "        return (data - self.mean) / self.std\n",
    "\n",
    "    def transform_standardization(self, data):\n",
    "        return (data - self.mean) / self.std\n",
    "\n",
    "    def inverse_transform_standardization(self, data):\n",
    "        return data * self.std + self.mean\n"
   ]
  },
  {
   "cell_type": "markdown",
   "metadata": {},
   "source": [
    "# Loading data"
   ]
  },
  {
   "cell_type": "code",
   "execution_count": 8,
   "metadata": {
    "ExecuteTime": {
     "end_time": "2024-03-11T19:57:52.104866Z",
     "start_time": "2024-03-11T19:57:52.100513Z"
    }
   },
   "outputs": [],
   "source": [
    "df_train_square_simple = pd.read_csv('./data/regression/square-simple-training.csv')\n",
    "df_test_square_simple = pd.read_csv('./data/regression/square-simple-test.csv')"
   ]
  },
  {
   "cell_type": "code",
   "execution_count": 9,
   "metadata": {
    "ExecuteTime": {
     "end_time": "2024-03-11T19:57:52.328051Z",
     "start_time": "2024-03-11T19:57:52.320393Z"
    }
   },
   "outputs": [],
   "source": [
    "df_train_steps_large = pd.read_csv('./data/regression/steps-large-training.csv')\n",
    "df_test_steps_large = pd.read_csv('./data/regression/steps-large-test.csv')"
   ]
  },
  {
   "cell_type": "code",
   "execution_count": 10,
   "metadata": {
    "ExecuteTime": {
     "end_time": "2024-03-11T19:57:52.450768Z",
     "start_time": "2024-03-11T19:57:52.448670Z"
    }
   },
   "outputs": [],
   "source": [
    "X_train_square_simple = df_train_square_simple['x'].values.reshape(-1, 1)\n",
    "y_train_square_simple = df_train_square_simple['y'].values.reshape(-1, 1)"
   ]
  },
  {
   "cell_type": "code",
   "execution_count": 11,
   "metadata": {
    "ExecuteTime": {
     "end_time": "2024-03-11T19:57:52.570558Z",
     "start_time": "2024-03-11T19:57:52.568715Z"
    }
   },
   "outputs": [],
   "source": [
    "X_test_square_simple = df_test_square_simple['x'].values.reshape(-1, 1)\n",
    "y_test_square_simple = df_test_square_simple['y'].values.reshape(-1, 1)"
   ]
  },
  {
   "cell_type": "code",
   "execution_count": 12,
   "metadata": {
    "ExecuteTime": {
     "end_time": "2024-03-11T19:57:52.809707Z",
     "start_time": "2024-03-11T19:57:52.807571Z"
    }
   },
   "outputs": [],
   "source": [
    "X_train_steps_large = df_train_steps_large['x'].values.reshape(-1, 1)\n",
    "y_train_steps_large = df_train_steps_large['y'].values.reshape(-1, 1)"
   ]
  },
  {
   "cell_type": "code",
   "execution_count": 13,
   "metadata": {
    "ExecuteTime": {
     "end_time": "2024-03-11T19:57:52.983716Z",
     "start_time": "2024-03-11T19:57:52.981880Z"
    }
   },
   "outputs": [],
   "source": [
    "X_test_steps_large = df_test_steps_large['x'].values.reshape(-1, 1)\n",
    "y_test_steps_large = df_test_steps_large['y'].values.reshape(-1, 1)"
   ]
  },
  {
   "cell_type": "markdown",
   "metadata": {},
   "source": [
    "### square-simple dataset"
   ]
  },
  {
   "cell_type": "code",
   "execution_count": 14,
   "metadata": {
    "ExecuteTime": {
     "end_time": "2024-03-11T21:20:15.131831Z",
     "start_time": "2024-03-11T21:20:15.127833Z"
    },
    "collapsed": false,
    "jupyter": {
     "outputs_hidden": false
    }
   },
   "outputs": [],
   "source": [
    "# Initialize the scaler for X and y with the desired scaling method\n",
    "scaler_X = DataScaler(method=\"standardization\")\n",
    "scaler_y = DataScaler(method=\"standardization\")\n",
    "\n",
    "\n",
    "# Fit and transform the training data\n",
    "X_train_scaled = scaler_X.fit_transform(X_train_square_simple)\n",
    "y_train_scaled = scaler_y.fit_transform(y_train_square_simple)\n"
   ]
  },
  {
   "cell_type": "code",
   "execution_count": 15,
   "metadata": {
    "ExecuteTime": {
     "end_time": "2024-03-11T19:57:53.353412Z",
     "start_time": "2024-03-11T19:57:53.350981Z"
    }
   },
   "outputs": [],
   "source": [
    "training_data = [(x.reshape(-1, 1), y) for x, y in zip(X_train_square_simple, y_train_square_simple)]"
   ]
  },
  {
   "cell_type": "code",
   "execution_count": 16,
   "metadata": {
    "ExecuteTime": {
     "end_time": "2024-03-11T21:24:06.180497Z",
     "start_time": "2024-03-11T21:24:06.176821Z"
    }
   },
   "outputs": [
    {
     "name": "stdout",
     "output_type": "stream",
     "text": [
      "[array([[-0.30928401],\n",
      "       [-1.03162708],\n",
      "       [ 0.22585629],\n",
      "       [-1.93205162],\n",
      "       [ 0.0724469 ]]), array([[ 0.14076145,  0.53548206,  0.33485327, -0.19264993,  0.55876384],\n",
      "       [ 1.31150638, -0.13294195,  0.76188053, -0.46474823,  0.97924198],\n",
      "       [-0.16537783, -0.78102817,  0.56696817, -0.69204738, -0.2596795 ],\n",
      "       [-0.25947767, -0.1056244 , -0.21452221, -0.41172364, -0.86687076],\n",
      "       [ 0.04183953,  0.18273437,  0.5208909 ,  0.08828803,  0.81789013]]), array([[-0.47307463,  0.40560605,  0.45939493,  0.1335294 ,  0.32059465]])]\n"
     ]
    }
   ],
   "source": [
    "mlp_square_1_5 = MLP([1, 5, 5, 1])"
   ]
  },
  {
   "cell_type": "code",
   "execution_count": 17,
   "metadata": {
    "ExecuteTime": {
     "end_time": "2024-03-11T21:27:38.983571Z",
     "start_time": "2024-03-11T21:27:11.791390Z"
    },
    "collapsed": false,
    "jupyter": {
     "outputs_hidden": false
    }
   },
   "outputs": [],
   "source": [
    "training_data_scaled = [\n",
    "    (x.reshape(-1, 1), y) for x, y in zip(X_train_scaled, y_train_scaled)\n",
    "]"
   ]
  },
  {
   "cell_type": "code",
   "execution_count": 18,
   "metadata": {
    "collapsed": false,
    "jupyter": {
     "outputs_hidden": false
    }
   },
   "outputs": [],
   "source": [
    "mlp_square_1_5.train(\n",
    "    training_data_scaled, epochs=10000, learning_rate=1, batch_size=10\n",
    ")"
   ]
  },
  {
   "cell_type": "markdown",
   "metadata": {},
   "source": [
    "#### testing"
   ]
  },
  {
   "cell_type": "code",
   "execution_count": 19,
   "metadata": {
    "ExecuteTime": {
     "end_time": "2024-03-11T21:27:38.986568Z",
     "start_time": "2024-03-11T21:27:38.984832Z"
    },
    "collapsed": false,
    "jupyter": {
     "outputs_hidden": false
    }
   },
   "outputs": [],
   "source": [
    "# Scale the test data using the transform method\n",
    "X_test_scaled = scaler_X.transform(X_test_square_simple)"
   ]
  },
  {
   "cell_type": "code",
   "execution_count": 20,
   "metadata": {
    "ExecuteTime": {
     "end_time": "2024-03-11T21:27:38.990203Z",
     "start_time": "2024-03-11T21:27:38.987147Z"
    },
    "collapsed": false,
    "jupyter": {
     "outputs_hidden": false
    }
   },
   "outputs": [],
   "source": [
    "# Generate predictions on the scaled test data\n",
    "predictions_scaled = np.array(\n",
    "    [mlp_square_1_5.feedforward(x.reshape(-1, 1))[0] for x in X_test_scaled]\n",
    ")"
   ]
  },
  {
   "cell_type": "code",
   "execution_count": 21,
   "metadata": {
    "ExecuteTime": {
     "end_time": "2024-03-11T21:27:38.997508Z",
     "start_time": "2024-03-11T21:27:38.991166Z"
    }
   },
   "outputs": [
    {
     "name": "stdout",
     "output_type": "stream",
     "text": [
      "predicted value:  [-41.69411424] actual value:  [-43.4869178]\n",
      "predicted value:  [9.03814764] actual value:  [3.7528081]\n",
      "predicted value:  [-126.41480027] actual value:  [-128.61072132]\n",
      "predicted value:  [4.94585653] actual value:  [5.67182845]\n",
      "predicted value:  [-29.18525623] actual value:  [-27.46916942]\n",
      "predicted value:  [37.33228161] actual value:  [36.53905322]\n",
      "predicted value:  [-56.0651424] actual value:  [-56.38035958]\n",
      "predicted value:  [164.70683239] actual value:  [163.71667642]\n",
      "predicted value:  [-112.22197307] actual value:  [-109.92253645]\n",
      "predicted value:  [-42.12400405] actual value:  [-43.87280887]\n",
      "predicted value:  [-38.55467583] actual value:  [-36.76289151]\n",
      "predicted value:  [-119.49625384] actual value:  [-117.96377078]\n",
      "predicted value:  [4.49553958] actual value:  [5.24004298]\n",
      "predicted value:  [-127.98368752] actual value:  [-128.71571315]\n",
      "predicted value:  [-62.53881745] actual value:  [-61.08193105]\n",
      "predicted value:  [2.1039756] actual value:  [2.94504249]\n",
      "predicted value:  [-66.86147956] actual value:  [-66.12375418]\n",
      "predicted value:  [48.01483203] actual value:  [45.94659944]\n",
      "predicted value:  [-32.7571611] actual value:  [-35.44343445]\n",
      "predicted value:  [-61.69591923] actual value:  [-60.21294992]\n",
      "predicted value:  [154.45053759] actual value:  [152.56039396]\n",
      "predicted value:  [-111.85695789] actual value:  [-113.61118977]\n",
      "predicted value:  [-96.43709621] actual value:  [-96.92892366]\n",
      "predicted value:  [-72.07742193] actual value:  [-70.87526302]\n",
      "predicted value:  [-115.44249146] actual value:  [-117.45634919]\n",
      "predicted value:  [-61.90132818] actual value:  [-61.6352831]\n",
      "predicted value:  [-127.35392213] actual value:  [-129.40068949]\n",
      "predicted value:  [-118.02437392] actual value:  [-116.2889997]\n",
      "predicted value:  [-18.44605097] actual value:  [-22.4051127]\n",
      "predicted value:  [-65.82370802] actual value:  [-65.18253908]\n",
      "predicted value:  [-31.75408747] actual value:  [-30.00706095]\n",
      "predicted value:  [-128.46951605] actual value:  [-129.69254744]\n",
      "predicted value:  [-128.48796829] actual value:  [-129.76750355]\n",
      "predicted value:  [-124.73538575] actual value:  [-127.04872533]\n",
      "predicted value:  [-128.39788053] actual value:  [-129.99872127]\n",
      "predicted value:  [-33.31185808] actual value:  [-35.94423603]\n",
      "predicted value:  [44.11284101] actual value:  [42.9839369]\n",
      "predicted value:  [-99.68787784] actual value:  [-100.44370111]\n",
      "predicted value:  [17.36779599] actual value:  [17.54573642]\n",
      "predicted value:  [-3.25014109] actual value:  [-2.20515614]\n",
      "predicted value:  [137.02599872] actual value:  [134.15409845]\n",
      "predicted value:  [80.4226395] actual value:  [77.7183315]\n",
      "predicted value:  [-118.00734148] actual value:  [-116.26978495]\n",
      "predicted value:  [-101.05474025] actual value:  [-98.3955533]\n",
      "predicted value:  [-23.12375302] actual value:  [-21.50896413]\n",
      "predicted value:  [-19.49265382] actual value:  [-17.95638098]\n",
      "predicted value:  [136.86765555] actual value:  [133.98965463]\n",
      "predicted value:  [16.34955442] actual value:  [16.57471183]\n",
      "predicted value:  [-31.04681159] actual value:  [-33.89758147]\n",
      "predicted value:  [-110.54280942] actual value:  [-108.13660414]\n",
      "predicted value:  [-70.77530413] actual value:  [-69.68552784]\n",
      "predicted value:  [8.80086708] actual value:  [9.36397857]\n",
      "predicted value:  [-27.82051085] actual value:  [-30.97383527]\n",
      "predicted value:  [-27.9784994] actual value:  [-31.11726539]\n",
      "predicted value:  [15.24762919] actual value:  [9.97642442]\n",
      "predicted value:  [29.98223486] actual value:  [25.40471118]\n",
      "predicted value:  [-116.17299651] actual value:  [-118.23465865]\n",
      "predicted value:  [-15.5442593] actual value:  [-19.72530026]\n",
      "predicted value:  [-22.47244226] actual value:  [-20.87078975]\n",
      "predicted value:  [-30.68657952] actual value:  [-28.95151017]\n",
      "predicted value:  [103.04536375] actual value:  [99.79902096]\n",
      "predicted value:  [-119.12898224] actual value:  [-121.35720974]\n",
      "predicted value:  [69.91643474] actual value:  [67.6047287]\n",
      "predicted value:  [-127.87419338] actual value:  [-129.77691346]\n",
      "predicted value:  [-48.08067502] actual value:  [-49.21564086]\n",
      "predicted value:  [-127.89695389] actual value:  [-129.79146125]\n",
      "predicted value:  [188.30528568] actual value:  [190.49225136]\n",
      "predicted value:  [-124.21205473] actual value:  [-126.54052217]\n",
      "predicted value:  [-98.44887188] actual value:  [-95.8050971]\n",
      "predicted value:  [-101.21475048] actual value:  [-98.55565967]\n",
      "predicted value:  [-113.90429966] actual value:  [-115.81120275]\n",
      "predicted value:  [-76.84789105] actual value:  [-76.00435529]\n",
      "predicted value:  [-121.78903183] actual value:  [-120.63751961]\n",
      "predicted value:  [23.9822695] actual value:  [18.99813567]\n",
      "predicted value:  [-127.39145693] actual value:  [-129.42991787]\n",
      "predicted value:  [57.25555079] actual value:  [55.49627515]\n",
      "predicted value:  [-105.25861833] actual value:  [-106.47788817]\n",
      "predicted value:  [-124.35862293] actual value:  [-123.76182729]\n",
      "predicted value:  [-112.61379377] actual value:  [-114.42561341]\n",
      "predicted value:  [110.82165695] actual value:  [107.51443159]\n",
      "predicted value:  [-123.50292942] actual value:  [-125.84102712]\n",
      "predicted value:  [-56.99408934] actual value:  [-57.21536249]\n",
      "predicted value:  [-113.66644891] actual value:  [-115.55615619]\n",
      "predicted value:  [181.92647444] actual value:  [183.08622097]\n",
      "predicted value:  [-117.27587164] actual value:  [-115.44792375]\n",
      "predicted value:  [40.30620026] actual value:  [39.36539837]\n",
      "predicted value:  [-115.72000092] actual value:  [-113.72005709]\n",
      "predicted value:  [-65.4405285] actual value:  [-64.83531778]\n",
      "predicted value:  [33.62565103] actual value:  [29.3892914]\n",
      "predicted value:  [-95.71536563] actual value:  [-93.1198144]\n",
      "predicted value:  [-124.05560987] actual value:  [-123.38417339]\n",
      "predicted value:  [-48.83944127] actual value:  [-49.89600078]\n",
      "predicted value:  [-114.99012873] actual value:  [-112.91826717]\n",
      "predicted value:  [56.35077148] actual value:  [56.25634102]\n",
      "predicted value:  [216.98728411] actual value:  [225.66947795]\n",
      "predicted value:  [25.95098013] actual value:  [25.71940264]\n",
      "predicted value:  [4.14614178] actual value:  [-1.0541075]\n",
      "predicted value:  [87.69706244] actual value:  [84.76730296]\n",
      "predicted value:  [-110.81923048] actual value:  [-112.49269935]\n",
      "predicted value:  [-128.48218986] actual value:  [-129.94295737]\n",
      "MSE Score: 5.561878962803364\n"
     ]
    }
   ],
   "source": [
    "# Correctly denormalize predictions\n",
    "predictions = scaler_y.inverse_transform(predictions_scaled.reshape(-1, 1))\n",
    "\n",
    "# Calculate MSE score\n",
    "for i in range(len(predictions)):\n",
    "    print(\"predicted value: \",  predictions[i], \"actual value: \", y_test_square_simple[i])\n",
    "mse_score = mse(predictions, y_test_square_simple)\n",
    "\n",
    "print(f\"MSE Score: {mse_score}\")"
   ]
  },
  {
   "cell_type": "code",
   "execution_count": 22,
   "metadata": {
    "collapsed": false,
    "jupyter": {
     "outputs_hidden": false
    }
   },
   "outputs": [],
   "source": [
    "# now we can see that the mlp is able to learn and give us mse<4"
   ]
  },
  {
   "cell_type": "markdown",
   "metadata": {},
   "source": [
    "### steps-large dataset"
   ]
  },
  {
   "cell_type": "code",
   "execution_count": 23,
   "metadata": {
    "ExecuteTime": {
     "end_time": "2024-03-11T22:05:28.018624Z",
     "start_time": "2024-03-11T22:05:28.016474Z"
    }
   },
   "outputs": [
    {
     "name": "stdout",
     "output_type": "stream",
     "text": [
      "[array([[-1.79247161e+00],\n",
      "       [ 2.04006677e+00],\n",
      "       [ 2.40143855e-03],\n",
      "       [ 7.33167002e-01],\n",
      "       [-2.89432788e+00],\n",
      "       [ 1.23374425e+00],\n",
      "       [-3.46886882e-01],\n",
      "       [ 1.59660700e+00],\n",
      "       [ 1.19682664e+00],\n",
      "       [-3.27430547e-01]]), array([[ 0.11736947,  0.15110849,  0.15908108,  0.52453264,  0.04734362,\n",
      "         0.5207038 ,  0.43264569, -0.01873716, -0.0101868 ,  0.39511559],\n",
      "       [ 0.16773907,  0.28280446, -0.07712897,  0.83825282,  0.65601633,\n",
      "        -0.28309343, -0.43728905, -0.21323026, -0.67085444, -0.15657081],\n",
      "       [ 0.59429469, -0.31465926, -0.41152953, -0.01929895, -0.15080366,\n",
      "        -0.50873545,  0.52438177,  0.32906505,  0.51540403, -0.15620252],\n",
      "       [ 0.47637948,  0.19261327, -0.38696045,  0.43862943, -0.13888629,\n",
      "        -1.02148455, -0.503669  ,  0.31877931,  0.18163016, -0.61430501],\n",
      "       [-0.30042575,  0.25629724,  0.80249395, -0.44277365, -0.37774083,\n",
      "        -0.34882995,  0.16459672, -0.51188016,  0.00343354,  0.1025923 ]]), array([[-0.21338486,  0.7640986 ,  0.79428051,  0.03396393,  0.59875209],\n",
      "       [-0.4863796 ,  0.46965615,  0.03013993,  0.08082852,  0.85902172],\n",
      "       [ 0.33884877, -1.435962  ,  0.22057051, -0.47643814, -0.41450774],\n",
      "       [-0.58565192,  0.48371831, -0.11073225,  0.09753854,  0.64405804],\n",
      "       [-1.02447836, -0.07967449, -0.03452497,  0.47475083,  0.49409041]]), array([[-1.40308544, -0.07670785,  0.36106946, -0.18264774, -0.74891578]])]\n"
     ]
    }
   ],
   "source": [
    "mlp_steps = MLP([1, 10, 5, 5, 1])"
   ]
  },
  {
   "cell_type": "code",
   "execution_count": 24,
   "metadata": {
    "ExecuteTime": {
     "end_time": "2024-03-11T22:05:28.106379Z",
     "start_time": "2024-03-11T22:05:28.104199Z"
    },
    "collapsed": false,
    "jupyter": {
     "outputs_hidden": false
    }
   },
   "outputs": [],
   "source": [
    "# Fit and transform the training data\n",
    "X_train_scaled2 = scaler_X.fit_transform(X_train_steps_large)\n",
    "y_train_scaled2 = scaler_y.fit_transform(y_train_steps_large)\n"
   ]
  },
  {
   "cell_type": "code",
   "execution_count": 25,
   "metadata": {
    "ExecuteTime": {
     "end_time": "2024-03-11T22:05:28.673435Z",
     "start_time": "2024-03-11T22:05:28.667053Z"
    },
    "collapsed": false,
    "jupyter": {
     "outputs_hidden": false
    }
   },
   "outputs": [],
   "source": [
    "training_data_scaled2 = [\n",
    "    (x.reshape(-1, 1), y) for x, y in zip(X_train_scaled2, y_train_scaled2)\n",
    "]"
   ]
  },
  {
   "cell_type": "code",
   "execution_count": null,
   "metadata": {
    "ExecuteTime": {
     "start_time": "2024-03-11T22:05:28.938950Z"
    },
    "collapsed": false,
    "is_executing": true,
    "jupyter": {
     "outputs_hidden": false
    }
   },
   "outputs": [],
   "source": [
    "mlp_steps.train(\n",
    "    training_data_scaled, epochs=10000, learning_rate=0.1, batch_size=10\n",
    ")"
   ]
  },
  {
   "cell_type": "markdown",
   "metadata": {
    "collapsed": false,
    "jupyter": {
     "outputs_hidden": false
    }
   },
   "source": [
    "#### testing"
   ]
  },
  {
   "cell_type": "code",
   "execution_count": null,
   "metadata": {
    "collapsed": false,
    "is_executing": true,
    "jupyter": {
     "outputs_hidden": false
    }
   },
   "outputs": [],
   "source": [
    "# Scale the test data using the transform method\n",
    "X_test_scaled2 = scaler_X.transform(X_test_steps_large)"
   ]
  },
  {
   "cell_type": "code",
   "execution_count": null,
   "metadata": {
    "collapsed": false,
    "is_executing": true,
    "jupyter": {
     "outputs_hidden": false
    }
   },
   "outputs": [],
   "source": [
    "# Generate predictions on the scaled test data\n",
    "predictions_scaled2 = np.array(\n",
    "    [mlp_steps.feedforward(x.reshape(-1, 1))[0] for x in X_test_scaled2]\n",
    ")"
   ]
  },
  {
   "cell_type": "code",
   "execution_count": null,
   "metadata": {
    "collapsed": false,
    "is_executing": true,
    "jupyter": {
     "outputs_hidden": false
    }
   },
   "outputs": [],
   "source": [
    "# Correctly denormalize predictions\n",
    "predictions2 = scaler_y.inverse_transform(predictions_scaled2.reshape(-1, 1))\n",
    "\n",
    "# Calculate MSE score\n",
    "for i in range(len(predictions2)):\n",
    "    print(\"predicted value: \",  predictions2[i], \"actual value: \", y_test_steps_large[i])\n",
    "mse_score2 = mse(predictions2, y_test_steps_large)\n",
    "\n",
    "print(f\"MSE Score: {mse_score2}\")"
   ]
  },
  {
   "cell_type": "markdown",
   "metadata": {
    "collapsed": false,
    "jupyter": {
     "outputs_hidden": false
    }
   },
   "source": [
    "### multimodal-large dataset"
   ]
  },
  {
   "cell_type": "code",
   "execution_count": null,
   "metadata": {
    "collapsed": false,
    "jupyter": {
     "outputs_hidden": false
    }
   },
   "outputs": [],
   "source": []
  },
  {
   "cell_type": "code",
   "execution_count": null,
   "metadata": {
    "collapsed": false,
    "jupyter": {
     "outputs_hidden": false
    }
   },
   "outputs": [],
   "source": []
  }
 ],
 "metadata": {
  "kernelspec": {
   "display_name": "Python 3 (ipykernel)",
   "language": "python",
   "name": "python3"
  },
  "language_info": {
   "codemirror_mode": {
    "name": "ipython",
    "version": 3
   },
   "file_extension": ".py",
   "mimetype": "text/x-python",
   "name": "python",
   "nbconvert_exporter": "python",
   "pygments_lexer": "ipython3",
   "version": "3.12.2"
  }
 },
 "nbformat": 4,
 "nbformat_minor": 4
}
